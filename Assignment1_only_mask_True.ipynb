{
  "cells": [
    {
      "cell_type": "markdown",
      "metadata": {
        "id": "sz13BvtmN49a"
      },
      "source": [
        "# Imports"
      ]
    },
    {
      "cell_type": "code",
      "execution_count": 1,
      "metadata": {
        "colab": {
          "base_uri": "https://localhost:8080/"
        },
        "id": "6WE9zjHoMn6h",
        "outputId": "0ba2078b-069b-4a2b-c956-679106eb98ce"
      },
      "outputs": [
        {
          "output_type": "stream",
          "name": "stdout",
          "text": [
            "Collecting emoji\n",
            "  Downloading emoji-2.14.0-py3-none-any.whl.metadata (5.7 kB)\n",
            "Downloading emoji-2.14.0-py3-none-any.whl (586 kB)\n",
            "\u001b[?25l   \u001b[90m━━━━━━━━━━━━━━━━━━━━━━━━━━━━━━━━━━━━━━━━\u001b[0m \u001b[32m0.0/586.9 kB\u001b[0m \u001b[31m?\u001b[0m eta \u001b[36m-:--:--\u001b[0m\r\u001b[2K   \u001b[91m━━━━━━━━━━━━━━━━━━━━━━━\u001b[0m\u001b[90m╺\u001b[0m\u001b[90m━━━━━━━━━━━━━━━━\u001b[0m \u001b[32m337.9/586.9 kB\u001b[0m \u001b[31m9.7 MB/s\u001b[0m eta \u001b[36m0:00:01\u001b[0m\r\u001b[2K   \u001b[90m━━━━━━━━━━━━━━━━━━━━━━━━━━━━━━━━━━━━━━━━\u001b[0m \u001b[32m586.9/586.9 kB\u001b[0m \u001b[31m11.0 MB/s\u001b[0m eta \u001b[36m0:00:00\u001b[0m\n",
            "\u001b[?25hInstalling collected packages: emoji\n",
            "Successfully installed emoji-2.14.0\n",
            "Requirement already satisfied: nltk in /usr/local/lib/python3.10/dist-packages (3.9.1)\n",
            "Requirement already satisfied: click in /usr/local/lib/python3.10/dist-packages (from nltk) (8.1.7)\n",
            "Requirement already satisfied: joblib in /usr/local/lib/python3.10/dist-packages (from nltk) (1.4.2)\n",
            "Requirement already satisfied: regex>=2021.8.3 in /usr/local/lib/python3.10/dist-packages (from nltk) (2024.11.6)\n",
            "Requirement already satisfied: tqdm in /usr/local/lib/python3.10/dist-packages (from nltk) (4.67.1)\n",
            "Requirement already satisfied: tqdm in /usr/local/lib/python3.10/dist-packages (4.67.1)\n",
            "Collecting simplejson\n",
            "  Downloading simplejson-3.19.3-cp310-cp310-manylinux_2_5_x86_64.manylinux1_x86_64.manylinux_2_17_x86_64.manylinux2014_x86_64.whl.metadata (3.2 kB)\n",
            "Downloading simplejson-3.19.3-cp310-cp310-manylinux_2_5_x86_64.manylinux1_x86_64.manylinux_2_17_x86_64.manylinux2014_x86_64.whl (137 kB)\n",
            "\u001b[2K   \u001b[90m━━━━━━━━━━━━━━━━━━━━━━━━━━━━━━━━━━━━━━━━\u001b[0m \u001b[32m137.9/137.9 kB\u001b[0m \u001b[31m4.4 MB/s\u001b[0m eta \u001b[36m0:00:00\u001b[0m\n",
            "\u001b[?25hInstalling collected packages: simplejson\n",
            "Successfully installed simplejson-3.19.3\n",
            "Requirement already satisfied: gensim in /usr/local/lib/python3.10/dist-packages (4.3.3)\n",
            "Requirement already satisfied: numpy<2.0,>=1.18.5 in /usr/local/lib/python3.10/dist-packages (from gensim) (1.26.4)\n",
            "Requirement already satisfied: scipy<1.14.0,>=1.7.0 in /usr/local/lib/python3.10/dist-packages (from gensim) (1.13.1)\n",
            "Requirement already satisfied: smart-open>=1.8.1 in /usr/local/lib/python3.10/dist-packages (from gensim) (7.1.0)\n",
            "Requirement already satisfied: wrapt in /usr/local/lib/python3.10/dist-packages (from smart-open>=1.8.1->gensim) (1.17.0)\n"
          ]
        }
      ],
      "source": [
        "!pip install emoji\n",
        "!pip install nltk\n",
        "!pip install tqdm\n",
        "!pip install simplejson\n",
        "!pip install gensim"
      ]
    },
    {
      "cell_type": "code",
      "execution_count": 66,
      "metadata": {
        "id": "C8iazcwMNM8Q"
      },
      "outputs": [],
      "source": [
        "import sys\n",
        "import shutil\n",
        "import json\n",
        "import urllib\n",
        "import tarfile\n",
        "from pathlib import Path\n",
        "import simplejson as sj\n",
        "\n",
        "import pandas as pd\n",
        "import numpy as np\n",
        "\n",
        "from typing import Dict, OrderedDict, List\n",
        "\n",
        "import re\n",
        "import emoji\n",
        "\n",
        "\n",
        "import nltk\n",
        "from nltk.stem import WordNetLemmatizer\n",
        "from nltk import pos_tag\n",
        "from nltk.corpus import wordnet\n",
        "from tqdm import tqdm\n",
        "\n",
        "\n",
        "import gensim\n",
        "import gensim.downloader as gloader\n",
        "\n",
        "\n",
        "\n",
        "from typing import Iterable\n",
        "from tqdm import tqdm\n",
        "\n",
        "\n",
        "import tensorflow as tf\n",
        "from tensorflow.keras.models import Sequential\n",
        "from tensorflow.keras.preprocessing.sequence import pad_sequences\n",
        "from tensorflow.keras.layers import Embedding, Bidirectional, LSTM, Dense, TimeDistributed, Activation, Layer\n",
        "from tensorflow.keras.metrics import Metric"
      ]
    },
    {
      "cell_type": "markdown",
      "metadata": {
        "id": "aorcZzjLOQII"
      },
      "source": [
        "# Task 1: Corpus"
      ]
    },
    {
      "cell_type": "markdown",
      "metadata": {
        "id": "S7xVZIPFOXPT"
      },
      "source": [
        "## 1. Downloading the dataset"
      ]
    },
    {
      "cell_type": "markdown",
      "metadata": {
        "id": "vz0BiOVBOhui"
      },
      "source": [
        "First of all we need to **download** the `A1/data` folder."
      ]
    },
    {
      "cell_type": "code",
      "execution_count": 3,
      "metadata": {
        "id": "5CFbK72BOtVu"
      },
      "outputs": [],
      "source": [
        "class DownloadProgressBar(tqdm):\n",
        "    def update_to(self, b=1, bsize=1, tsize=None):\n",
        "        if tsize is not None:\n",
        "            self.total = tsize\n",
        "        self.update(b * bsize - self.n)\n",
        "\n",
        "def download_url(download_path: Path, url: str):\n",
        "    with DownloadProgressBar(unit='B', unit_scale=True,\n",
        "                             miniters=1, desc=url.split('/')[-1]) as t:\n",
        "        urllib.request.urlretrieve(url, filename=download_path, reporthook=t.update_to)"
      ]
    },
    {
      "cell_type": "code",
      "execution_count": 4,
      "metadata": {
        "id": "4Jwr7Ns6Ot1i"
      },
      "outputs": [],
      "source": [
        "def download_dataset(download_path: Path, url: str):\n",
        "    print(\"Downloading dataset...\")\n",
        "    download_url(url=url, download_path=download_path)\n",
        "    print(\"Download complete!\")"
      ]
    },
    {
      "cell_type": "code",
      "execution_count": 5,
      "metadata": {
        "id": "jsZv2RSOViC8"
      },
      "outputs": [],
      "source": [
        "# Here we put all the urls\n",
        "urls = {\n",
        "    \"training\": \"https://raw.githubusercontent.com/nlp-unibo/nlp-course-material/main/2024-2025/Assignment%201/data/training.json\",\n",
        "    \"test\": \"https://raw.githubusercontent.com/nlp-unibo/nlp-course-material/main/2024-2025/Assignment%201/data/test.json\",\n",
        "    \"validation\": \"https://raw.githubusercontent.com/nlp-unibo/nlp-course-material/main/2024-2025/Assignment%201/data/validation.json\"\n",
        "}"
      ]
    },
    {
      "cell_type": "code",
      "execution_count": 6,
      "metadata": {
        "colab": {
          "base_uri": "https://localhost:8080/"
        },
        "id": "9NvOZ5g2O8Ra",
        "outputId": "5eba7f70-4408-4ba2-eb7f-8c7bb0e4303a"
      },
      "outputs": [
        {
          "output_type": "stream",
          "name": "stdout",
          "text": [
            "Current work directory: /content\n"
          ]
        }
      ],
      "source": [
        "print(f\"Current work directory: {Path.cwd()}\")\n",
        "dataset_folder = Path.cwd().joinpath(\"Datasets\")"
      ]
    },
    {
      "cell_type": "code",
      "execution_count": 7,
      "metadata": {
        "id": "mGQb4TxtRYYm"
      },
      "outputs": [],
      "source": [
        "if not dataset_folder.exists():\n",
        "    dataset_folder.mkdir(parents=True)"
      ]
    },
    {
      "cell_type": "code",
      "execution_count": 8,
      "metadata": {
        "colab": {
          "base_uri": "https://localhost:8080/"
        },
        "id": "r99L1rTzV12C",
        "outputId": "be69c7be-c041-4258-e2f2-23557ec08cfb"
      },
      "outputs": [
        {
          "output_type": "stream",
          "name": "stdout",
          "text": [
            "Downloading dataset...\n"
          ]
        },
        {
          "output_type": "stream",
          "name": "stderr",
          "text": [
            "training.json: 6.23MB [00:00, 16.1MB/s]                            \n"
          ]
        },
        {
          "output_type": "stream",
          "name": "stdout",
          "text": [
            "Download complete!\n",
            "Downloading dataset...\n"
          ]
        },
        {
          "output_type": "stream",
          "name": "stderr",
          "text": [
            "test.json: 500kB [00:00, 1.68MB/s]                            \n"
          ]
        },
        {
          "output_type": "stream",
          "name": "stdout",
          "text": [
            "Download complete!\n",
            "Downloading dataset...\n"
          ]
        },
        {
          "output_type": "stream",
          "name": "stderr",
          "text": [
            "validation.json: 1.16MB [00:00, 3.17MB/s]                            "
          ]
        },
        {
          "output_type": "stream",
          "name": "stdout",
          "text": [
            "Download complete!\n"
          ]
        },
        {
          "output_type": "stream",
          "name": "stderr",
          "text": [
            "\n"
          ]
        }
      ],
      "source": [
        "for name, url in urls.items():\n",
        "    download_path = dataset_folder.joinpath(f\"{name}.json\")\n",
        "    download_dataset(download_path, url)"
      ]
    },
    {
      "cell_type": "markdown",
      "metadata": {
        "id": "97p0MGpIYdGY"
      },
      "source": [
        "## 2. Load the three JSON files and encode them as pandas dataframes."
      ]
    },
    {
      "cell_type": "code",
      "execution_count": 9,
      "metadata": {
        "id": "tjPonkkIduMr"
      },
      "outputs": [],
      "source": [
        "def load_json_file(file_path: Path):\n",
        "    with open(file_path, 'r', encoding='utf-8') as f:\n",
        "        return json.load(f)"
      ]
    },
    {
      "cell_type": "code",
      "execution_count": 10,
      "metadata": {
        "id": "mUz9IDNUcb7J"
      },
      "outputs": [],
      "source": [
        "dataframe_rows = []\n",
        "\n",
        "\n",
        "for name, url in urls.items():\n",
        "    # per ogni file creiamo il file_path e leggiamo il file\n",
        "    file_path = dataset_folder.joinpath(f\"{name}.json\")\n",
        "\n",
        "    json_data = load_json_file(file_path)\n",
        "\n",
        "    # per ogni chiave nel json_data creo una dataframe_row\n",
        "    for key in json_data.keys():\n",
        "        df_row = json_data[key]\n",
        "        df_row[\"split\"] = name\n",
        "        dataframe_rows.append(df_row)\n"
      ]
    },
    {
      "cell_type": "code",
      "execution_count": 11,
      "metadata": {
        "id": "u2xd6biKiKbW"
      },
      "outputs": [],
      "source": [
        "folder = Path.cwd().joinpath(\"Datasets\", \"Dataframes\")\n",
        "if not folder.exists():\n",
        "    folder.mkdir(parents=True)\n",
        "\n",
        "\n",
        "# transform the list of rows in a proper dataframe\n",
        "df = pd.DataFrame(dataframe_rows)\n",
        "\n",
        "for name, url in urls.items():\n",
        "  df_path = folder.with_name(name + \".pkl\")\n",
        "  df.to_pickle(df_path)"
      ]
    },
    {
      "cell_type": "markdown",
      "metadata": {
        "id": "aegG34haxrJH"
      },
      "source": [
        "## 3. Generate hard labels"
      ]
    },
    {
      "cell_type": "markdown",
      "metadata": {
        "id": "c6VZjWS-xvb5"
      },
      "source": [
        "Generate hard labels for Task 1 using majority voting and store them in a new dataframe column called `hard_label_task1`. Items without a clear majority will be removed from the dataset."
      ]
    },
    {
      "cell_type": "code",
      "execution_count": 12,
      "metadata": {
        "id": "sORAVONvpU_v"
      },
      "outputs": [],
      "source": [
        "def compute_majority_voting(labels: list):\n",
        "\n",
        "    unique_labels, counts = np.unique(labels, return_counts=True)\n",
        "    majority_label = np.argwhere(counts == np.max(counts))\n",
        "\n",
        "    majority_label = unique_labels[majority_label].flatten().tolist()\n",
        "\n",
        "    if len(majority_label) > 1:\n",
        "        majority_label = None\n",
        "\n",
        "\n",
        "    return majority_label"
      ]
    },
    {
      "cell_type": "code",
      "execution_count": 13,
      "metadata": {
        "id": "0LP9rRC1zG0Q"
      },
      "outputs": [],
      "source": [
        "def generate_hard_labels(df):\n",
        "    hard_labels = []\n",
        "\n",
        "    for index, row in df.iterrows():\n",
        "        # Estrai le etichette dalla colonna 'labels_task1'\n",
        "        labels = row['labels_task1']\n",
        "        # print(labels)\n",
        "\n",
        "        # Verifica se 'labels' è una lista e contiene elementi\n",
        "        if isinstance(labels, list) and len(labels) > 0:\n",
        "            # Calcola la moda (voto di maggioranza)\n",
        "            most_common_label = compute_majority_voting(labels)\n",
        "            # print(most_common_label)\n",
        "            hard_labels.append(most_common_label)\n",
        "\n",
        "    # Aggiungi le hard labels come nuova colonna\n",
        "    df['hard_label_task1'] = hard_labels\n",
        "\n",
        "    # Rimuovi le righe senza una chiara maggioranza (se necessario)\n",
        "    df = df[df['hard_label_task1'].notnull()]\n",
        "\n",
        "    return df"
      ]
    },
    {
      "cell_type": "code",
      "execution_count": 14,
      "metadata": {
        "colab": {
          "base_uri": "https://localhost:8080/"
        },
        "id": "ckDgdopDz3d2",
        "outputId": "b8b6a44c-fa4c-4914-eb0e-79f48d3f78e9"
      },
      "outputs": [
        {
          "output_type": "stream",
          "name": "stdout",
          "text": [
            "  id_EXIST lang                                              tweet  \\\n",
            "0   100001   es  @TheChiflis Ignora al otro, es un capullo.El p...   \n",
            "1   100002   es  @ultimonomada_ Si comicsgate se parece en algo...   \n",
            "2   100003   es  @Steven2897 Lee sobre Gamergate, y como eso ha...   \n",
            "4   100005   es  @novadragon21 @icep4ck @TvDannyZ Entonces como...   \n",
            "5   100006   es  @yonkykong Aaah sí. Andrew Dobson. El que se d...   \n",
            "\n",
            "   number_annotators                                         annotators  \\\n",
            "0                  6  [Annotator_1, Annotator_2, Annotator_3, Annota...   \n",
            "1                  6  [Annotator_7, Annotator_8, Annotator_9, Annota...   \n",
            "2                  6  [Annotator_7, Annotator_8, Annotator_9, Annota...   \n",
            "4                  6  [Annotator_19, Annotator_20, Annotator_21, Ann...   \n",
            "5                  6  [Annotator_25, Annotator_26, Annotator_27, Ann...   \n",
            "\n",
            "    gender_annotators                          age_annotators  \\\n",
            "0  [F, F, F, M, M, M]  [18-22, 23-45, 46+, 46+, 23-45, 18-22]   \n",
            "1  [F, F, F, M, M, M]  [18-22, 23-45, 46+, 46+, 23-45, 18-22]   \n",
            "2  [F, F, F, M, M, M]  [18-22, 23-45, 46+, 46+, 23-45, 18-22]   \n",
            "4  [F, F, F, M, M, M]  [18-22, 23-45, 46+, 46+, 23-45, 18-22]   \n",
            "5  [F, F, F, M, M, M]  [18-22, 23-45, 46+, 46+, 23-45, 18-22]   \n",
            "\n",
            "                    labels_task1  \\\n",
            "0  [YES, YES, NO, YES, YES, YES]   \n",
            "1      [NO, NO, NO, NO, YES, NO]   \n",
            "2       [NO, NO, NO, NO, NO, NO]   \n",
            "4   [YES, NO, YES, NO, YES, YES]   \n",
            "5       [NO, NO, NO, NO, NO, NO]   \n",
            "\n",
            "                                        labels_task2  \\\n",
            "0  [REPORTED, JUDGEMENTAL, -, REPORTED, JUDGEMENT...   \n",
            "1                            [-, -, -, -, DIRECT, -]   \n",
            "2                                 [-, -, -, -, -, -]   \n",
            "4  [REPORTED, -, JUDGEMENTAL, -, JUDGEMENTAL, DIR...   \n",
            "5                                 [-, -, -, -, -, -]   \n",
            "\n",
            "                                        labels_task3     split  \\\n",
            "0  [[OBJECTIFICATION], [OBJECTIFICATION, SEXUAL-V...  training   \n",
            "1       [[-], [-], [-], [-], [OBJECTIFICATION], [-]]  training   \n",
            "2                     [[-], [-], [-], [-], [-], [-]]  training   \n",
            "4  [[STEREOTYPING-DOMINANCE, OBJECTIFICATION], [-...  training   \n",
            "5                     [[-], [-], [-], [-], [-], [-]]  training   \n",
            "\n",
            "  hard_label_task1  \n",
            "0            [YES]  \n",
            "1             [NO]  \n",
            "2             [NO]  \n",
            "4            [YES]  \n",
            "5             [NO]  \n"
          ]
        }
      ],
      "source": [
        "df = generate_hard_labels(df)\n",
        "print(df.head())"
      ]
    },
    {
      "cell_type": "markdown",
      "metadata": {
        "id": "-VdYgdgwqsNu"
      },
      "source": [
        "## 4. Filter the DataFrame"
      ]
    },
    {
      "cell_type": "markdown",
      "metadata": {
        "id": "QVfoZzusqy0I"
      },
      "source": [
        "Filter the DataFrame to keep only rows where the `lang` column is `'en'`."
      ]
    },
    {
      "cell_type": "code",
      "execution_count": 15,
      "metadata": {
        "colab": {
          "base_uri": "https://localhost:8080/"
        },
        "id": "-WYAWKilq1tl",
        "outputId": "dbbd4215-0231-4c3f-9159-e8aefb246611"
      },
      "outputs": [
        {
          "output_type": "stream",
          "name": "stdout",
          "text": [
            "(3314, 12)\n"
          ]
        }
      ],
      "source": [
        "df = df[df['lang'] == 'en']\n",
        "print(df.shape)"
      ]
    },
    {
      "cell_type": "markdown",
      "metadata": {
        "id": "etQQV0YTrN9Q"
      },
      "source": [
        "## 5. Remove unwanted columns"
      ]
    },
    {
      "cell_type": "markdown",
      "metadata": {
        "id": "T4nDBRNurTT6"
      },
      "source": [
        "Keep only `id_EXIST`, `lang`, `tweet`, and `hard_label_task1`."
      ]
    },
    {
      "cell_type": "code",
      "execution_count": 16,
      "metadata": {
        "id": "hb0-lUqPrZEH"
      },
      "outputs": [],
      "source": [
        "def remove_unwanted_columns(df):\n",
        "\n",
        "    columns_to_keep = ['id_EXIST', 'lang', 'tweet', 'hard_label_task1', 'split']\n",
        "    df = df[columns_to_keep]\n",
        "    return df"
      ]
    },
    {
      "cell_type": "code",
      "execution_count": 17,
      "metadata": {
        "id": "YoZB0G8xrgcA"
      },
      "outputs": [],
      "source": [
        "df = remove_unwanted_columns(df)"
      ]
    },
    {
      "cell_type": "markdown",
      "metadata": {
        "id": "68p9vTuLru-p"
      },
      "source": [
        "## 6. Encode the hard_label_task1 column"
      ]
    },
    {
      "cell_type": "markdown",
      "metadata": {
        "id": "70CeoJ1hr-rB"
      },
      "source": [
        "Use 1 to represent \"YES\" and 0 to represent \"NO\" in the `hard_label_task1 column`."
      ]
    },
    {
      "cell_type": "code",
      "execution_count": 18,
      "metadata": {
        "colab": {
          "base_uri": "https://localhost:8080/"
        },
        "id": "Lh8WC291tNGA",
        "outputId": "291c9a34-b7e9-489e-a596-4c01242c4002"
      },
      "outputs": [
        {
          "output_type": "stream",
          "name": "stdout",
          "text": [
            "     id_EXIST lang                                              tweet  \\\n",
            "3661   200002   en  Writing a uni essay in my local pub with a cof...   \n",
            "3662   200003   en  @UniversalORL it is 2021 not 1921. I dont appr...   \n",
            "3665   200006   en  According to a customer I have plenty of time ...   \n",
            "3666   200007   en  So only 'blokes' drink beer? Sorry, but if you...   \n",
            "3667   200008   en  New to the shelves this week - looking forward...   \n",
            "\n",
            "      hard_label_task1     split  \n",
            "3661                 1  training  \n",
            "3662                 1  training  \n",
            "3665                 1  training  \n",
            "3666                 1  training  \n",
            "3667                 0  training  \n"
          ]
        },
        {
          "output_type": "stream",
          "name": "stderr",
          "text": [
            "<ipython-input-18-ad82e6abd406>:1: SettingWithCopyWarning: \n",
            "A value is trying to be set on a copy of a slice from a DataFrame.\n",
            "Try using .loc[row_indexer,col_indexer] = value instead\n",
            "\n",
            "See the caveats in the documentation: https://pandas.pydata.org/pandas-docs/stable/user_guide/indexing.html#returning-a-view-versus-a-copy\n",
            "  df['hard_label_task1'] = df['hard_label_task1'].apply(lambda x: 1 if x[0] == 'YES' else 0)\n"
          ]
        }
      ],
      "source": [
        "df['hard_label_task1'] = df['hard_label_task1'].apply(lambda x: 1 if x[0] == 'YES' else 0)\n",
        "print(df.head())"
      ]
    },
    {
      "cell_type": "markdown",
      "metadata": {
        "id": "qyAK2RBGu8Bq"
      },
      "source": [
        "# Task 2: Data Cleaning"
      ]
    },
    {
      "cell_type": "code",
      "execution_count": 19,
      "metadata": {
        "colab": {
          "base_uri": "https://localhost:8080/"
        },
        "id": "t9rsrT-WJDoK",
        "outputId": "fbe67139-2b2e-45b5-83c7-54b976300d18"
      },
      "outputs": [
        {
          "output_type": "stream",
          "name": "stderr",
          "text": [
            "[nltk_data] Downloading package omw-1.4 to /root/nltk_data...\n",
            "[nltk_data] Downloading package wordnet to /root/nltk_data...\n",
            "[nltk_data] Downloading package averaged_perceptron_tagger to\n",
            "[nltk_data]     /root/nltk_data...\n",
            "[nltk_data]   Unzipping taggers/averaged_perceptron_tagger.zip.\n",
            "[nltk_data] Downloading package averaged_perceptron_tagger_eng to\n",
            "[nltk_data]     /root/nltk_data...\n",
            "[nltk_data]   Unzipping taggers/averaged_perceptron_tagger_eng.zip.\n",
            "[nltk_data] Downloading package punkt to /root/nltk_data...\n",
            "[nltk_data]   Unzipping tokenizers/punkt.zip.\n",
            "[nltk_data] Downloading package punkt_tab to /root/nltk_data...\n",
            "[nltk_data]   Unzipping tokenizers/punkt_tab.zip.\n"
          ]
        },
        {
          "output_type": "execute_result",
          "data": {
            "text/plain": [
              "True"
            ]
          },
          "metadata": {},
          "execution_count": 19
        }
      ],
      "source": [
        "nltk.download('omw-1.4')\n",
        "nltk.download('wordnet')\n",
        "nltk.download('averaged_perceptron_tagger')\n",
        "nltk.download('averaged_perceptron_tagger_eng')\n",
        "nltk.download('punkt')\n",
        "nltk.download('punkt_tab')"
      ]
    },
    {
      "cell_type": "markdown",
      "metadata": {
        "id": "W3yM7nuc_DpZ"
      },
      "source": [
        "Check this link: [all existing emojis](https://www.unicode.org/Public/emoji/1.0//emoji-data.txt). And also this: [emojis unicode consortium](https://unicode.org/emoji/charts/full-emoji-list.html)."
      ]
    },
    {
      "cell_type": "code",
      "execution_count": 20,
      "metadata": {
        "id": "GyDbd9BxU31A"
      },
      "outputs": [],
      "source": [
        "def lower(text):\n",
        "    return text.lower()"
      ]
    },
    {
      "cell_type": "code",
      "execution_count": 21,
      "metadata": {
        "id": "2U3Eg7_4_-Ic"
      },
      "outputs": [],
      "source": [
        "def remove_emoji(text):\n",
        "    return emoji.replace_emoji(text, replace='')"
      ]
    },
    {
      "cell_type": "code",
      "execution_count": 22,
      "metadata": {
        "id": "69qq6Fe25xMc"
      },
      "outputs": [],
      "source": [
        "def remove_hastag(text):\n",
        "    at = re.compile(r'#\\S+')\n",
        "    return at.sub(r'',text)"
      ]
    },
    {
      "cell_type": "code",
      "execution_count": 23,
      "metadata": {
        "id": "rp8HhWlh5NEu"
      },
      "outputs": [],
      "source": [
        "def remove_mention(text):\n",
        "    at = re.compile(r'@\\S+')\n",
        "    return at.sub(r'',text)"
      ]
    },
    {
      "cell_type": "code",
      "execution_count": 24,
      "metadata": {
        "id": "GwVvkIsa64wk"
      },
      "outputs": [],
      "source": [
        "def remove_URL(text):\n",
        "    url = re.compile(r'https?://\\S+|www\\.\\S+')\n",
        "    return url.sub(r'',text)"
      ]
    },
    {
      "cell_type": "code",
      "execution_count": 25,
      "metadata": {
        "id": "iLRDqOqS7QKt"
      },
      "outputs": [],
      "source": [
        "def remove_special_characters(text):\n",
        "    pattern = r'[^a-zA-Z0-9\\s]'\n",
        "    return re.sub(pattern, '', text)"
      ]
    },
    {
      "cell_type": "code",
      "execution_count": 26,
      "metadata": {
        "id": "v__lt8yu8Oap"
      },
      "outputs": [],
      "source": [
        "def remove_quotes(text):\n",
        "    pattern = r'^\"|\"$‘’'\n",
        "    return re.sub(pattern, '', text)"
      ]
    },
    {
      "cell_type": "code",
      "execution_count": 27,
      "metadata": {
        "id": "6aRkZPTP9KG0"
      },
      "outputs": [],
      "source": [
        "def remove_extra_spaces(text):\n",
        "    text.strip()\n",
        "    pattern = r'\\s+'\n",
        "    return re.sub(pattern, ' ', text)"
      ]
    },
    {
      "cell_type": "code",
      "execution_count": 28,
      "metadata": {
        "id": "pCZx9SBPtGoz"
      },
      "outputs": [],
      "source": [
        "def remove_word_repetitions(text):\n",
        "    return  re.sub(r'\\b(\\w+)( \\1\\b)+', r'\\1', text)\n"
      ]
    },
    {
      "cell_type": "code",
      "execution_count": 29,
      "metadata": {
        "id": "Eb2ni1lLI4oH"
      },
      "outputs": [],
      "source": [
        "def lemmatize(text):\n",
        "    lemmatizer = WordNetLemmatizer()\n",
        "\n",
        "\n",
        "    def get_wordnet_key(pos_tag):\n",
        "        if pos_tag.startswith('J'):\n",
        "            return wordnet.ADJ\n",
        "        elif pos_tag.startswith('V'):\n",
        "            return wordnet.VERB\n",
        "        elif pos_tag.startswith('N'):\n",
        "            return wordnet.NOUN\n",
        "        elif pos_tag.startswith('R'):\n",
        "            return wordnet.ADV\n",
        "        else:\n",
        "            return 'n'\n",
        "\n",
        "\n",
        "    def lem_text(text: str):\n",
        "        tokens = nltk.word_tokenize(text)\n",
        "        tagged = pos_tag(tokens)\n",
        "        words = [lemmatizer.lemmatize(word, get_wordnet_key(tag)) for word, tag in tagged]\n",
        "        return \" \".join(words)\n",
        "\n",
        "\n",
        "    return lem_text(text)"
      ]
    },
    {
      "cell_type": "code",
      "execution_count": 30,
      "metadata": {
        "id": "Xid-F6PgLxoN"
      },
      "outputs": [],
      "source": [
        "def clean_tweet(tweet: str):\n",
        "    tweet = lower(tweet)\n",
        "    tweet = remove_emoji(tweet)\n",
        "    tweet = remove_hastag(tweet)\n",
        "    tweet = remove_mention(tweet)\n",
        "    tweet = remove_URL(tweet)\n",
        "    tweet = remove_special_characters(tweet)\n",
        "    tweet = remove_quotes(tweet)\n",
        "    tweet = remove_word_repetitions(tweet)\n",
        "    tweet = remove_extra_spaces(tweet)\n",
        "    tweet = lemmatize(tweet)\n",
        "    return tweet"
      ]
    },
    {
      "cell_type": "code",
      "execution_count": 31,
      "metadata": {
        "id": "93acNCscMDRL"
      },
      "outputs": [],
      "source": [
        "df['tweet'] = df['tweet'].apply(clean_tweet)"
      ]
    },
    {
      "cell_type": "code",
      "execution_count": 32,
      "metadata": {
        "colab": {
          "base_uri": "https://localhost:8080/"
        },
        "id": "GcwvF65MNAXd",
        "outputId": "80af6da3-c86c-476c-e3d1-b12cc3e52dd5"
      },
      "outputs": [
        {
          "output_type": "stream",
          "name": "stdout",
          "text": [
            "3661    write a uni essay in my local pub with a coffe...\n",
            "3662    it be 2021 not 1921 i dont appreciate that on ...\n",
            "3665    accord to a customer i have plenty of time to ...\n",
            "3666    so only blokes drink beer sorry but if you are...\n",
            "3667    new to the shelf this week look forward to rea...\n",
            "Name: tweet, dtype: object\n"
          ]
        }
      ],
      "source": [
        "print(df['tweet'].head())"
      ]
    },
    {
      "cell_type": "markdown",
      "metadata": {
        "id": "hU2q_4tGNU2W"
      },
      "source": [
        "# Task 3: Text Encoding"
      ]
    },
    {
      "cell_type": "markdown",
      "metadata": {
        "id": "PmxLWqu01gZd"
      },
      "source": [
        "## Splitting the dataset"
      ]
    },
    {
      "cell_type": "markdown",
      "metadata": {
        "id": "LraZe2wH1kjS"
      },
      "source": [
        "Here we split the dataset in train, test and validation."
      ]
    },
    {
      "cell_type": "code",
      "execution_count": 33,
      "metadata": {
        "colab": {
          "base_uri": "https://localhost:8080/"
        },
        "id": "ug_gd5gz1j5S",
        "outputId": "69891061-675f-4551-8dbf-8e542aceaa9d"
      },
      "outputs": [
        {
          "output_type": "stream",
          "name": "stdout",
          "text": [
            "Train size: (2870, 4)\n",
            "Test size: (286, 4)\n",
            "Validation size: (158, 4)\n"
          ]
        }
      ],
      "source": [
        "df_train = df.loc[df['split'] == \"training\"].drop(columns=['split'])\n",
        "df_test = df.loc[df['split'] == \"test\"].drop(columns=['split'])\n",
        "df_val = df.loc[df['split'] == \"validation\"].drop(columns=['split'])\n",
        "\n",
        "print(f\"Train size: {df_train.shape}\")\n",
        "print(f\"Test size: {df_test.shape}\")\n",
        "print(f\"Validation size: {df_val.shape}\")"
      ]
    },
    {
      "cell_type": "markdown",
      "metadata": {
        "id": "8wCba8rlw8lK"
      },
      "source": [
        "### Try to use Tokenizer to build the vocabulary"
      ]
    },
    {
      "cell_type": "markdown",
      "metadata": {
        "id": "lQmHVeFUnb8Y"
      },
      "source": [
        " ## Vocabulary Creation"
      ]
    },
    {
      "cell_type": "markdown",
      "metadata": {
        "id": "AayUlbam3-Rm"
      },
      "source": [
        "We create the vocabulary only using the training dataset."
      ]
    },
    {
      "cell_type": "code",
      "execution_count": 34,
      "metadata": {
        "id": "7HbdgvPZnpxr"
      },
      "outputs": [],
      "source": [
        "def build_vocabulary(df: pd.DataFrame) -> (Dict[int, str], Dict[str, int], List[str]):\n",
        "    \"\"\"\n",
        "    Given a dataset, builds the corresponding word vocabulary.\n",
        "\n",
        "    :param df: dataset from which we want to build the word vocabulary (pandas.DataFrame)\n",
        "    :return:\n",
        "      - word vocabulary: vocabulary index to word\n",
        "      - inverse word vocabulary: word to vocabulary index\n",
        "      - word listing: set of unique terms that build up the vocabulary\n",
        "    \"\"\"\n",
        "    idx_to_word = OrderedDict()\n",
        "    word_to_idx = OrderedDict()\n",
        "\n",
        "    curr_idx = 0\n",
        "    # '''\n",
        "    word_to_idx[\"[PAD]\"] = curr_idx         #add the PAD index\n",
        "    idx_to_word[curr_idx] = \"[PAD]\"\n",
        "    curr_idx += 1\n",
        "    # Here we add the special token [UNK] to our vocabulary\n",
        "    word_to_idx[\"[UNK]\"] = curr_idx\n",
        "    idx_to_word[curr_idx] = \"[UNK]\"\n",
        "    curr_idx += 1\n",
        "    # '''\n",
        "    for sentence in tqdm(df.tweet.values):\n",
        "        tokens = sentence.split()\n",
        "        for token in tokens:\n",
        "            if token not in word_to_idx:\n",
        "                word_to_idx[token] = curr_idx\n",
        "                idx_to_word[curr_idx] = token\n",
        "                curr_idx += 1\n",
        "\n",
        "\n",
        "\n",
        "    word_listing = list(idx_to_word.values())\n",
        "    return idx_to_word, word_to_idx, word_listing"
      ]
    },
    {
      "cell_type": "code",
      "execution_count": 35,
      "metadata": {
        "colab": {
          "base_uri": "https://localhost:8080/"
        },
        "id": "anfsmQRWoIzi",
        "outputId": "9b25628b-e7be-4761-c049-9d6b112d4190"
      },
      "outputs": [
        {
          "output_type": "stream",
          "name": "stderr",
          "text": [
            "100%|██████████| 2870/2870 [00:00<00:00, 136134.04it/s]"
          ]
        },
        {
          "output_type": "stream",
          "name": "stdout",
          "text": [
            "[Debug] Index -> Word vocabulary size: 9820\n",
            "[Debug] Word -> Index vocabulary size: 9820\n",
            "[Debug] Some words: [('[PAD]', 0), ('[UNK]', 1), ('write', 2), ('a', 3), ('uni', 4), ('essay', 5), ('in', 6), ('my', 7), ('local', 8), ('pub', 9)]\n"
          ]
        },
        {
          "output_type": "stream",
          "name": "stderr",
          "text": [
            "\n"
          ]
        }
      ],
      "source": [
        "idx_to_word_train, word_to_idx_train, word_listing_train = build_vocabulary(df_train)\n",
        "\n",
        "print(f'[Debug] Index -> Word vocabulary size: {len(idx_to_word_train)}')\n",
        "print(f'[Debug] Word -> Index vocabulary size: {len(word_to_idx_train)}')\n",
        "print(f'[Debug] Some words: {[(idx_to_word_train[idx], idx) for idx in np.arange(10) ]}')"
      ]
    },
    {
      "cell_type": "markdown",
      "metadata": {
        "id": "PsjJBA41okTn"
      },
      "source": [
        "### Vocabulary Evaluation"
      ]
    },
    {
      "cell_type": "code",
      "execution_count": 36,
      "metadata": {
        "id": "UqvEPsy8ocTT"
      },
      "outputs": [],
      "source": [
        "def evaluate_vocabulary(idx_to_word: Dict[int, str], word_to_idx: Dict[str, int],\n",
        "                        word_listing: List[str], df: pd.DataFrame, check_default_size: bool = False):\n",
        "    print(\"[Vocabulary Evaluation] Size checking...\")\n",
        "    assert len(idx_to_word) == len(word_to_idx)\n",
        "    assert len(idx_to_word) == len(word_listing)\n",
        "\n",
        "    print(\"[Vocabulary Evaluation] Content checking...\")\n",
        "    for i in tqdm(range(len(idx_to_word))):\n",
        "        assert idx_to_word[i] in word_to_idx\n",
        "        assert word_to_idx[idx_to_word[i]] == i\n",
        "\n",
        "    print(\"[Vocabulary Evaluation] Consistency checking...\")\n",
        "    _, _, first_word_listing = build_vocabulary(df)\n",
        "    _, _, second_word_listing = build_vocabulary(df)\n",
        "    assert first_word_listing == second_word_listing\n",
        "\n",
        "    print(\"[Vocabulary Evaluation] Toy example checking...\")\n",
        "    toy_df = pd.DataFrame.from_dict({\n",
        "        'tweet': [\"all that glitters is not gold\", \"all in all i like this assignment\"]\n",
        "    })\n",
        "    _, _, toy_word_listing = build_vocabulary(toy_df)\n",
        "    toy_valid_vocabulary = set(' '.join(toy_df.tweet.values).split())\n",
        "    # Includi anche [UNK] nel confronto\n",
        "    toy_valid_vocabulary.add(\"[UNK]\")\n",
        "    toy_valid_vocabulary.add(\"[PAD]\")           #add pad to the test\n",
        "    assert set(toy_word_listing) == toy_valid_vocabulary"
      ]
    },
    {
      "cell_type": "code",
      "execution_count": 37,
      "metadata": {
        "colab": {
          "base_uri": "https://localhost:8080/"
        },
        "id": "4hb7Eh1gooTu",
        "outputId": "12f9c885-3546-4625-98df-01e41d2163fd"
      },
      "outputs": [
        {
          "output_type": "stream",
          "name": "stdout",
          "text": [
            "Vocabulary evaluation...\n",
            "[Vocabulary Evaluation] Size checking...\n",
            "[Vocabulary Evaluation] Content checking...\n"
          ]
        },
        {
          "output_type": "stream",
          "name": "stderr",
          "text": [
            "100%|██████████| 9820/9820 [00:00<00:00, 1682106.73it/s]\n"
          ]
        },
        {
          "output_type": "stream",
          "name": "stdout",
          "text": [
            "[Vocabulary Evaluation] Consistency checking...\n"
          ]
        },
        {
          "output_type": "stream",
          "name": "stderr",
          "text": [
            "100%|██████████| 2870/2870 [00:00<00:00, 213585.03it/s]\n",
            "100%|██████████| 2870/2870 [00:00<00:00, 192107.57it/s]\n"
          ]
        },
        {
          "output_type": "stream",
          "name": "stdout",
          "text": [
            "[Vocabulary Evaluation] Toy example checking...\n"
          ]
        },
        {
          "output_type": "stream",
          "name": "stderr",
          "text": [
            "100%|██████████| 2/2 [00:00<00:00, 6274.20it/s]"
          ]
        },
        {
          "output_type": "stream",
          "name": "stdout",
          "text": [
            "Evaluation completed!\n"
          ]
        },
        {
          "output_type": "stream",
          "name": "stderr",
          "text": [
            "\n"
          ]
        }
      ],
      "source": [
        "print(\"Vocabulary evaluation...\")\n",
        "evaluate_vocabulary(idx_to_word_train, word_to_idx_train, word_listing_train, df_train)\n",
        "print(\"Evaluation completed!\")"
      ]
    },
    {
      "cell_type": "markdown",
      "metadata": {
        "id": "rYzT9t9Gqj3f"
      },
      "source": [
        "## Saving Vocabulary"
      ]
    },
    {
      "cell_type": "code",
      "execution_count": 38,
      "metadata": {
        "colab": {
          "base_uri": "https://localhost:8080/"
        },
        "id": "uVMJ5eRtqv0N",
        "outputId": "47a30f97-f776-4c66-be22-3535e3907210"
      },
      "outputs": [
        {
          "output_type": "stream",
          "name": "stdout",
          "text": [
            "Saving vocabulary to /content/Datasets/vocab.json\n",
            "Saving completed!\n"
          ]
        }
      ],
      "source": [
        "vocab_path = Path.cwd().joinpath('Datasets', 'vocab.json')\n",
        "\n",
        "print(f\"Saving vocabulary to {vocab_path}\")\n",
        "with vocab_path.open(mode='w') as f:\n",
        "    sj.dump(word_to_idx_train, f, indent=4)\n",
        "print(\"Saving completed!\")"
      ]
    },
    {
      "cell_type": "markdown",
      "metadata": {
        "id": "5MS28pC08ztV"
      },
      "source": [
        "## GloVe embedding"
      ]
    },
    {
      "cell_type": "code",
      "execution_count": 39,
      "metadata": {
        "id": "fhIaF3QG8_Tf"
      },
      "outputs": [],
      "source": [
        "def load_embedding_model(model_type: str,\n",
        "                         embedding_dimension: int = 50) -> gensim.models.keyedvectors.KeyedVectors:\n",
        "    \"\"\"\n",
        "    Loads a pre-trained word embedding model via gensim library.\n",
        "\n",
        "    :param model_type: name of the word embedding model to load.\n",
        "    :param embedding_dimension: size of the embedding space to consider\n",
        "\n",
        "    :return\n",
        "        - pre-trained word embedding model (gensim KeyedVectors object)\n",
        "    \"\"\"\n",
        "    download_path = \"\"\n",
        "\n",
        "    if model_type.strip().lower() == 'glove':\n",
        "        download_path = \"glove-wiki-gigaword-{}\".format(embedding_dimension)\n",
        "\n",
        "    else:\n",
        "        raise AttributeError(\"Unsupported embedding model type! Available ones: word2vec, glove, fasttext\")\n",
        "\n",
        "    try:\n",
        "        emb_model = gloader.load(download_path)\n",
        "    except ValueError as e:\n",
        "        print(\"Invalid embedding model name! Check the embedding dimension:\")\n",
        "        print(\"Glove: 50, 100, 200, 300\")\n",
        "        raise e\n",
        "\n",
        "    return emb_model"
      ]
    },
    {
      "cell_type": "code",
      "execution_count": 40,
      "metadata": {
        "id": "kT3IwEKQ9JSU",
        "colab": {
          "base_uri": "https://localhost:8080/"
        },
        "outputId": "8b0313f5-291e-468a-9366-11caed022265"
      },
      "outputs": [
        {
          "output_type": "stream",
          "name": "stdout",
          "text": [
            "[==================================================] 100.0% 128.1/128.1MB downloaded\n"
          ]
        }
      ],
      "source": [
        "embedding_model = load_embedding_model(model_type=\"glove\",\n",
        "                                       embedding_dimension=100)"
      ]
    },
    {
      "cell_type": "code",
      "execution_count": 41,
      "metadata": {
        "id": "gbxw6ndV_NQf"
      },
      "outputs": [],
      "source": [
        "def check_OOV_terms(embedding_model: gensim.models.keyedvectors.KeyedVectors,\n",
        "                    word_listing: List[str]):\n",
        "    \"\"\"\n",
        "    Checks differences between pre-trained embedding model vocabulary\n",
        "    and dataset specific vocabulary in order to highlight out-of-vocabulary terms.\n",
        "\n",
        "    :param embedding_model: pre-trained word embedding model (gensim wrapper)\n",
        "    :param word_listing: dataset specific vocabulary (list)\n",
        "\n",
        "    :return\n",
        "        - list of OOV terms\n",
        "    \"\"\"\n",
        "    embedding_vocabulary = set(embedding_model.key_to_index.keys())\n",
        "    oov = set(word_listing).difference(embedding_vocabulary)\n",
        "    return list(oov)"
      ]
    },
    {
      "cell_type": "code",
      "execution_count": 42,
      "metadata": {
        "colab": {
          "base_uri": "https://localhost:8080/"
        },
        "id": "W783gsHF_QD4",
        "outputId": "6c95575e-8a73-4564-9660-89bad589ff9f"
      },
      "outputs": [
        {
          "output_type": "stream",
          "name": "stdout",
          "text": [
            "Total OOV terms in training set: 1842 (18.76%)\n"
          ]
        }
      ],
      "source": [
        "oov_terms_train = check_OOV_terms(embedding_model, word_listing_train)\n",
        "oov_percentage_train = float(len(oov_terms_train)) * 100 / len(word_listing_train)\n",
        "print(f\"Total OOV terms in training set: {len(oov_terms_train)} ({oov_percentage_train:.2f}%)\")"
      ]
    },
    {
      "cell_type": "markdown",
      "metadata": {
        "id": "6RKUpyOzy4-y"
      },
      "source": [
        "Try to use Blob correct in order to correct spelling errors in tweets."
      ]
    },
    {
      "cell_type": "markdown",
      "metadata": {
        "id": "7jWTz4quZxHP"
      },
      "source": [
        "### Handling train dataset OOV terms"
      ]
    },
    {
      "cell_type": "markdown",
      "metadata": {
        "id": "-EFIJbpwZ9DA"
      },
      "source": [
        "We have to put all the unseen tokens in the train dataset in our vocabulary."
      ]
    },
    {
      "cell_type": "code",
      "execution_count": 43,
      "metadata": {
        "id": "g5n39svJA2SZ"
      },
      "outputs": [],
      "source": [
        "def build_embedding_matrix(embedding_model: gensim.models.keyedvectors.KeyedVectors,\n",
        "                           embedding_dimension: int,\n",
        "                           word_to_idx: Dict[str, int],\n",
        "                           vocab_size: int,\n",
        "                           oov_terms: List[str]) -> np.ndarray:\n",
        "    \"\"\"\n",
        "    Builds the embedding matrix of a specific dataset given a pre-trained word embedding model\n",
        "\n",
        "    :param embedding_model: pre-trained word embedding model (gensim wrapper)\n",
        "    :param word_to_idx: vocabulary map (word -> index) (dict)\n",
        "    :param vocab_size: size of the vocabulary\n",
        "    :param oov_terms: list of OOV terms (list)\n",
        "\n",
        "    :return\n",
        "        - embedding matrix that assigns a high dimensional vector to each word in the dataset specific vocabulary (shape |V| x d)\n",
        "    \"\"\"\n",
        "    embedding_matrix = np.zeros((vocab_size, embedding_dimension), dtype=np.float32)\n",
        "    for word, idx in tqdm(word_to_idx.items()):\n",
        "        try:\n",
        "            embedding_vector = embedding_model[word]\n",
        "        except (KeyError, TypeError):\n",
        "          if word == '[PAD]':\n",
        "            # we assign a random embedding to the [PAD] token\n",
        "            embedding_vector = np.random.uniform(low=-0.05, high=0.05, size=embedding_dimension)\n",
        "          elif word == '[UNK]':\n",
        "            # we assign a random embedding to the [UNK] token\n",
        "            embedding_vector = np.random.uniform(low=-0.05, high=0.05, size=embedding_dimension)\n",
        "          else:\n",
        "            embedding_vector = np.random.uniform(low=-0.05, high=0.05, size=embedding_dimension)\n",
        "\n",
        "        embedding_matrix[idx] = embedding_vector\n",
        "\n",
        "    return embedding_matrix"
      ]
    },
    {
      "cell_type": "code",
      "execution_count": 44,
      "metadata": {
        "colab": {
          "base_uri": "https://localhost:8080/"
        },
        "id": "uQcy1MNsA4mi",
        "outputId": "bae733ec-a301-4e84-cb27-561223b6fb98"
      },
      "outputs": [
        {
          "output_type": "stream",
          "name": "stderr",
          "text": [
            "100%|██████████| 9820/9820 [00:00<00:00, 312815.21it/s]"
          ]
        },
        {
          "output_type": "stream",
          "name": "stdout",
          "text": [
            "\n",
            "Embedding matrix shape: (9820, 100)\n"
          ]
        },
        {
          "output_type": "stream",
          "name": "stderr",
          "text": [
            "\n"
          ]
        }
      ],
      "source": [
        "# Testing\n",
        "embedding_dimension = 100\n",
        "embedding_matrix = build_embedding_matrix(embedding_model, embedding_dimension, word_to_idx_train, len(word_to_idx_train), oov_terms_train)\n",
        "print(f\"\\nEmbedding matrix shape: {embedding_matrix.shape}\")"
      ]
    },
    {
      "cell_type": "markdown",
      "metadata": {
        "id": "M_MGoEJjtGo2"
      },
      "source": [
        "# Task 4: Model Definition"
      ]
    },
    {
      "cell_type": "markdown",
      "source": [
        "First of all we define the Base Model."
      ],
      "metadata": {
        "id": "4eieR4CqWir8"
      }
    },
    {
      "cell_type": "markdown",
      "source": [
        "## Definition of the Base Model"
      ],
      "metadata": {
        "id": "vFTV5QXGWqmC"
      }
    },
    {
      "cell_type": "markdown",
      "source": [
        "### Custom F1Score metrics"
      ],
      "metadata": {
        "id": "LtxZ_-l6a3Ir"
      }
    },
    {
      "cell_type": "markdown",
      "source": [
        "We decided to create this custom F1Score in order to readapt the output dimension of the model with the compatible dimension for the F1Score metric"
      ],
      "metadata": {
        "id": "pm4PWuaXbCGl"
      }
    },
    {
      "cell_type": "code",
      "source": [
        "class FlattenedF1Score(Metric):\n",
        "    def __init__(self, average='macro', threshold=0.5, name='f1_score', **kwargs):\n",
        "        super().__init__(name=name, **kwargs)\n",
        "        self.average = average\n",
        "        self.threshold = threshold\n",
        "        self.f1_metric = tf.keras.metrics.F1Score(average=self.average, threshold=self.threshold)\n",
        "\n",
        "    def update_state(self, y_true, y_pred, sample_weight=None):\n",
        "        y_true_flat = tf.reshape(y_true, [-1, y_true.shape[-1]])\n",
        "        y_pred_flat = tf.reshape(y_pred, [-1, y_pred.shape[-1]])\n",
        "        return self.f1_metric.update_state(y_true_flat, y_pred_flat, sample_weight)\n",
        "\n",
        "    def result(self):\n",
        "        return self.f1_metric.result()\n",
        "\n",
        "    def reset_state(self):\n",
        "        self.f1_metric.reset_state()\n"
      ],
      "metadata": {
        "id": "isRULHY0Ud9X"
      },
      "execution_count": 127,
      "outputs": []
    },
    {
      "cell_type": "code",
      "source": [
        "def createModelBase(word_to_idx_train, embedding_dimension, embedding_matrix, units_dim=64):\n",
        "    embedding = tf.keras.layers.Embedding(\n",
        "        input_dim=len(word_to_idx_train),\n",
        "        output_dim=embedding_dimension,\n",
        "        weights=[embedding_matrix],\n",
        "        mask_zero=True,\n",
        "        name='encoder_embedding'\n",
        "    )\n",
        "\n",
        "    model = Sequential()\n",
        "    model.add(embedding)\n",
        "\n",
        "    model.add(Bidirectional(LSTM(units=units_dim, return_sequences=False)))\n",
        "    # model.add(TimeDistributedWithMask(Dense(units=1, activation = 'sigmoid')))\n",
        "    model.add(Dense(units=1, activation = 'sigmoid'))\n",
        "\n",
        "\n",
        "    model.compile(\n",
        "        optimizer='adamw',\n",
        "        loss='binary_crossentropy',\n",
        "        metrics=[\n",
        "            FlattenedF1Score(average='macro', threshold=0.5)\n",
        "        ]\n",
        "    )\n",
        "\n",
        "    return model"
      ],
      "metadata": {
        "id": "8gAzxMgt1qop"
      },
      "execution_count": 128,
      "outputs": []
    },
    {
      "cell_type": "markdown",
      "source": [
        "## Definition of Model 1"
      ],
      "metadata": {
        "id": "vb0rxbXKW4RW"
      }
    },
    {
      "cell_type": "code",
      "source": [
        "def createModel1(word_to_idx_train,embedding_dimension,embedding_matrix,units_dim=64):\n",
        "\n",
        "    embedding = tf.keras.layers.Embedding(input_dim=len(word_to_idx_train),\n",
        "                                          output_dim=embedding_dimension,\n",
        "                                          weights=[embedding_matrix],\n",
        "                                          mask_zero=True,\n",
        "                                          name='encoder_embedding')\n",
        "    model = Sequential()\n",
        "    model.add(embedding)\n",
        "    model.add(Bidirectional(LSTM(units=units_dim, return_sequences=True)))\n",
        "    model.add(LSTM(units=units_dim, return_sequences=False))\n",
        "    # model.add(TimeDistributedWithMask(Dense(units=1, activation='sigmoid')))\n",
        "    model.add(Dense(units=1, activation='sigmoid'))\n",
        "\n",
        "    model.compile(optimizer='adamw',\n",
        "                  loss='binary_crossentropy',\n",
        "                  metrics = [\n",
        "                      FlattenedF1Score(average='macro', threshold=0.5)\n",
        "                  ])\n",
        "    # model.summary()\n",
        "    return model"
      ],
      "metadata": {
        "id": "2rHuJ9Zt1xDI"
      },
      "execution_count": 129,
      "outputs": []
    },
    {
      "cell_type": "markdown",
      "metadata": {
        "id": "6btpFxP3tGo3"
      },
      "source": [
        "# Task 5:  Training and Evaluation"
      ]
    },
    {
      "cell_type": "markdown",
      "source": [
        "We will use as reference the longest tweet in the dataset."
      ],
      "metadata": {
        "id": "VHffOxq9Vp6l"
      }
    },
    {
      "cell_type": "markdown",
      "source": [
        "## Input Data Preparation"
      ],
      "metadata": {
        "id": "cBDHJsV7600k"
      }
    },
    {
      "cell_type": "code",
      "source": [
        "max_tweet_length=0\n",
        "for t in df['tweet']:\n",
        "    if len(t)>max_tweet_length:\n",
        "        max_tweet_length=len(t)\n",
        "print(max_tweet_length)"
      ],
      "metadata": {
        "colab": {
          "base_uri": "https://localhost:8080/"
        },
        "id": "pN43DKMxVi0j",
        "outputId": "4d041ccb-9644-4c73-cdb1-b71740697d57"
      },
      "execution_count": 130,
      "outputs": [
        {
          "output_type": "stream",
          "name": "stdout",
          "text": [
            "277\n"
          ]
        }
      ]
    },
    {
      "cell_type": "code",
      "source": [
        "def prepare_input(data, vocabulary):\n",
        "    X = []\n",
        "    for tokens in data['tweet']:\n",
        "        indices = [vocabulary.get(token, vocabulary['[UNK]']) for token in tokens.split()]\n",
        "        X.append(indices)\n",
        "\n",
        "\n",
        "    X = pad_sequences(X, maxlen=max_tweet_length, padding='post', value=vocabulary['[PAD]'])\n",
        "\n",
        "    y = np.array(data['hard_label_task1']).reshape(-1, 1)\n",
        "    # y = np.repeat(y, max_tweet_length, axis=1)  # Ripeto il target per ogni timestep\n",
        "    # y = np.expand_dims(y, axis=-1)  # Espando la dimensione per \"features\"\n",
        "\n",
        "    return X, y"
      ],
      "metadata": {
        "id": "curkJFPk_8Ub"
      },
      "execution_count": 131,
      "outputs": []
    },
    {
      "cell_type": "code",
      "source": [
        "X_train, y_train = prepare_input(df_train, word_to_idx_train)\n",
        "X_val, y_val = prepare_input(df_val, word_to_idx_train)\n",
        "X_test, y_test = prepare_input(df_test, word_to_idx_train)"
      ],
      "metadata": {
        "id": "zMvMSiuS9ocj"
      },
      "execution_count": 132,
      "outputs": []
    },
    {
      "cell_type": "code",
      "source": [
        "print(X_train.shape)  # (num_samples, max_length_tweet)\n",
        "print(y_train.shape)  # (num_samples, max_length_tweet, features)"
      ],
      "metadata": {
        "colab": {
          "base_uri": "https://localhost:8080/"
        },
        "id": "4hqH8bDy51-s",
        "outputId": "84a5501a-053b-4e40-bff1-3ac45a60a5e7"
      },
      "execution_count": 133,
      "outputs": [
        {
          "output_type": "stream",
          "name": "stdout",
          "text": [
            "(2870, 277)\n",
            "(2870, 1)\n"
          ]
        }
      ]
    },
    {
      "cell_type": "markdown",
      "source": [
        "## Model Training and Evaluation"
      ],
      "metadata": {
        "id": "0kbAOApi6_z-"
      }
    },
    {
      "cell_type": "code",
      "source": [
        "def select_best_model(results, model_names):\n",
        "\n",
        "      value_for_name = {name: [] for name in model_names}\n",
        "\n",
        "      for record in results:\n",
        "          name = record[\"model_name\"]\n",
        "          if name in model_names:\n",
        "              value_for_name[name].append(record[\"macro_f1\"])\n",
        "\n",
        "      mean = {name: sum(value) / len(value) for name, value in value_for_name.items() if value}\n",
        "\n",
        "      best_model_name = max(mean, key=mean.get)\n",
        "\n",
        "      return best_model_name, mean[best_model_name]"
      ],
      "metadata": {
        "id": "blG08aUmJA-P"
      },
      "execution_count": 134,
      "outputs": []
    },
    {
      "cell_type": "code",
      "source": [
        "import matplotlib.pyplot as plt\n",
        "\n",
        "def plot_f1_score(history):\n",
        "    \"\"\"\n",
        "    Plotta la matrice F1-score per il set di validazione.\n",
        "\n",
        "    Parameters:\n",
        "    - history: oggetto History di Keras contenente i valori di F1-score.\n",
        "    \"\"\"\n",
        "    # Estrai i valori di F1-score dalla storia\n",
        "    val_f1_scores = history.history.get('val_f1_score', [])\n",
        "    f1_scores = history.history.get('f1_score', [])\n",
        "\n",
        "    # Creazione del grafico\n",
        "    plt.figure(figsize=(10, 6))\n",
        "\n",
        "    # Plot F1-score per il set di addestramento\n",
        "    plt.plot(f1_scores, label='F1 Score (Training)', color='blue')\n",
        "\n",
        "    # Plot F1-score per il set di validazione\n",
        "    plt.plot(val_f1_scores, label='F1 Score (Validation)', color='orange')\n",
        "\n",
        "    plt.title('F1 Score for validation and train')\n",
        "    plt.xlabel('Epochs')\n",
        "    plt.ylabel('F1 Score')\n",
        "    plt.legend()\n",
        "    plt.grid()\n",
        "    plt.show()"
      ],
      "metadata": {
        "id": "6pp2Wb0_VF6f"
      },
      "execution_count": 135,
      "outputs": []
    },
    {
      "cell_type": "code",
      "execution_count": 136,
      "metadata": {
        "id": "1SFsdxMBtGo3"
      },
      "outputs": [],
      "source": [
        "# Define a function to train a model\n",
        "def train_model(model, X_train, y_train, X_val, y_val, epochs):\n",
        "    history = model.fit(X_train,\n",
        "                        y_train,\n",
        "                        epochs = epochs,\n",
        "                        batch_size = 64,\n",
        "                        validation_data = (X_val, y_val)\n",
        "                        )\n",
        "    return model, history\n",
        "\n",
        "\n",
        "# Main function to handle tasks\n",
        "def train_and_evaluate(models, X_train, y_train, X_val, y_val, epochs=2, seeds=[42, 100, 2023]):\n",
        "    results = []\n",
        "\n",
        "    # Loop over seeds\n",
        "    for seed in seeds:\n",
        "        print(f\"\\n\\n###### Evaluating models with seed {seed} ######\")\n",
        "\n",
        "        # setting the seed\n",
        "        tf.random.set_seed(seed)\n",
        "\n",
        "\n",
        "        # Train and evaluate each model\n",
        "        for model_name in models:\n",
        "            print(f\"Training and evaluating model: {model_name}\")\n",
        "\n",
        "            if model_name == 'model_base':\n",
        "                model = createModelBase(word_to_idx_train, embedding_dimension, embedding_matrix)\n",
        "            if model_name == 'model_1':\n",
        "                model = createModel1(word_to_idx_train, embedding_dimension, embedding_matrix)\n",
        "\n",
        "\n",
        "            # Train the model\n",
        "            trained_model, history = train_model(model, X_train, y_train, X_val, y_val, epochs)\n",
        "            macro_f1 = history.history['val_f1_score'][-1]\n",
        "            plot_f1_score(history=history)\n",
        "\n",
        "\n",
        "            # Evaluate the model\n",
        "            # loss, macro_f1 = trained_model.evaluate(X_val, y_val, verbose = 2)\n",
        "\n",
        "            # Store results\n",
        "            results.append({\n",
        "                'seed': seed,\n",
        "                'model_name': model_name,\n",
        "                'macro_f1': macro_f1\n",
        "            })\n",
        "\n",
        "    best_model_name, mean_f1_score = select_best_model(results, models)\n",
        "    # Aggregate results to find the best model\n",
        "    # best_model = max(results, key = lambda x: x['macro_f1'])\n",
        "    macro_f1_values = [result['macro_f1'] for result in results]\n",
        "    average_macro_f1 = np.mean(macro_f1_values)\n",
        "\n",
        "    print(f\"\\n\\n\\n ###### Best model: {best_model_name} with macro F1-score: {mean_f1_score:.4f} ######\")\n",
        "\n",
        "    return results, best_model_name"
      ]
    },
    {
      "cell_type": "code",
      "source": [
        "models = ['model_base',\n",
        "          'model_1']\n",
        "\n",
        "seeds=[42, 50, 84]\n",
        "\n",
        "# Train and evaluate models\n",
        "results, best_model = train_and_evaluate(models,\n",
        "                                         X_train,\n",
        "                                         y_train,\n",
        "                                         X_val,\n",
        "                                         y_val,\n",
        "                                         epochs = 30,\n",
        "                                         seeds = seeds)"
      ],
      "metadata": {
        "colab": {
          "base_uri": "https://localhost:8080/",
          "height": 1000
        },
        "id": "uKXnVMBA_0dj",
        "outputId": "b3a82199-b8c8-455d-ffe4-72b1c1b11be0"
      },
      "execution_count": 137,
      "outputs": [
        {
          "output_type": "stream",
          "name": "stdout",
          "text": [
            "\n",
            "\n",
            "###### Evaluating models with seed 42 ######\n",
            "Training and evaluating model: model_base\n",
            "Epoch 1/30\n",
            "\u001b[1m45/45\u001b[0m \u001b[32m━━━━━━━━━━━━━━━━━━━━\u001b[0m\u001b[37m\u001b[0m \u001b[1m3s\u001b[0m 22ms/step - f1_score: 0.3394 - loss: 0.6496 - val_f1_score: 0.6218 - val_loss: 0.5705\n",
            "Epoch 2/30\n",
            "\u001b[1m45/45\u001b[0m \u001b[32m━━━━━━━━━━━━━━━━━━━━\u001b[0m\u001b[37m\u001b[0m \u001b[1m1s\u001b[0m 12ms/step - f1_score: 0.6445 - loss: 0.5306 - val_f1_score: 0.6496 - val_loss: 0.5497\n",
            "Epoch 3/30\n",
            "\u001b[1m45/45\u001b[0m \u001b[32m━━━━━━━━━━━━━━━━━━━━\u001b[0m\u001b[37m\u001b[0m \u001b[1m1s\u001b[0m 12ms/step - f1_score: 0.7462 - loss: 0.4209 - val_f1_score: 0.6949 - val_loss: 0.5193\n",
            "Epoch 4/30\n",
            "\u001b[1m45/45\u001b[0m \u001b[32m━━━━━━━━━━━━━━━━━━━━\u001b[0m\u001b[37m\u001b[0m \u001b[1m1s\u001b[0m 13ms/step - f1_score: 0.8181 - loss: 0.3394 - val_f1_score: 0.6286 - val_loss: 0.5714\n",
            "Epoch 5/30\n",
            "\u001b[1m45/45\u001b[0m \u001b[32m━━━━━━━━━━━━━━━━━━━━\u001b[0m\u001b[37m\u001b[0m \u001b[1m1s\u001b[0m 12ms/step - f1_score: 0.8745 - loss: 0.2522 - val_f1_score: 0.5743 - val_loss: 0.6364\n",
            "Epoch 6/30\n",
            "\u001b[1m45/45\u001b[0m \u001b[32m━━━━━━━━━━━━━━━━━━━━\u001b[0m\u001b[37m\u001b[0m \u001b[1m1s\u001b[0m 15ms/step - f1_score: 0.9178 - loss: 0.1894 - val_f1_score: 0.4667 - val_loss: 0.8011\n",
            "Epoch 7/30\n",
            "\u001b[1m45/45\u001b[0m \u001b[32m━━━━━━━━━━━━━━━━━━━━\u001b[0m\u001b[37m\u001b[0m \u001b[1m1s\u001b[0m 17ms/step - f1_score: 0.9144 - loss: 0.1822 - val_f1_score: 0.7119 - val_loss: 0.5986\n",
            "Epoch 8/30\n",
            "\u001b[1m45/45\u001b[0m \u001b[32m━━━━━━━━━━━━━━━━━━━━\u001b[0m\u001b[37m\u001b[0m \u001b[1m1s\u001b[0m 12ms/step - f1_score: 0.9585 - loss: 0.1004 - val_f1_score: 0.7288 - val_loss: 0.7101\n",
            "Epoch 9/30\n",
            "\u001b[1m45/45\u001b[0m \u001b[32m━━━━━━━━━━━━━━━━━━━━\u001b[0m\u001b[37m\u001b[0m \u001b[1m1s\u001b[0m 12ms/step - f1_score: 0.9787 - loss: 0.0579 - val_f1_score: 0.7360 - val_loss: 0.6051\n",
            "Epoch 10/30\n",
            "\u001b[1m45/45\u001b[0m \u001b[32m━━━━━━━━━━━━━━━━━━━━\u001b[0m\u001b[37m\u001b[0m \u001b[1m1s\u001b[0m 12ms/step - f1_score: 0.9858 - loss: 0.0374 - val_f1_score: 0.7000 - val_loss: 0.8478\n",
            "Epoch 11/30\n",
            "\u001b[1m45/45\u001b[0m \u001b[32m━━━━━━━━━━━━━━━━━━━━\u001b[0m\u001b[37m\u001b[0m \u001b[1m1s\u001b[0m 12ms/step - f1_score: 0.9933 - loss: 0.0238 - val_f1_score: 0.7091 - val_loss: 1.0374\n",
            "Epoch 12/30\n",
            "\u001b[1m45/45\u001b[0m \u001b[32m━━━━━━━━━━━━━━━━━━━━\u001b[0m\u001b[37m\u001b[0m \u001b[1m1s\u001b[0m 12ms/step - f1_score: 0.9951 - loss: 0.0213 - val_f1_score: 0.6842 - val_loss: 0.9667\n",
            "Epoch 13/30\n",
            "\u001b[1m45/45\u001b[0m \u001b[32m━━━━━━━━━━━━━━━━━━━━\u001b[0m\u001b[37m\u001b[0m \u001b[1m1s\u001b[0m 11ms/step - f1_score: 0.9990 - loss: 0.0162 - val_f1_score: 0.7273 - val_loss: 0.8733\n",
            "Epoch 14/30\n",
            "\u001b[1m45/45\u001b[0m \u001b[32m━━━━━━━━━━━━━━━━━━━━\u001b[0m\u001b[37m\u001b[0m \u001b[1m1s\u001b[0m 12ms/step - f1_score: 0.9898 - loss: 0.0309 - val_f1_score: 0.7451 - val_loss: 0.9379\n",
            "Epoch 15/30\n",
            "\u001b[1m45/45\u001b[0m \u001b[32m━━━━━━━━━━━━━━━━━━━━\u001b[0m\u001b[37m\u001b[0m \u001b[1m1s\u001b[0m 12ms/step - f1_score: 0.9824 - loss: 0.0530 - val_f1_score: 0.7302 - val_loss: 0.6749\n",
            "Epoch 16/30\n",
            "\u001b[1m45/45\u001b[0m \u001b[32m━━━━━━━━━━━━━━━━━━━━\u001b[0m\u001b[37m\u001b[0m \u001b[1m1s\u001b[0m 12ms/step - f1_score: 0.9966 - loss: 0.0129 - val_f1_score: 0.7368 - val_loss: 0.7472\n",
            "Epoch 17/30\n",
            "\u001b[1m45/45\u001b[0m \u001b[32m━━━━━━━━━━━━━━━━━━━━\u001b[0m\u001b[37m\u001b[0m \u001b[1m1s\u001b[0m 12ms/step - f1_score: 0.9981 - loss: 0.0101 - val_f1_score: 0.6903 - val_loss: 1.1953\n",
            "Epoch 18/30\n",
            "\u001b[1m45/45\u001b[0m \u001b[32m━━━━━━━━━━━━━━━━━━━━\u001b[0m\u001b[37m\u001b[0m \u001b[1m1s\u001b[0m 12ms/step - f1_score: 1.0000 - loss: 0.0031 - val_f1_score: 0.7438 - val_loss: 1.1032\n",
            "Epoch 19/30\n",
            "\u001b[1m45/45\u001b[0m \u001b[32m━━━━━━━━━━━━━━━━━━━━\u001b[0m\u001b[37m\u001b[0m \u001b[1m1s\u001b[0m 13ms/step - f1_score: 1.0000 - loss: 0.0020 - val_f1_score: 0.7333 - val_loss: 1.1759\n",
            "Epoch 20/30\n",
            "\u001b[1m45/45\u001b[0m \u001b[32m━━━━━━━━━━━━━━━━━━━━\u001b[0m\u001b[37m\u001b[0m \u001b[1m1s\u001b[0m 12ms/step - f1_score: 1.0000 - loss: 0.0017 - val_f1_score: 0.7438 - val_loss: 1.2343\n",
            "Epoch 21/30\n",
            "\u001b[1m45/45\u001b[0m \u001b[32m━━━━━━━━━━━━━━━━━━━━\u001b[0m\u001b[37m\u001b[0m \u001b[1m1s\u001b[0m 12ms/step - f1_score: 1.0000 - loss: 0.0014 - val_f1_score: 0.7438 - val_loss: 1.2783\n",
            "Epoch 22/30\n",
            "\u001b[1m45/45\u001b[0m \u001b[32m━━━━━━━━━━━━━━━━━━━━\u001b[0m\u001b[37m\u001b[0m \u001b[1m1s\u001b[0m 12ms/step - f1_score: 1.0000 - loss: 0.0012 - val_f1_score: 0.7438 - val_loss: 1.3168\n",
            "Epoch 23/30\n",
            "\u001b[1m45/45\u001b[0m \u001b[32m━━━━━━━━━━━━━━━━━━━━\u001b[0m\u001b[37m\u001b[0m \u001b[1m1s\u001b[0m 12ms/step - f1_score: 1.0000 - loss: 0.0011 - val_f1_score: 0.7438 - val_loss: 1.3510\n",
            "Epoch 24/30\n",
            "\u001b[1m45/45\u001b[0m \u001b[32m━━━━━━━━━━━━━━━━━━━━\u001b[0m\u001b[37m\u001b[0m \u001b[1m1s\u001b[0m 12ms/step - f1_score: 1.0000 - loss: 9.3315e-04 - val_f1_score: 0.7438 - val_loss: 1.3819\n",
            "Epoch 25/30\n",
            "\u001b[1m45/45\u001b[0m \u001b[32m━━━━━━━━━━━━━━━━━━━━\u001b[0m\u001b[37m\u001b[0m \u001b[1m1s\u001b[0m 16ms/step - f1_score: 1.0000 - loss: 8.3307e-04 - val_f1_score: 0.7438 - val_loss: 1.4098\n",
            "Epoch 26/30\n",
            "\u001b[1m45/45\u001b[0m \u001b[32m━━━━━━━━━━━━━━━━━━━━\u001b[0m\u001b[37m\u001b[0m \u001b[1m1s\u001b[0m 17ms/step - f1_score: 1.0000 - loss: 7.4921e-04 - val_f1_score: 0.7438 - val_loss: 1.4347\n",
            "Epoch 27/30\n",
            "\u001b[1m45/45\u001b[0m \u001b[32m━━━━━━━━━━━━━━━━━━━━\u001b[0m\u001b[37m\u001b[0m \u001b[1m1s\u001b[0m 19ms/step - f1_score: 1.0000 - loss: 6.7803e-04 - val_f1_score: 0.7438 - val_loss: 1.4571\n",
            "Epoch 28/30\n",
            "\u001b[1m45/45\u001b[0m \u001b[32m━━━━━━━━━━━━━━━━━━━━\u001b[0m\u001b[37m\u001b[0m \u001b[1m1s\u001b[0m 12ms/step - f1_score: 1.0000 - loss: 6.1695e-04 - val_f1_score: 0.7438 - val_loss: 1.4773\n",
            "Epoch 29/30\n",
            "\u001b[1m45/45\u001b[0m \u001b[32m━━━━━━━━━━━━━━━━━━━━\u001b[0m\u001b[37m\u001b[0m \u001b[1m1s\u001b[0m 13ms/step - f1_score: 1.0000 - loss: 5.6401e-04 - val_f1_score: 0.7438 - val_loss: 1.4959\n",
            "Epoch 30/30\n",
            "\u001b[1m45/45\u001b[0m \u001b[32m━━━━━━━━━━━━━━━━━━━━\u001b[0m\u001b[37m\u001b[0m \u001b[1m1s\u001b[0m 12ms/step - f1_score: 1.0000 - loss: 5.1771e-04 - val_f1_score: 0.7438 - val_loss: 1.5134\n"
          ]
        },
        {
          "output_type": "display_data",
          "data": {
            "text/plain": [
              "<Figure size 1000x600 with 1 Axes>"
            ],
            "image/png": "[encoded data removed]"
          },
          "metadata": {}
        },
        {
          "output_type": "stream",
          "name": "stdout",
          "text": [
            "Training and evaluating model: model_1\n",
            "Epoch 1/30\n",
            "\u001b[1m45/45\u001b[0m \u001b[32m━━━━━━━━━━━━━━━━━━━━\u001b[0m\u001b[37m\u001b[0m \u001b[1m4s\u001b[0m 27ms/step - f1_score: 0.4468 - loss: 0.6291 - val_f1_score: 0.5253 - val_loss: 0.5766\n",
            "Epoch 2/30\n",
            "\u001b[1m45/45\u001b[0m \u001b[32m━━━━━━━━━━━━━━━━━━━━\u001b[0m\u001b[37m\u001b[0m \u001b[1m1s\u001b[0m 15ms/step - f1_score: 0.6624 - loss: 0.5174 - val_f1_score: 0.6481 - val_loss: 0.5153\n",
            "Epoch 3/30\n",
            "\u001b[1m45/45\u001b[0m \u001b[32m━━━━━━━━━━━━━━━━━━━━\u001b[0m\u001b[37m\u001b[0m \u001b[1m1s\u001b[0m 15ms/step - f1_score: 0.7307 - loss: 0.4495 - val_f1_score: 0.7360 - val_loss: 0.4869\n",
            "Epoch 4/30\n",
            "\u001b[1m45/45\u001b[0m \u001b[32m━━━━━━━━━━━━━━━━━━━━\u001b[0m\u001b[37m\u001b[0m \u001b[1m1s\u001b[0m 15ms/step - f1_score: 0.8202 - loss: 0.3465 - val_f1_score: 0.7130 - val_loss: 0.5133\n",
            "Epoch 5/30\n",
            "\u001b[1m45/45\u001b[0m \u001b[32m━━━━━━━━━━━━━━━━━━━━\u001b[0m\u001b[37m\u001b[0m \u001b[1m2s\u001b[0m 22ms/step - f1_score: 0.8824 - loss: 0.2406 - val_f1_score: 0.7193 - val_loss: 0.6283\n",
            "Epoch 6/30\n",
            "\u001b[1m45/45\u001b[0m \u001b[32m━━━━━━━━━━━━━━━━━━━━\u001b[0m\u001b[37m\u001b[0m \u001b[1m1s\u001b[0m 23ms/step - f1_score: 0.9203 - loss: 0.1740 - val_f1_score: 0.7200 - val_loss: 0.6682\n",
            "Epoch 7/30\n",
            "\u001b[1m45/45\u001b[0m \u001b[32m━━━━━━━━━━━━━━━━━━━━\u001b[0m\u001b[37m\u001b[0m \u001b[1m1s\u001b[0m 16ms/step - f1_score: 0.9168 - loss: 0.1822 - val_f1_score: 0.6783 - val_loss: 0.8033\n",
            "Epoch 8/30\n",
            "\u001b[1m45/45\u001b[0m \u001b[32m━━━━━━━━━━━━━━━━━━━━\u001b[0m\u001b[37m\u001b[0m \u001b[1m1s\u001b[0m 15ms/step - f1_score: 0.9686 - loss: 0.0761 - val_f1_score: 0.7200 - val_loss: 0.7110\n",
            "Epoch 9/30\n",
            "\u001b[1m45/45\u001b[0m \u001b[32m━━━━━━━━━━━━━━━━━━━━\u001b[0m\u001b[37m\u001b[0m \u001b[1m1s\u001b[0m 16ms/step - f1_score: 0.9792 - loss: 0.0554 - val_f1_score: 0.7429 - val_loss: 0.6808\n",
            "Epoch 10/30\n",
            "\u001b[1m45/45\u001b[0m \u001b[32m━━━━━━━━━━━━━━━━━━━━\u001b[0m\u001b[37m\u001b[0m \u001b[1m1s\u001b[0m 15ms/step - f1_score: 0.9761 - loss: 0.0579 - val_f1_score: 0.7222 - val_loss: 0.8293\n",
            "Epoch 11/30\n",
            "\u001b[1m45/45\u001b[0m \u001b[32m━━━━━━━━━━━━━━━━━━━━\u001b[0m\u001b[37m\u001b[0m \u001b[1m1s\u001b[0m 15ms/step - f1_score: 0.9640 - loss: 0.0771 - val_f1_score: 0.6772 - val_loss: 0.8547\n",
            "Epoch 12/30\n",
            "\u001b[1m45/45\u001b[0m \u001b[32m━━━━━━━━━━━━━━━━━━━━\u001b[0m\u001b[37m\u001b[0m \u001b[1m1s\u001b[0m 15ms/step - f1_score: 0.9749 - loss: 0.0555 - val_f1_score: 0.7237 - val_loss: 0.9403\n",
            "Epoch 13/30\n",
            "\u001b[1m45/45\u001b[0m \u001b[32m━━━━━━━━━━━━━━━━━━━━\u001b[0m\u001b[37m\u001b[0m \u001b[1m1s\u001b[0m 15ms/step - f1_score: 0.9928 - loss: 0.0300 - val_f1_score: 0.6977 - val_loss: 0.9791\n",
            "Epoch 14/30\n",
            "\u001b[1m45/45\u001b[0m \u001b[32m━━━━━━━━━━━━━━━━━━━━\u001b[0m\u001b[37m\u001b[0m \u001b[1m1s\u001b[0m 15ms/step - f1_score: 0.9940 - loss: 0.0197 - val_f1_score: 0.6777 - val_loss: 1.0737\n",
            "Epoch 15/30\n",
            "\u001b[1m45/45\u001b[0m \u001b[32m━━━━━━━━━━━━━━━━━━━━\u001b[0m\u001b[37m\u001b[0m \u001b[1m1s\u001b[0m 15ms/step - f1_score: 0.9984 - loss: 0.0083 - val_f1_score: 0.6917 - val_loss: 1.1468\n",
            "Epoch 16/30\n",
            "\u001b[1m45/45\u001b[0m \u001b[32m━━━━━━━━━━━━━━━━━━━━\u001b[0m\u001b[37m\u001b[0m \u001b[1m1s\u001b[0m 15ms/step - f1_score: 0.9985 - loss: 0.0053 - val_f1_score: 0.7031 - val_loss: 1.2475\n",
            "Epoch 17/30\n",
            "\u001b[1m45/45\u001b[0m \u001b[32m━━━━━━━━━━━━━━━━━━━━\u001b[0m\u001b[37m\u001b[0m \u001b[1m1s\u001b[0m 15ms/step - f1_score: 0.9985 - loss: 0.0040 - val_f1_score: 0.7077 - val_loss: 1.3155\n",
            "Epoch 18/30\n",
            "\u001b[1m45/45\u001b[0m \u001b[32m━━━━━━━━━━━━━━━━━━━━\u001b[0m\u001b[37m\u001b[0m \u001b[1m1s\u001b[0m 22ms/step - f1_score: 0.9985 - loss: 0.0033 - val_f1_score: 0.7176 - val_loss: 1.4011\n",
            "Epoch 19/30\n",
            "\u001b[1m45/45\u001b[0m \u001b[32m━━━━━━━━━━━━━━━━━━━━\u001b[0m\u001b[37m\u001b[0m \u001b[1m1s\u001b[0m 23ms/step - f1_score: 0.9998 - loss: 0.0027 - val_f1_score: 0.7023 - val_loss: 1.4936\n",
            "Epoch 20/30\n",
            "\u001b[1m45/45\u001b[0m \u001b[32m━━━━━━━━━━━━━━━━━━━━\u001b[0m\u001b[37m\u001b[0m \u001b[1m1s\u001b[0m 19ms/step - f1_score: 0.9998 - loss: 0.0022 - val_f1_score: 0.7023 - val_loss: 1.5569\n",
            "Epoch 21/30\n",
            "\u001b[1m45/45\u001b[0m \u001b[32m━━━━━━━━━━━━━━━━━━━━\u001b[0m\u001b[37m\u001b[0m \u001b[1m1s\u001b[0m 15ms/step - f1_score: 0.9998 - loss: 0.0019 - val_f1_score: 0.7077 - val_loss: 1.6012\n",
            "Epoch 22/30\n",
            "\u001b[1m45/45\u001b[0m \u001b[32m━━━━━━━━━━━━━━━━━━━━\u001b[0m\u001b[37m\u001b[0m \u001b[1m1s\u001b[0m 15ms/step - f1_score: 0.9998 - loss: 0.0016 - val_f1_score: 0.7077 - val_loss: 1.6442\n",
            "Epoch 23/30\n",
            "\u001b[1m45/45\u001b[0m \u001b[32m━━━━━━━━━━━━━━━━━━━━\u001b[0m\u001b[37m\u001b[0m \u001b[1m1s\u001b[0m 15ms/step - f1_score: 0.9998 - loss: 0.0014 - val_f1_score: 0.7077 - val_loss: 1.6749\n",
            "Epoch 24/30\n",
            "\u001b[1m45/45\u001b[0m \u001b[32m━━━━━━━━━━━━━━━━━━━━\u001b[0m\u001b[37m\u001b[0m \u001b[1m1s\u001b[0m 15ms/step - f1_score: 0.9998 - loss: 0.0012 - val_f1_score: 0.7077 - val_loss: 1.7000\n",
            "Epoch 25/30\n",
            "\u001b[1m45/45\u001b[0m \u001b[32m━━━━━━━━━━━━━━━━━━━━\u001b[0m\u001b[37m\u001b[0m \u001b[1m1s\u001b[0m 15ms/step - f1_score: 0.9998 - loss: 0.0011 - val_f1_score: 0.7077 - val_loss: 1.7222\n",
            "Epoch 26/30\n",
            "\u001b[1m45/45\u001b[0m \u001b[32m━━━━━━━━━━━━━━━━━━━━\u001b[0m\u001b[37m\u001b[0m \u001b[1m1s\u001b[0m 15ms/step - f1_score: 1.0000 - loss: 9.4642e-04 - val_f1_score: 0.7132 - val_loss: 1.7471\n",
            "Epoch 27/30\n",
            "\u001b[1m45/45\u001b[0m \u001b[32m━━━━━━━━━━━━━━━━━━━━\u001b[0m\u001b[37m\u001b[0m \u001b[1m1s\u001b[0m 15ms/step - f1_score: 1.0000 - loss: 8.4151e-04 - val_f1_score: 0.7132 - val_loss: 1.7747\n",
            "Epoch 28/30\n",
            "\u001b[1m45/45\u001b[0m \u001b[32m━━━━━━━━━━━━━━━━━━━━\u001b[0m\u001b[37m\u001b[0m \u001b[1m1s\u001b[0m 15ms/step - f1_score: 1.0000 - loss: 7.5467e-04 - val_f1_score: 0.7132 - val_loss: 1.8022\n",
            "Epoch 29/30\n",
            "\u001b[1m45/45\u001b[0m \u001b[32m━━━━━━━━━━━━━━━━━━━━\u001b[0m\u001b[37m\u001b[0m \u001b[1m1s\u001b[0m 15ms/step - f1_score: 1.0000 - loss: 6.8040e-04 - val_f1_score: 0.7132 - val_loss: 1.8290\n",
            "Epoch 30/30\n",
            "\u001b[1m45/45\u001b[0m \u001b[32m━━━━━━━━━━━━━━━━━━━━\u001b[0m\u001b[37m\u001b[0m \u001b[1m1s\u001b[0m 16ms/step - f1_score: 1.0000 - loss: 6.1637e-04 - val_f1_score: 0.7132 - val_loss: 1.8547\n"
          ]
        },
        {
          "output_type": "display_data",
          "data": {
            "text/plain": [
              "<Figure size 1000x600 with 1 Axes>"
            ],
            "image/png": "[encoded data removed]"
          },
          "metadata": {}
        },
        {
          "output_type": "stream",
          "name": "stdout",
          "text": [
            "\n",
            "\n",
            "###### Evaluating models with seed 50 ######\n",
            "Training and evaluating model: model_base\n",
            "Epoch 1/30\n",
            "\u001b[1m45/45\u001b[0m \u001b[32m━━━━━━━━━━━━━━━━━━━━\u001b[0m\u001b[37m\u001b[0m \u001b[1m4s\u001b[0m 22ms/step - f1_score: 0.3432 - loss: 0.6664 - val_f1_score: 0.5294 - val_loss: 0.5862\n",
            "Epoch 2/30\n",
            "\u001b[1m45/45\u001b[0m \u001b[32m━━━━━━━━━━━━━━━━━━━━\u001b[0m\u001b[37m\u001b[0m \u001b[1m1s\u001b[0m 12ms/step - f1_score: 0.6792 - loss: 0.5161 - val_f1_score: 0.6549 - val_loss: 0.5271\n",
            "Epoch 3/30\n",
            "\u001b[1m45/45\u001b[0m \u001b[32m━━━━━━━━━━━━━━━━━━━━\u001b[0m\u001b[37m\u001b[0m \u001b[1m1s\u001b[0m 12ms/step - f1_score: 0.7712 - loss: 0.4128 - val_f1_score: 0.6726 - val_loss: 0.5465\n",
            "Epoch 4/30\n",
            "\u001b[1m45/45\u001b[0m \u001b[32m━━━━━━━━━━━━━━━━━━━━\u001b[0m\u001b[37m\u001b[0m \u001b[1m1s\u001b[0m 12ms/step - f1_score: 0.8360 - loss: 0.3221 - val_f1_score: 0.6609 - val_loss: 0.5301\n",
            "Epoch 5/30\n",
            "\u001b[1m45/45\u001b[0m \u001b[32m━━━━━━━━━━━━━━━━━━━━\u001b[0m\u001b[37m\u001b[0m \u001b[1m1s\u001b[0m 12ms/step - f1_score: 0.8928 - loss: 0.2443 - val_f1_score: 0.7333 - val_loss: 0.4700\n",
            "Epoch 6/30\n",
            "\u001b[1m45/45\u001b[0m \u001b[32m━━━━━━━━━━━━━━━━━━━━\u001b[0m\u001b[37m\u001b[0m \u001b[1m1s\u001b[0m 12ms/step - f1_score: 0.9166 - loss: 0.1791 - val_f1_score: 0.7097 - val_loss: 0.5086\n",
            "Epoch 7/30\n",
            "\u001b[1m45/45\u001b[0m \u001b[32m━━━━━━━━━━━━━━━━━━━━\u001b[0m\u001b[37m\u001b[0m \u001b[1m1s\u001b[0m 12ms/step - f1_score: 0.9506 - loss: 0.1350 - val_f1_score: 0.6942 - val_loss: 0.5113\n",
            "Epoch 8/30\n",
            "\u001b[1m45/45\u001b[0m \u001b[32m━━━━━━━━━━━━━━━━━━━━\u001b[0m\u001b[37m\u001b[0m \u001b[1m1s\u001b[0m 12ms/step - f1_score: 0.9696 - loss: 0.0858 - val_f1_score: 0.7167 - val_loss: 0.4828\n",
            "Epoch 9/30\n",
            "\u001b[1m45/45\u001b[0m \u001b[32m━━━━━━━━━━━━━━━━━━━━\u001b[0m\u001b[37m\u001b[0m \u001b[1m1s\u001b[0m 11ms/step - f1_score: 0.9833 - loss: 0.0593 - val_f1_score: 0.5918 - val_loss: 1.0771\n",
            "Epoch 10/30\n",
            "\u001b[1m45/45\u001b[0m \u001b[32m━━━━━━━━━━━━━━━━━━━━\u001b[0m\u001b[37m\u001b[0m \u001b[1m1s\u001b[0m 13ms/step - f1_score: 0.9802 - loss: 0.0512 - val_f1_score: 0.6964 - val_loss: 0.7009\n",
            "Epoch 11/30\n",
            "\u001b[1m45/45\u001b[0m \u001b[32m━━━━━━━━━━━━━━━━━━━━\u001b[0m\u001b[37m\u001b[0m \u001b[1m1s\u001b[0m 13ms/step - f1_score: 0.9900 - loss: 0.0420 - val_f1_score: 0.7107 - val_loss: 0.6933\n",
            "Epoch 12/30\n",
            "\u001b[1m45/45\u001b[0m \u001b[32m━━━━━━━━━━━━━━━━━━━━\u001b[0m\u001b[37m\u001b[0m \u001b[1m1s\u001b[0m 12ms/step - f1_score: 0.9847 - loss: 0.0428 - val_f1_score: 0.7519 - val_loss: 0.5231\n",
            "Epoch 13/30\n",
            "\u001b[1m45/45\u001b[0m \u001b[32m━━━━━━━━━━━━━━━━━━━━\u001b[0m\u001b[37m\u001b[0m \u001b[1m1s\u001b[0m 12ms/step - f1_score: 0.9873 - loss: 0.0361 - val_f1_score: 0.7424 - val_loss: 0.5738\n",
            "Epoch 14/30\n",
            "\u001b[1m45/45\u001b[0m \u001b[32m━━━━━━━━━━━━━━━━━━━━\u001b[0m\u001b[37m\u001b[0m \u001b[1m1s\u001b[0m 11ms/step - f1_score: 0.9966 - loss: 0.0168 - val_f1_score: 0.7815 - val_loss: 0.7166\n",
            "Epoch 15/30\n",
            "\u001b[1m45/45\u001b[0m \u001b[32m━━━━━━━━━━━━━━━━━━━━\u001b[0m\u001b[37m\u001b[0m \u001b[1m1s\u001b[0m 16ms/step - f1_score: 0.9988 - loss: 0.0107 - val_f1_score: 0.7213 - val_loss: 0.7515\n",
            "Epoch 16/30\n",
            "\u001b[1m45/45\u001b[0m \u001b[32m━━━━━━━━━━━━━━━━━━━━\u001b[0m\u001b[37m\u001b[0m \u001b[1m1s\u001b[0m 17ms/step - f1_score: 1.0000 - loss: 0.0066 - val_f1_score: 0.7069 - val_loss: 0.9912\n",
            "Epoch 17/30\n",
            "\u001b[1m45/45\u001b[0m \u001b[32m━━━━━━━━━━━━━━━━━━━━\u001b[0m\u001b[37m\u001b[0m \u001b[1m1s\u001b[0m 18ms/step - f1_score: 1.0000 - loss: 0.0035 - val_f1_score: 0.7107 - val_loss: 0.9316\n",
            "Epoch 18/30\n",
            "\u001b[1m45/45\u001b[0m \u001b[32m━━━━━━━━━━━━━━━━━━━━\u001b[0m\u001b[37m\u001b[0m \u001b[1m1s\u001b[0m 16ms/step - f1_score: 1.0000 - loss: 0.0022 - val_f1_score: 0.7154 - val_loss: 0.9432\n",
            "Epoch 19/30\n",
            "\u001b[1m45/45\u001b[0m \u001b[32m━━━━━━━━━━━━━━━━━━━━\u001b[0m\u001b[37m\u001b[0m \u001b[1m1s\u001b[0m 12ms/step - f1_score: 1.0000 - loss: 0.0018 - val_f1_score: 0.7049 - val_loss: 1.0097\n",
            "Epoch 20/30\n",
            "\u001b[1m45/45\u001b[0m \u001b[32m━━━━━━━━━━━━━━━━━━━━\u001b[0m\u001b[37m\u001b[0m \u001b[1m1s\u001b[0m 12ms/step - f1_score: 1.0000 - loss: 0.0014 - val_f1_score: 0.7167 - val_loss: 1.0549\n",
            "Epoch 21/30\n",
            "\u001b[1m45/45\u001b[0m \u001b[32m━━━━━━━━━━━━━━━━━━━━\u001b[0m\u001b[37m\u001b[0m \u001b[1m1s\u001b[0m 12ms/step - f1_score: 1.0000 - loss: 0.0011 - val_f1_score: 0.7167 - val_loss: 1.0856\n",
            "Epoch 22/30\n",
            "\u001b[1m45/45\u001b[0m \u001b[32m━━━━━━━━━━━━━━━━━━━━\u001b[0m\u001b[37m\u001b[0m \u001b[1m1s\u001b[0m 12ms/step - f1_score: 1.0000 - loss: 9.8076e-04 - val_f1_score: 0.7167 - val_loss: 1.1114\n",
            "Epoch 23/30\n",
            "\u001b[1m45/45\u001b[0m \u001b[32m━━━━━━━━━━━━━━━━━━━━\u001b[0m\u001b[37m\u001b[0m \u001b[1m1s\u001b[0m 12ms/step - f1_score: 1.0000 - loss: 8.4922e-04 - val_f1_score: 0.7167 - val_loss: 1.1340\n",
            "Epoch 24/30\n",
            "\u001b[1m45/45\u001b[0m \u001b[32m━━━━━━━━━━━━━━━━━━━━\u001b[0m\u001b[37m\u001b[0m \u001b[1m1s\u001b[0m 12ms/step - f1_score: 1.0000 - loss: 7.4386e-04 - val_f1_score: 0.7167 - val_loss: 1.1545\n",
            "Epoch 25/30\n",
            "\u001b[1m45/45\u001b[0m \u001b[32m━━━━━━━━━━━━━━━━━━━━\u001b[0m\u001b[37m\u001b[0m \u001b[1m1s\u001b[0m 12ms/step - f1_score: 1.0000 - loss: 6.5767e-04 - val_f1_score: 0.7167 - val_loss: 1.1733\n",
            "Epoch 26/30\n",
            "\u001b[1m45/45\u001b[0m \u001b[32m━━━━━━━━━━━━━━━━━━━━\u001b[0m\u001b[37m\u001b[0m \u001b[1m1s\u001b[0m 12ms/step - f1_score: 1.0000 - loss: 5.8601e-04 - val_f1_score: 0.7167 - val_loss: 1.1908\n",
            "Epoch 27/30\n",
            "\u001b[1m45/45\u001b[0m \u001b[32m━━━━━━━━━━━━━━━━━━━━\u001b[0m\u001b[37m\u001b[0m \u001b[1m1s\u001b[0m 12ms/step - f1_score: 1.0000 - loss: 5.2561e-04 - val_f1_score: 0.7167 - val_loss: 1.2071\n",
            "Epoch 28/30\n",
            "\u001b[1m45/45\u001b[0m \u001b[32m━━━━━━━━━━━━━━━━━━━━\u001b[0m\u001b[37m\u001b[0m \u001b[1m1s\u001b[0m 12ms/step - f1_score: 1.0000 - loss: 4.7414e-04 - val_f1_score: 0.7167 - val_loss: 1.2224\n",
            "Epoch 29/30\n",
            "\u001b[1m45/45\u001b[0m \u001b[32m━━━━━━━━━━━━━━━━━━━━\u001b[0m\u001b[37m\u001b[0m \u001b[1m1s\u001b[0m 12ms/step - f1_score: 1.0000 - loss: 4.2985e-04 - val_f1_score: 0.7167 - val_loss: 1.2368\n",
            "Epoch 30/30\n",
            "\u001b[1m45/45\u001b[0m \u001b[32m━━━━━━━━━━━━━━━━━━━━\u001b[0m\u001b[37m\u001b[0m \u001b[1m1s\u001b[0m 12ms/step - f1_score: 1.0000 - loss: 3.9144e-04 - val_f1_score: 0.7167 - val_loss: 1.2504\n"
          ]
        },
        {
          "output_type": "display_data",
          "data": {
            "text/plain": [
              "<Figure size 1000x600 with 1 Axes>"
            ],
            "image/png": "[encoded data removed]"
          },
          "metadata": {}
        },
        {
          "output_type": "stream",
          "name": "stdout",
          "text": [
            "Training and evaluating model: model_1\n",
            "Epoch 1/30\n",
            "\u001b[1m45/45\u001b[0m \u001b[32m━━━━━━━━━━━━━━━━━━━━\u001b[0m\u001b[37m\u001b[0m \u001b[1m5s\u001b[0m 34ms/step - f1_score: 0.3812 - loss: 0.6472 - val_f1_score: 0.5962 - val_loss: 0.5595\n",
            "Epoch 2/30\n",
            "\u001b[1m45/45\u001b[0m \u001b[32m━━━━━━━━━━━━━━━━━━━━\u001b[0m\u001b[37m\u001b[0m \u001b[1m1s\u001b[0m 15ms/step - f1_score: 0.6968 - loss: 0.5078 - val_f1_score: 0.6667 - val_loss: 0.5273\n",
            "Epoch 3/30\n",
            "\u001b[1m45/45\u001b[0m \u001b[32m━━━━━━━━━━━━━━━━━━━━\u001b[0m\u001b[37m\u001b[0m \u001b[1m1s\u001b[0m 15ms/step - f1_score: 0.7728 - loss: 0.4129 - val_f1_score: 0.7027 - val_loss: 0.5167\n",
            "Epoch 4/30\n",
            "\u001b[1m45/45\u001b[0m \u001b[32m━━━━━━━━━━━━━━━━━━━━\u001b[0m\u001b[37m\u001b[0m \u001b[1m1s\u001b[0m 15ms/step - f1_score: 0.8448 - loss: 0.3268 - val_f1_score: 0.7603 - val_loss: 0.4929\n",
            "Epoch 5/30\n",
            "\u001b[1m45/45\u001b[0m \u001b[32m━━━━━━━━━━━━━━━━━━━━\u001b[0m\u001b[37m\u001b[0m \u001b[1m1s\u001b[0m 16ms/step - f1_score: 0.8709 - loss: 0.2692 - val_f1_score: 0.7586 - val_loss: 0.5953\n",
            "Epoch 6/30\n",
            "\u001b[1m45/45\u001b[0m \u001b[32m━━━━━━━━━━━━━━━━━━━━\u001b[0m\u001b[37m\u001b[0m \u001b[1m1s\u001b[0m 16ms/step - f1_score: 0.9072 - loss: 0.2142 - val_f1_score: 0.7434 - val_loss: 0.5525\n",
            "Epoch 7/30\n",
            "\u001b[1m45/45\u001b[0m \u001b[32m━━━━━━━━━━━━━━━━━━━━\u001b[0m\u001b[37m\u001b[0m \u001b[1m1s\u001b[0m 16ms/step - f1_score: 0.9418 - loss: 0.1657 - val_f1_score: 0.7647 - val_loss: 0.5151\n",
            "Epoch 8/30\n",
            "\u001b[1m45/45\u001b[0m \u001b[32m━━━━━━━━━━━━━━━━━━━━\u001b[0m\u001b[37m\u001b[0m \u001b[1m1s\u001b[0m 15ms/step - f1_score: 0.9594 - loss: 0.1079 - val_f1_score: 0.7559 - val_loss: 0.6503\n",
            "Epoch 9/30\n",
            "\u001b[1m45/45\u001b[0m \u001b[32m━━━━━━━━━━━━━━━━━━━━\u001b[0m\u001b[37m\u001b[0m \u001b[1m1s\u001b[0m 16ms/step - f1_score: 0.9823 - loss: 0.0559 - val_f1_score: 0.7705 - val_loss: 0.8014\n",
            "Epoch 10/30\n",
            "\u001b[1m45/45\u001b[0m \u001b[32m━━━━━━━━━━━━━━━━━━━━\u001b[0m\u001b[37m\u001b[0m \u001b[1m1s\u001b[0m 16ms/step - f1_score: 0.9898 - loss: 0.0360 - val_f1_score: 0.7639 - val_loss: 0.7822\n",
            "Epoch 11/30\n",
            "\u001b[1m45/45\u001b[0m \u001b[32m━━━━━━━━━━━━━━━━━━━━\u001b[0m\u001b[37m\u001b[0m \u001b[1m2s\u001b[0m 22ms/step - f1_score: 0.9817 - loss: 0.0478 - val_f1_score: 0.7939 - val_loss: 0.7379\n",
            "Epoch 12/30\n",
            "\u001b[1m45/45\u001b[0m \u001b[32m━━━━━━━━━━━━━━━━━━━━\u001b[0m\u001b[37m\u001b[0m \u001b[1m1s\u001b[0m 23ms/step - f1_score: 0.9915 - loss: 0.0312 - val_f1_score: 0.7704 - val_loss: 0.8432\n",
            "Epoch 13/30\n",
            "\u001b[1m45/45\u001b[0m \u001b[32m━━━━━━━━━━━━━━━━━━━━\u001b[0m\u001b[37m\u001b[0m \u001b[1m1s\u001b[0m 18ms/step - f1_score: 0.9905 - loss: 0.0283 - val_f1_score: 0.7397 - val_loss: 0.9477\n",
            "Epoch 14/30\n",
            "\u001b[1m45/45\u001b[0m \u001b[32m━━━━━━━━━━━━━━━━━━━━\u001b[0m\u001b[37m\u001b[0m \u001b[1m1s\u001b[0m 15ms/step - f1_score: 0.9931 - loss: 0.0249 - val_f1_score: 0.7680 - val_loss: 0.8898\n",
            "Epoch 15/30\n",
            "\u001b[1m45/45\u001b[0m \u001b[32m━━━━━━━━━━━━━━━━━━━━\u001b[0m\u001b[37m\u001b[0m \u001b[1m1s\u001b[0m 15ms/step - f1_score: 0.9936 - loss: 0.0220 - val_f1_score: 0.7368 - val_loss: 1.0155\n",
            "Epoch 16/30\n",
            "\u001b[1m45/45\u001b[0m \u001b[32m━━━━━━━━━━━━━━━━━━━━\u001b[0m\u001b[37m\u001b[0m \u001b[1m1s\u001b[0m 16ms/step - f1_score: 0.9947 - loss: 0.0135 - val_f1_score: 0.7937 - val_loss: 0.9681\n",
            "Epoch 17/30\n",
            "\u001b[1m45/45\u001b[0m \u001b[32m━━━━━━━━━━━━━━━━━━━━\u001b[0m\u001b[37m\u001b[0m \u001b[1m1s\u001b[0m 15ms/step - f1_score: 0.9995 - loss: 0.0047 - val_f1_score: 0.7840 - val_loss: 1.0445\n",
            "Epoch 18/30\n",
            "\u001b[1m45/45\u001b[0m \u001b[32m━━━━━━━━━━━━━━━━━━━━\u001b[0m\u001b[37m\u001b[0m \u001b[1m1s\u001b[0m 16ms/step - f1_score: 0.9995 - loss: 0.0036 - val_f1_score: 0.7840 - val_loss: 1.0998\n",
            "Epoch 19/30\n",
            "\u001b[1m45/45\u001b[0m \u001b[32m━━━━━━━━━━━━━━━━━━━━\u001b[0m\u001b[37m\u001b[0m \u001b[1m1s\u001b[0m 16ms/step - f1_score: 0.9995 - loss: 0.0029 - val_f1_score: 0.7742 - val_loss: 1.1478\n",
            "Epoch 20/30\n",
            "\u001b[1m45/45\u001b[0m \u001b[32m━━━━━━━━━━━━━━━━━━━━\u001b[0m\u001b[37m\u001b[0m \u001b[1m1s\u001b[0m 15ms/step - f1_score: 0.9998 - loss: 0.0024 - val_f1_score: 0.7619 - val_loss: 1.2064\n",
            "Epoch 21/30\n",
            "\u001b[1m45/45\u001b[0m \u001b[32m━━━━━━━━━━━━━━━━━━━━\u001b[0m\u001b[37m\u001b[0m \u001b[1m1s\u001b[0m 16ms/step - f1_score: 0.9998 - loss: 0.0018 - val_f1_score: 0.7619 - val_loss: 1.2711\n",
            "Epoch 22/30\n",
            "\u001b[1m45/45\u001b[0m \u001b[32m━━━━━━━━━━━━━━━━━━━━\u001b[0m\u001b[37m\u001b[0m \u001b[1m1s\u001b[0m 22ms/step - f1_score: 0.9998 - loss: 0.0013 - val_f1_score: 0.7556 - val_loss: 1.3399\n",
            "Epoch 23/30\n",
            "\u001b[1m45/45\u001b[0m \u001b[32m━━━━━━━━━━━━━━━━━━━━\u001b[0m\u001b[37m\u001b[0m \u001b[1m1s\u001b[0m 23ms/step - f1_score: 0.9997 - loss: 0.0019 - val_f1_score: 0.7969 - val_loss: 0.9900\n",
            "Epoch 24/30\n",
            "\u001b[1m45/45\u001b[0m \u001b[32m━━━━━━━━━━━━━━━━━━━━\u001b[0m\u001b[37m\u001b[0m \u001b[1m1s\u001b[0m 16ms/step - f1_score: 0.9979 - loss: 0.0070 - val_f1_score: 0.7581 - val_loss: 1.1099\n",
            "Epoch 25/30\n",
            "\u001b[1m45/45\u001b[0m \u001b[32m━━━━━━━━━━━━━━━━━━━━\u001b[0m\u001b[37m\u001b[0m \u001b[1m1s\u001b[0m 16ms/step - f1_score: 0.9986 - loss: 0.0045 - val_f1_score: 0.7786 - val_loss: 0.9853\n",
            "Epoch 26/30\n",
            "\u001b[1m45/45\u001b[0m \u001b[32m━━━━━━━━━━━━━━━━━━━━\u001b[0m\u001b[37m\u001b[0m \u001b[1m1s\u001b[0m 15ms/step - f1_score: 1.0000 - loss: 0.0013 - val_f1_score: 0.7480 - val_loss: 1.1391\n",
            "Epoch 27/30\n",
            "\u001b[1m45/45\u001b[0m \u001b[32m━━━━━━━━━━━━━━━━━━━━\u001b[0m\u001b[37m\u001b[0m \u001b[1m1s\u001b[0m 16ms/step - f1_score: 1.0000 - loss: 7.1870e-04 - val_f1_score: 0.7438 - val_loss: 1.2088\n",
            "Epoch 28/30\n",
            "\u001b[1m45/45\u001b[0m \u001b[32m━━━━━━━━━━━━━━━━━━━━\u001b[0m\u001b[37m\u001b[0m \u001b[1m1s\u001b[0m 15ms/step - f1_score: 1.0000 - loss: 5.6233e-04 - val_f1_score: 0.7438 - val_loss: 1.2644\n",
            "Epoch 29/30\n",
            "\u001b[1m45/45\u001b[0m \u001b[32m━━━━━━━━━━━━━━━━━━━━\u001b[0m\u001b[37m\u001b[0m \u001b[1m1s\u001b[0m 15ms/step - f1_score: 1.0000 - loss: 4.7147e-04 - val_f1_score: 0.7438 - val_loss: 1.3102\n",
            "Epoch 30/30\n",
            "\u001b[1m45/45\u001b[0m \u001b[32m━━━━━━━━━━━━━━━━━━━━\u001b[0m\u001b[37m\u001b[0m \u001b[1m1s\u001b[0m 15ms/step - f1_score: 1.0000 - loss: 4.0833e-04 - val_f1_score: 0.7438 - val_loss: 1.3493\n"
          ]
        },
        {
          "output_type": "display_data",
          "data": {
            "text/plain": [
              "<Figure size 1000x600 with 1 Axes>"
            ],
            "image/png": "[encoded data removed]"
          },
          "metadata": {}
        },
        {
          "output_type": "stream",
          "name": "stdout",
          "text": [
            "\n",
            "\n",
            "###### Evaluating models with seed 84 ######\n",
            "Training and evaluating model: model_base\n",
            "Epoch 1/30\n",
            "\u001b[1m45/45\u001b[0m \u001b[32m━━━━━━━━━━━━━━━━━━━━\u001b[0m\u001b[37m\u001b[0m \u001b[1m3s\u001b[0m 21ms/step - f1_score: 0.3425 - loss: 0.6634 - val_f1_score: 0.5577 - val_loss: 0.5730\n",
            "Epoch 2/30\n",
            "\u001b[1m45/45\u001b[0m \u001b[32m━━━━━━━━━━━━━━━━━━━━\u001b[0m\u001b[37m\u001b[0m \u001b[1m1s\u001b[0m 16ms/step - f1_score: 0.6840 - loss: 0.5254 - val_f1_score: 0.7246 - val_loss: 0.4986\n",
            "Epoch 3/30\n",
            "\u001b[1m45/45\u001b[0m \u001b[32m━━━━━━━━━━━━━━━━━━━━\u001b[0m\u001b[37m\u001b[0m \u001b[1m1s\u001b[0m 17ms/step - f1_score: 0.7700 - loss: 0.4216 - val_f1_score: 0.7324 - val_loss: 0.4875\n",
            "Epoch 4/30\n",
            "\u001b[1m45/45\u001b[0m \u001b[32m━━━━━━━━━━━━━━━━━━━━\u001b[0m\u001b[37m\u001b[0m \u001b[1m1s\u001b[0m 17ms/step - f1_score: 0.8312 - loss: 0.3378 - val_f1_score: 0.7156 - val_loss: 0.5366\n",
            "Epoch 5/30\n",
            "\u001b[1m45/45\u001b[0m \u001b[32m━━━━━━━━━━━━━━━━━━━━\u001b[0m\u001b[37m\u001b[0m \u001b[1m1s\u001b[0m 12ms/step - f1_score: 0.8339 - loss: 0.3211 - val_f1_score: 0.7656 - val_loss: 0.4888\n",
            "Epoch 6/30\n",
            "\u001b[1m45/45\u001b[0m \u001b[32m━━━━━━━━━━━━━━━━━━━━\u001b[0m\u001b[37m\u001b[0m \u001b[1m1s\u001b[0m 12ms/step - f1_score: 0.9130 - loss: 0.1999 - val_f1_score: 0.7704 - val_loss: 0.5163\n",
            "Epoch 7/30\n",
            "\u001b[1m45/45\u001b[0m \u001b[32m━━━━━━━━━━━━━━━━━━━━\u001b[0m\u001b[37m\u001b[0m \u001b[1m1s\u001b[0m 13ms/step - f1_score: 0.9456 - loss: 0.1322 - val_f1_score: 0.7288 - val_loss: 0.5643\n",
            "Epoch 8/30\n",
            "\u001b[1m45/45\u001b[0m \u001b[32m━━━━━━━━━━━━━━━━━━━━\u001b[0m\u001b[37m\u001b[0m \u001b[1m1s\u001b[0m 12ms/step - f1_score: 0.9568 - loss: 0.1095 - val_f1_score: 0.7538 - val_loss: 0.4748\n",
            "Epoch 9/30\n",
            "\u001b[1m45/45\u001b[0m \u001b[32m━━━━━━━━━━━━━━━━━━━━\u001b[0m\u001b[37m\u001b[0m \u001b[1m1s\u001b[0m 12ms/step - f1_score: 0.9714 - loss: 0.0759 - val_f1_score: 0.7480 - val_loss: 0.5093\n",
            "Epoch 10/30\n",
            "\u001b[1m45/45\u001b[0m \u001b[32m━━━━━━━━━━━━━━━━━━━━\u001b[0m\u001b[37m\u001b[0m \u001b[1m1s\u001b[0m 12ms/step - f1_score: 0.9775 - loss: 0.0607 - val_f1_score: 0.7559 - val_loss: 0.4304\n",
            "Epoch 11/30\n",
            "\u001b[1m45/45\u001b[0m \u001b[32m━━━━━━━━━━━━━━━━━━━━\u001b[0m\u001b[37m\u001b[0m \u001b[1m1s\u001b[0m 12ms/step - f1_score: 0.9828 - loss: 0.0539 - val_f1_score: 0.7669 - val_loss: 0.5509\n",
            "Epoch 12/30\n",
            "\u001b[1m45/45\u001b[0m \u001b[32m━━━━━━━━━━━━━━━━━━━━\u001b[0m\u001b[37m\u001b[0m \u001b[1m1s\u001b[0m 13ms/step - f1_score: 0.9920 - loss: 0.0258 - val_f1_score: 0.7869 - val_loss: 0.7018\n",
            "Epoch 13/30\n",
            "\u001b[1m45/45\u001b[0m \u001b[32m━━━━━━━━━━━━━━━━━━━━\u001b[0m\u001b[37m\u001b[0m \u001b[1m1s\u001b[0m 12ms/step - f1_score: 0.9987 - loss: 0.0134 - val_f1_score: 0.7559 - val_loss: 0.7779\n",
            "Epoch 14/30\n",
            "\u001b[1m45/45\u001b[0m \u001b[32m━━━━━━━━━━━━━━━━━━━━\u001b[0m\u001b[37m\u001b[0m \u001b[1m1s\u001b[0m 13ms/step - f1_score: 0.9998 - loss: 0.0093 - val_f1_score: 0.7752 - val_loss: 0.8196\n",
            "Epoch 15/30\n",
            "\u001b[1m45/45\u001b[0m \u001b[32m━━━━━━━━━━━━━━━━━━━━\u001b[0m\u001b[37m\u001b[0m \u001b[1m1s\u001b[0m 12ms/step - f1_score: 1.0000 - loss: 0.0050 - val_f1_score: 0.7656 - val_loss: 0.8849\n",
            "Epoch 16/30\n",
            "\u001b[1m45/45\u001b[0m \u001b[32m━━━━━━━━━━━━━━━━━━━━\u001b[0m\u001b[37m\u001b[0m \u001b[1m1s\u001b[0m 12ms/step - f1_score: 1.0000 - loss: 0.0033 - val_f1_score: 0.7752 - val_loss: 0.9354\n",
            "Epoch 17/30\n",
            "\u001b[1m45/45\u001b[0m \u001b[32m━━━━━━━━━━━━━━━━━━━━\u001b[0m\u001b[37m\u001b[0m \u001b[1m1s\u001b[0m 13ms/step - f1_score: 1.0000 - loss: 0.0025 - val_f1_score: 0.7752 - val_loss: 0.9739\n",
            "Epoch 18/30\n",
            "\u001b[1m45/45\u001b[0m \u001b[32m━━━━━━━━━━━━━━━━━━━━\u001b[0m\u001b[37m\u001b[0m \u001b[1m1s\u001b[0m 12ms/step - f1_score: 1.0000 - loss: 0.0020 - val_f1_score: 0.7752 - val_loss: 1.0039\n",
            "Epoch 19/30\n",
            "\u001b[1m45/45\u001b[0m \u001b[32m━━━━━━━━━━━━━━━━━━━━\u001b[0m\u001b[37m\u001b[0m \u001b[1m1s\u001b[0m 13ms/step - f1_score: 1.0000 - loss: 0.0016 - val_f1_score: 0.7752 - val_loss: 1.0294\n",
            "Epoch 20/30\n",
            "\u001b[1m45/45\u001b[0m \u001b[32m━━━━━━━━━━━━━━━━━━━━\u001b[0m\u001b[37m\u001b[0m \u001b[1m1s\u001b[0m 12ms/step - f1_score: 1.0000 - loss: 0.0014 - val_f1_score: 0.7752 - val_loss: 1.0521\n",
            "Epoch 21/30\n",
            "\u001b[1m45/45\u001b[0m \u001b[32m━━━━━━━━━━━━━━━━━━━━\u001b[0m\u001b[37m\u001b[0m \u001b[1m1s\u001b[0m 15ms/step - f1_score: 1.0000 - loss: 0.0012 - val_f1_score: 0.7752 - val_loss: 1.0729\n",
            "Epoch 22/30\n",
            "\u001b[1m45/45\u001b[0m \u001b[32m━━━━━━━━━━━━━━━━━━━━\u001b[0m\u001b[37m\u001b[0m \u001b[1m1s\u001b[0m 17ms/step - f1_score: 1.0000 - loss: 9.9601e-04 - val_f1_score: 0.7656 - val_loss: 1.0924\n",
            "Epoch 23/30\n",
            "\u001b[1m45/45\u001b[0m \u001b[32m━━━━━━━━━━━━━━━━━━━━\u001b[0m\u001b[37m\u001b[0m \u001b[1m1s\u001b[0m 12ms/step - f1_score: 1.0000 - loss: 8.6633e-04 - val_f1_score: 0.7656 - val_loss: 1.1109\n",
            "Epoch 24/30\n",
            "\u001b[1m45/45\u001b[0m \u001b[32m━━━━━━━━━━━━━━━━━━━━\u001b[0m\u001b[37m\u001b[0m \u001b[1m1s\u001b[0m 12ms/step - f1_score: 1.0000 - loss: 7.6066e-04 - val_f1_score: 0.7597 - val_loss: 1.1285\n",
            "Epoch 25/30\n",
            "\u001b[1m45/45\u001b[0m \u001b[32m━━━━━━━━━━━━━━━━━━━━\u001b[0m\u001b[37m\u001b[0m \u001b[1m1s\u001b[0m 12ms/step - f1_score: 1.0000 - loss: 6.7421e-04 - val_f1_score: 0.7597 - val_loss: 1.1448\n",
            "Epoch 26/30\n",
            "\u001b[1m45/45\u001b[0m \u001b[32m━━━━━━━━━━━━━━━━━━━━\u001b[0m\u001b[37m\u001b[0m \u001b[1m1s\u001b[0m 12ms/step - f1_score: 1.0000 - loss: 6.0275e-04 - val_f1_score: 0.7538 - val_loss: 1.1596\n",
            "Epoch 27/30\n",
            "\u001b[1m45/45\u001b[0m \u001b[32m━━━━━━━━━━━━━━━━━━━━\u001b[0m\u001b[37m\u001b[0m \u001b[1m1s\u001b[0m 12ms/step - f1_score: 1.0000 - loss: 5.4238e-04 - val_f1_score: 0.7538 - val_loss: 1.1739\n",
            "Epoch 28/30\n",
            "\u001b[1m45/45\u001b[0m \u001b[32m━━━━━━━━━━━━━━━━━━━━\u001b[0m\u001b[37m\u001b[0m \u001b[1m1s\u001b[0m 12ms/step - f1_score: 1.0000 - loss: 4.9063e-04 - val_f1_score: 0.7442 - val_loss: 1.1881\n",
            "Epoch 29/30\n",
            "\u001b[1m45/45\u001b[0m \u001b[32m━━━━━━━━━━━━━━━━━━━━\u001b[0m\u001b[37m\u001b[0m \u001b[1m1s\u001b[0m 12ms/step - f1_score: 1.0000 - loss: 4.4594e-04 - val_f1_score: 0.7500 - val_loss: 1.2021\n",
            "Epoch 30/30\n",
            "\u001b[1m45/45\u001b[0m \u001b[32m━━━━━━━━━━━━━━━━━━━━\u001b[0m\u001b[37m\u001b[0m \u001b[1m1s\u001b[0m 12ms/step - f1_score: 1.0000 - loss: 4.0704e-04 - val_f1_score: 0.7500 - val_loss: 1.2157\n"
          ]
        },
        {
          "output_type": "display_data",
          "data": {
            "text/plain": [
              "<Figure size 1000x600 with 1 Axes>"
            ],
            "image/png": "[encoded data removed]"
          },
          "metadata": {}
        },
        {
          "output_type": "stream",
          "name": "stdout",
          "text": [
            "Training and evaluating model: model_1\n",
            "Epoch 1/30\n",
            "\u001b[1m45/45\u001b[0m \u001b[32m━━━━━━━━━━━━━━━━━━━━\u001b[0m\u001b[37m\u001b[0m \u001b[1m4s\u001b[0m 27ms/step - f1_score: 0.2881 - loss: 0.6717 - val_f1_score: 0.6286 - val_loss: 0.5866\n",
            "Epoch 2/30\n",
            "\u001b[1m45/45\u001b[0m \u001b[32m━━━━━━━━━━━━━━━━━━━━\u001b[0m\u001b[37m\u001b[0m \u001b[1m1s\u001b[0m 16ms/step - f1_score: 0.6593 - loss: 0.5443 - val_f1_score: 0.7183 - val_loss: 0.5197\n",
            "Epoch 3/30\n",
            "\u001b[1m45/45\u001b[0m \u001b[32m━━━━━━━━━━━━━━━━━━━━\u001b[0m\u001b[37m\u001b[0m \u001b[1m1s\u001b[0m 22ms/step - f1_score: 0.7741 - loss: 0.4305 - val_f1_score: 0.7143 - val_loss: 0.5278\n",
            "Epoch 4/30\n",
            "\u001b[1m45/45\u001b[0m \u001b[32m━━━━━━━━━━━━━━━━━━━━\u001b[0m\u001b[37m\u001b[0m \u001b[1m1s\u001b[0m 23ms/step - f1_score: 0.8358 - loss: 0.3327 - val_f1_score: 0.7119 - val_loss: 0.6178\n",
            "Epoch 5/30\n",
            "\u001b[1m45/45\u001b[0m \u001b[32m━━━━━━━━━━━━━━━━━━━━\u001b[0m\u001b[37m\u001b[0m \u001b[1m1s\u001b[0m 18ms/step - f1_score: 0.8480 - loss: 0.3276 - val_f1_score: 0.7481 - val_loss: 0.6344\n",
            "Epoch 6/30\n",
            "\u001b[1m45/45\u001b[0m \u001b[32m━━━━━━━━━━━━━━━━━━━━\u001b[0m\u001b[37m\u001b[0m \u001b[1m1s\u001b[0m 16ms/step - f1_score: 0.9102 - loss: 0.2020 - val_f1_score: 0.7794 - val_loss: 0.7569\n",
            "Epoch 7/30\n",
            "\u001b[1m45/45\u001b[0m \u001b[32m━━━━━━━━━━━━━━━━━━━━\u001b[0m\u001b[37m\u001b[0m \u001b[1m1s\u001b[0m 16ms/step - f1_score: 0.9414 - loss: 0.1365 - val_f1_score: 0.7556 - val_loss: 0.7383\n",
            "Epoch 8/30\n",
            "\u001b[1m45/45\u001b[0m \u001b[32m━━━━━━━━━━━━━━━━━━━━\u001b[0m\u001b[37m\u001b[0m \u001b[1m1s\u001b[0m 16ms/step - f1_score: 0.9263 - loss: 0.1688 - val_f1_score: 0.7143 - val_loss: 0.9594\n",
            "Epoch 9/30\n",
            "\u001b[1m45/45\u001b[0m \u001b[32m━━━━━━━━━━━━━━━━━━━━\u001b[0m\u001b[37m\u001b[0m \u001b[1m1s\u001b[0m 16ms/step - f1_score: 0.9446 - loss: 0.1294 - val_f1_score: 0.7368 - val_loss: 0.7453\n",
            "Epoch 10/30\n",
            "\u001b[1m45/45\u001b[0m \u001b[32m━━━━━━━━━━━━━━━━━━━━\u001b[0m\u001b[37m\u001b[0m \u001b[1m1s\u001b[0m 16ms/step - f1_score: 0.9738 - loss: 0.0620 - val_f1_score: 0.7258 - val_loss: 0.9119\n",
            "Epoch 11/30\n",
            "\u001b[1m45/45\u001b[0m \u001b[32m━━━━━━━━━━━━━━━━━━━━\u001b[0m\u001b[37m\u001b[0m \u001b[1m1s\u001b[0m 16ms/step - f1_score: 0.9893 - loss: 0.0371 - val_f1_score: 0.6903 - val_loss: 1.2749\n",
            "Epoch 12/30\n",
            "\u001b[1m45/45\u001b[0m \u001b[32m━━━━━━━━━━━━━━━━━━━━\u001b[0m\u001b[37m\u001b[0m \u001b[1m1s\u001b[0m 16ms/step - f1_score: 0.9909 - loss: 0.0303 - val_f1_score: 0.6964 - val_loss: 1.2746\n",
            "Epoch 13/30\n",
            "\u001b[1m45/45\u001b[0m \u001b[32m━━━━━━━━━━━━━━━━━━━━\u001b[0m\u001b[37m\u001b[0m \u001b[1m1s\u001b[0m 15ms/step - f1_score: 0.9941 - loss: 0.0223 - val_f1_score: 0.6897 - val_loss: 1.3666\n",
            "Epoch 14/30\n",
            "\u001b[1m45/45\u001b[0m \u001b[32m━━━━━━━━━━━━━━━━━━━━\u001b[0m\u001b[37m\u001b[0m \u001b[1m1s\u001b[0m 16ms/step - f1_score: 0.9953 - loss: 0.0155 - val_f1_score: 0.7069 - val_loss: 1.3500\n",
            "Epoch 15/30\n",
            "\u001b[1m45/45\u001b[0m \u001b[32m━━━━━━━━━━━━━━━━━━━━\u001b[0m\u001b[37m\u001b[0m \u001b[1m1s\u001b[0m 18ms/step - f1_score: 0.9905 - loss: 0.0199 - val_f1_score: 0.7520 - val_loss: 1.1365\n",
            "Epoch 16/30\n",
            "\u001b[1m45/45\u001b[0m \u001b[32m━━━━━━━━━━━━━━━━━━━━\u001b[0m\u001b[37m\u001b[0m \u001b[1m1s\u001b[0m 22ms/step - f1_score: 0.9959 - loss: 0.0108 - val_f1_score: 0.7350 - val_loss: 1.2692\n",
            "Epoch 17/30\n",
            "\u001b[1m45/45\u001b[0m \u001b[32m━━━━━━━━━━━━━━━━━━━━\u001b[0m\u001b[37m\u001b[0m \u001b[1m1s\u001b[0m 24ms/step - f1_score: 0.9993 - loss: 0.0033 - val_f1_score: 0.7478 - val_loss: 1.3252\n",
            "Epoch 18/30\n",
            "\u001b[1m45/45\u001b[0m \u001b[32m━━━━━━━━━━━━━━━━━━━━\u001b[0m\u001b[37m\u001b[0m \u001b[1m1s\u001b[0m 19ms/step - f1_score: 0.9995 - loss: 0.0027 - val_f1_score: 0.7521 - val_loss: 1.3416\n",
            "Epoch 19/30\n",
            "\u001b[1m45/45\u001b[0m \u001b[32m━━━━━━━━━━━━━━━━━━━━\u001b[0m\u001b[37m\u001b[0m \u001b[1m1s\u001b[0m 16ms/step - f1_score: 0.9995 - loss: 0.0017 - val_f1_score: 0.7414 - val_loss: 1.3888\n",
            "Epoch 20/30\n",
            "\u001b[1m45/45\u001b[0m \u001b[32m━━━━━━━━━━━━━━━━━━━━\u001b[0m\u001b[37m\u001b[0m \u001b[1m1s\u001b[0m 17ms/step - f1_score: 0.9995 - loss: 0.0013 - val_f1_score: 0.7414 - val_loss: 1.4269\n",
            "Epoch 21/30\n",
            "\u001b[1m45/45\u001b[0m \u001b[32m━━━━━━━━━━━━━━━━━━━━\u001b[0m\u001b[37m\u001b[0m \u001b[1m1s\u001b[0m 15ms/step - f1_score: 0.9998 - loss: 0.0011 - val_f1_score: 0.7414 - val_loss: 1.4633\n",
            "Epoch 22/30\n",
            "\u001b[1m45/45\u001b[0m \u001b[32m━━━━━━━━━━━━━━━━━━━━\u001b[0m\u001b[37m\u001b[0m \u001b[1m1s\u001b[0m 15ms/step - f1_score: 1.0000 - loss: 8.6285e-04 - val_f1_score: 0.7521 - val_loss: 1.5008\n",
            "Epoch 23/30\n",
            "\u001b[1m45/45\u001b[0m \u001b[32m━━━━━━━━━━━━━━━━━━━━\u001b[0m\u001b[37m\u001b[0m \u001b[1m1s\u001b[0m 15ms/step - f1_score: 1.0000 - loss: 7.2193e-04 - val_f1_score: 0.7350 - val_loss: 1.5416\n",
            "Epoch 24/30\n",
            "\u001b[1m45/45\u001b[0m \u001b[32m━━━━━━━━━━━━━━━━━━━━\u001b[0m\u001b[37m\u001b[0m \u001b[1m1s\u001b[0m 16ms/step - f1_score: 1.0000 - loss: 6.1630e-04 - val_f1_score: 0.7288 - val_loss: 1.5790\n",
            "Epoch 25/30\n",
            "\u001b[1m45/45\u001b[0m \u001b[32m━━━━━━━━━━━━━━━━━━━━\u001b[0m\u001b[37m\u001b[0m \u001b[1m1s\u001b[0m 15ms/step - f1_score: 1.0000 - loss: 5.3745e-04 - val_f1_score: 0.7288 - val_loss: 1.6132\n",
            "Epoch 26/30\n",
            "\u001b[1m45/45\u001b[0m \u001b[32m━━━━━━━━━━━━━━━━━━━━\u001b[0m\u001b[37m\u001b[0m \u001b[1m1s\u001b[0m 16ms/step - f1_score: 1.0000 - loss: 4.7743e-04 - val_f1_score: 0.7288 - val_loss: 1.6434\n",
            "Epoch 27/30\n",
            "\u001b[1m45/45\u001b[0m \u001b[32m━━━━━━━━━━━━━━━━━━━━\u001b[0m\u001b[37m\u001b[0m \u001b[1m1s\u001b[0m 16ms/step - f1_score: 1.0000 - loss: 4.2899e-04 - val_f1_score: 0.7288 - val_loss: 1.6711\n",
            "Epoch 28/30\n",
            "\u001b[1m45/45\u001b[0m \u001b[32m━━━━━━━━━━━━━━━━━━━━\u001b[0m\u001b[37m\u001b[0m \u001b[1m1s\u001b[0m 20ms/step - f1_score: 1.0000 - loss: 3.8869e-04 - val_f1_score: 0.7227 - val_loss: 1.6963\n",
            "Epoch 29/30\n",
            "\u001b[1m45/45\u001b[0m \u001b[32m━━━━━━━━━━━━━━━━━━━━\u001b[0m\u001b[37m\u001b[0m \u001b[1m1s\u001b[0m 21ms/step - f1_score: 1.0000 - loss: 3.5433e-04 - val_f1_score: 0.7227 - val_loss: 1.7195\n",
            "Epoch 30/30\n",
            "\u001b[1m45/45\u001b[0m \u001b[32m━━━━━━━━━━━━━━━━━━━━\u001b[0m\u001b[37m\u001b[0m \u001b[1m1s\u001b[0m 23ms/step - f1_score: 1.0000 - loss: 3.2458e-04 - val_f1_score: 0.7227 - val_loss: 1.7411\n"
          ]
        },
        {
          "output_type": "display_data",
          "data": {
            "text/plain": [
              "<Figure size 1000x600 with 1 Axes>"
            ],
            "image/png": "[encoded data removed]"
          },
          "metadata": {}
        },
        {
          "output_type": "stream",
          "name": "stdout",
          "text": [
            "\n",
            "\n",
            "\n",
            " ###### Best model: model_base with macro F1-score: 0.7368 ######\n"
          ]
        }
      ]
    },
    {
      "cell_type": "code",
      "source": [
        "# Print detailed results\n",
        "for result in results:\n",
        "    print(f\"Seed: {result['seed']}, Model: {result['model_name']}, Macro F1: {result['macro_f1']:.4f}\")"
      ],
      "metadata": {
        "id": "AjGUZYCG0ODY",
        "colab": {
          "base_uri": "https://localhost:8080/"
        },
        "outputId": "ef863188-9fa8-4c54-f27e-55874c3ef84f"
      },
      "execution_count": 138,
      "outputs": [
        {
          "output_type": "stream",
          "name": "stdout",
          "text": [
            "Seed: 42, Model: model_base, Macro F1: 0.7438\n",
            "Seed: 42, Model: model_1, Macro F1: 0.7132\n",
            "Seed: 50, Model: model_base, Macro F1: 0.7167\n",
            "Seed: 50, Model: model_1, Macro F1: 0.7438\n",
            "Seed: 84, Model: model_base, Macro F1: 0.7500\n",
            "Seed: 84, Model: model_1, Macro F1: 0.7227\n"
          ]
        }
      ]
    }
  ],
  "metadata": {
    "accelerator": "GPU",
    "colab": {
      "gpuType": "T4",
      "provenance": []
    },
    "kernelspec": {
      "display_name": "Python 3",
      "name": "python3"
    },
    "language_info": {
      "codemirror_mode": {
        "name": "ipython",
        "version": 3
      },
      "file_extension": ".py",
      "mimetype": "text/x-python",
      "name": "python",
      "nbconvert_exporter": "python",
      "pygments_lexer": "ipython3",
      "version": "3.9.1rc1"
    }
  },
  "nbformat": 4,
  "nbformat_minor": 0
}