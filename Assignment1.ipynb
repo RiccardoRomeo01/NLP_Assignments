{
  "cells": [
    {
      "cell_type": "markdown",
      "metadata": {
        "id": "sz13BvtmN49a"
      },
      "source": [
        "# Imports"
      ]
    },
    {
      "cell_type": "code",
      "execution_count": 1,
      "metadata": {
        "colab": {
          "base_uri": "https://localhost:8080/"
        },
        "id": "6WE9zjHoMn6h",
        "outputId": "3a47fdfe-5be4-48a4-f5cb-c9379885a2ef"
      },
      "outputs": [
        {
          "output_type": "stream",
          "name": "stdout",
          "text": [
            "Collecting emoji\n",
            "  Downloading emoji-2.14.0-py3-none-any.whl.metadata (5.7 kB)\n",
            "Downloading emoji-2.14.0-py3-none-any.whl (586 kB)\n",
            "\u001b[?25l   \u001b[90m━━━━━━━━━━━━━━━━━━━━━━━━━━━━━━━━━━━━━━━━\u001b[0m \u001b[32m0.0/586.9 kB\u001b[0m \u001b[31m?\u001b[0m eta \u001b[36m-:--:--\u001b[0m\r\u001b[2K   \u001b[91m━━━━━━━━━━━━━━━━━━━━━━━━━━━━━━━━━━━━━━━\u001b[0m\u001b[91m╸\u001b[0m \u001b[32m583.7/586.9 kB\u001b[0m \u001b[31m23.6 MB/s\u001b[0m eta \u001b[36m0:00:01\u001b[0m\r\u001b[2K   \u001b[90m━━━━━━━━━━━━━━━━━━━━━━━━━━━━━━━━━━━━━━━━\u001b[0m \u001b[32m586.9/586.9 kB\u001b[0m \u001b[31m11.4 MB/s\u001b[0m eta \u001b[36m0:00:00\u001b[0m\n",
            "\u001b[?25hInstalling collected packages: emoji\n",
            "Successfully installed emoji-2.14.0\n",
            "Requirement already satisfied: nltk in /usr/local/lib/python3.10/dist-packages (3.9.1)\n",
            "Requirement already satisfied: click in /usr/local/lib/python3.10/dist-packages (from nltk) (8.1.7)\n",
            "Requirement already satisfied: joblib in /usr/local/lib/python3.10/dist-packages (from nltk) (1.4.2)\n",
            "Requirement already satisfied: regex>=2021.8.3 in /usr/local/lib/python3.10/dist-packages (from nltk) (2024.11.6)\n",
            "Requirement already satisfied: tqdm in /usr/local/lib/python3.10/dist-packages (from nltk) (4.67.1)\n",
            "Requirement already satisfied: tqdm in /usr/local/lib/python3.10/dist-packages (4.67.1)\n",
            "Collecting simplejson\n",
            "  Downloading simplejson-3.19.3-cp310-cp310-manylinux_2_5_x86_64.manylinux1_x86_64.manylinux_2_17_x86_64.manylinux2014_x86_64.whl.metadata (3.2 kB)\n",
            "Downloading simplejson-3.19.3-cp310-cp310-manylinux_2_5_x86_64.manylinux1_x86_64.manylinux_2_17_x86_64.manylinux2014_x86_64.whl (137 kB)\n",
            "\u001b[2K   \u001b[90m━━━━━━━━━━━━━━━━━━━━━━━━━━━━━━━━━━━━━━━━\u001b[0m \u001b[32m137.9/137.9 kB\u001b[0m \u001b[31m5.4 MB/s\u001b[0m eta \u001b[36m0:00:00\u001b[0m\n",
            "\u001b[?25hInstalling collected packages: simplejson\n",
            "Successfully installed simplejson-3.19.3\n",
            "Requirement already satisfied: gensim in /usr/local/lib/python3.10/dist-packages (4.3.3)\n",
            "Requirement already satisfied: numpy<2.0,>=1.18.5 in /usr/local/lib/python3.10/dist-packages (from gensim) (1.26.4)\n",
            "Requirement already satisfied: scipy<1.14.0,>=1.7.0 in /usr/local/lib/python3.10/dist-packages (from gensim) (1.13.1)\n",
            "Requirement already satisfied: smart-open>=1.8.1 in /usr/local/lib/python3.10/dist-packages (from gensim) (7.1.0)\n",
            "Requirement already satisfied: wrapt in /usr/local/lib/python3.10/dist-packages (from smart-open>=1.8.1->gensim) (1.17.0)\n"
          ]
        }
      ],
      "source": [
        "!pip install emoji\n",
        "!pip install nltk\n",
        "!pip install tqdm\n",
        "!pip install simplejson\n",
        "!pip install gensim"
      ]
    },
    {
      "cell_type": "code",
      "execution_count": 49,
      "metadata": {
        "id": "C8iazcwMNM8Q"
      },
      "outputs": [],
      "source": [
        "import sys\n",
        "import shutil\n",
        "import json\n",
        "import urllib\n",
        "import tarfile\n",
        "from pathlib import Path\n",
        "import simplejson as sj\n",
        "\n",
        "import pandas as pd\n",
        "import numpy as np\n",
        "\n",
        "from typing import Dict, OrderedDict, List\n",
        "\n",
        "import re\n",
        "import emoji\n",
        "\n",
        "\n",
        "import nltk\n",
        "from nltk.stem import WordNetLemmatizer\n",
        "from nltk import pos_tag\n",
        "from nltk.corpus import wordnet\n",
        "from tqdm import tqdm\n",
        "\n",
        "\n",
        "import gensim\n",
        "import gensim.downloader as gloader\n",
        "\n",
        "\n",
        "\n",
        "from typing import Iterable\n",
        "from tqdm import tqdm\n",
        "\n",
        "\n",
        "import tensorflow as tf\n",
        "from tensorflow.keras.models import Sequential\n",
        "from tensorflow.keras.preprocessing.sequence import pad_sequences\n",
        "from tensorflow.keras.layers import Embedding, Bidirectional, LSTM, Dense, TimeDistributed, Activation"
      ]
    },
    {
      "cell_type": "markdown",
      "metadata": {
        "id": "aorcZzjLOQII"
      },
      "source": [
        "# Task 1: Corpus"
      ]
    },
    {
      "cell_type": "markdown",
      "metadata": {
        "id": "S7xVZIPFOXPT"
      },
      "source": [
        "## 1. Downloading the dataset"
      ]
    },
    {
      "cell_type": "markdown",
      "metadata": {
        "id": "vz0BiOVBOhui"
      },
      "source": [
        "First of all we need to **download** the `A1/data` folder."
      ]
    },
    {
      "cell_type": "code",
      "execution_count": 3,
      "metadata": {
        "id": "5CFbK72BOtVu"
      },
      "outputs": [],
      "source": [
        "class DownloadProgressBar(tqdm):\n",
        "    def update_to(self, b=1, bsize=1, tsize=None):\n",
        "        if tsize is not None:\n",
        "            self.total = tsize\n",
        "        self.update(b * bsize - self.n)\n",
        "\n",
        "def download_url(download_path: Path, url: str):\n",
        "    with DownloadProgressBar(unit='B', unit_scale=True,\n",
        "                             miniters=1, desc=url.split('/')[-1]) as t:\n",
        "        urllib.request.urlretrieve(url, filename=download_path, reporthook=t.update_to)"
      ]
    },
    {
      "cell_type": "code",
      "execution_count": 4,
      "metadata": {
        "id": "4Jwr7Ns6Ot1i"
      },
      "outputs": [],
      "source": [
        "def download_dataset(download_path: Path, url: str):\n",
        "    print(\"Downloading dataset...\")\n",
        "    download_url(url=url, download_path=download_path)\n",
        "    print(\"Download complete!\")"
      ]
    },
    {
      "cell_type": "code",
      "execution_count": 5,
      "metadata": {
        "id": "jsZv2RSOViC8"
      },
      "outputs": [],
      "source": [
        "# Here we put all the urls\n",
        "urls = {\n",
        "    \"training\": \"https://raw.githubusercontent.com/nlp-unibo/nlp-course-material/main/2024-2025/Assignment%201/data/training.json\",\n",
        "    \"test\": \"https://raw.githubusercontent.com/nlp-unibo/nlp-course-material/main/2024-2025/Assignment%201/data/test.json\",\n",
        "    \"validation\": \"https://raw.githubusercontent.com/nlp-unibo/nlp-course-material/main/2024-2025/Assignment%201/data/validation.json\"\n",
        "}"
      ]
    },
    {
      "cell_type": "code",
      "execution_count": 6,
      "metadata": {
        "colab": {
          "base_uri": "https://localhost:8080/"
        },
        "id": "9NvOZ5g2O8Ra",
        "outputId": "b3d473a5-0e29-422f-b195-d092c54f277c"
      },
      "outputs": [
        {
          "output_type": "stream",
          "name": "stdout",
          "text": [
            "Current work directory: /content\n"
          ]
        }
      ],
      "source": [
        "print(f\"Current work directory: {Path.cwd()}\")\n",
        "dataset_folder = Path.cwd().joinpath(\"Datasets\")"
      ]
    },
    {
      "cell_type": "code",
      "execution_count": 7,
      "metadata": {
        "id": "mGQb4TxtRYYm"
      },
      "outputs": [],
      "source": [
        "if not dataset_folder.exists():\n",
        "    dataset_folder.mkdir(parents=True)"
      ]
    },
    {
      "cell_type": "code",
      "execution_count": 8,
      "metadata": {
        "colab": {
          "base_uri": "https://localhost:8080/"
        },
        "id": "r99L1rTzV12C",
        "outputId": "c7a18b31-5cec-40a6-c605-1f4d315f54be"
      },
      "outputs": [
        {
          "output_type": "stream",
          "name": "stdout",
          "text": [
            "Downloading dataset...\n"
          ]
        },
        {
          "output_type": "stream",
          "name": "stderr",
          "text": [
            "training.json: 6.23MB [00:00, 13.7MB/s]                            \n"
          ]
        },
        {
          "output_type": "stream",
          "name": "stdout",
          "text": [
            "Download complete!\n",
            "Downloading dataset...\n"
          ]
        },
        {
          "output_type": "stream",
          "name": "stderr",
          "text": [
            "test.json: 500kB [00:00, 1.67MB/s]                            \n"
          ]
        },
        {
          "output_type": "stream",
          "name": "stdout",
          "text": [
            "Download complete!\n",
            "Downloading dataset...\n"
          ]
        },
        {
          "output_type": "stream",
          "name": "stderr",
          "text": [
            "validation.json: 1.16MB [00:00, 3.91MB/s]                            "
          ]
        },
        {
          "output_type": "stream",
          "name": "stdout",
          "text": [
            "Download complete!\n"
          ]
        },
        {
          "output_type": "stream",
          "name": "stderr",
          "text": [
            "\n"
          ]
        }
      ],
      "source": [
        "for name, url in urls.items():\n",
        "    download_path = dataset_folder.joinpath(f\"{name}.json\")\n",
        "    download_dataset(download_path, url)"
      ]
    },
    {
      "cell_type": "markdown",
      "metadata": {
        "id": "97p0MGpIYdGY"
      },
      "source": [
        "## 2. Load the three JSON files and encode them as pandas dataframes."
      ]
    },
    {
      "cell_type": "code",
      "execution_count": 9,
      "metadata": {
        "id": "tjPonkkIduMr"
      },
      "outputs": [],
      "source": [
        "def load_json_file(file_path: Path):\n",
        "    with open(file_path, 'r', encoding='utf-8') as f:\n",
        "        return json.load(f)"
      ]
    },
    {
      "cell_type": "code",
      "execution_count": 10,
      "metadata": {
        "id": "mUz9IDNUcb7J"
      },
      "outputs": [],
      "source": [
        "dataframe_rows = []\n",
        "\n",
        "\n",
        "for name, url in urls.items():\n",
        "    # per ogni file creiamo il file_path e leggiamo il file\n",
        "    file_path = dataset_folder.joinpath(f\"{name}.json\")\n",
        "\n",
        "    json_data = load_json_file(file_path)\n",
        "\n",
        "    # per ogni chiave nel json_data creo una dataframe_row\n",
        "    for key in json_data.keys():\n",
        "        df_row = json_data[key]\n",
        "        df_row[\"split\"] = name\n",
        "        dataframe_rows.append(df_row)\n"
      ]
    },
    {
      "cell_type": "code",
      "execution_count": 11,
      "metadata": {
        "id": "u2xd6biKiKbW"
      },
      "outputs": [],
      "source": [
        "folder = Path.cwd().joinpath(\"Datasets\", \"Dataframes\")\n",
        "if not folder.exists():\n",
        "    folder.mkdir(parents=True)\n",
        "\n",
        "\n",
        "# transform the list of rows in a proper dataframe\n",
        "df = pd.DataFrame(dataframe_rows)\n",
        "\n",
        "for name, url in urls.items():\n",
        "  df_path = folder.with_name(name + \".pkl\")\n",
        "  df.to_pickle(df_path)"
      ]
    },
    {
      "cell_type": "markdown",
      "metadata": {
        "id": "aegG34haxrJH"
      },
      "source": [
        "## 3. Generate hard labels"
      ]
    },
    {
      "cell_type": "markdown",
      "metadata": {
        "id": "c6VZjWS-xvb5"
      },
      "source": [
        "Generate hard labels for Task 1 using majority voting and store them in a new dataframe column called `hard_label_task1`. Items without a clear majority will be removed from the dataset."
      ]
    },
    {
      "cell_type": "code",
      "execution_count": 12,
      "metadata": {
        "id": "sORAVONvpU_v"
      },
      "outputs": [],
      "source": [
        "def compute_majority_voting(labels: list):\n",
        "\n",
        "    unique_labels, counts = np.unique(labels, return_counts=True)\n",
        "    majority_label = np.argwhere(counts == np.max(counts))\n",
        "\n",
        "    majority_label = unique_labels[majority_label].flatten().tolist()\n",
        "\n",
        "    if len(majority_label) > 1:\n",
        "        majority_label = None\n",
        "\n",
        "\n",
        "    return majority_label"
      ]
    },
    {
      "cell_type": "code",
      "execution_count": 13,
      "metadata": {
        "id": "0LP9rRC1zG0Q"
      },
      "outputs": [],
      "source": [
        "def generate_hard_labels(df):\n",
        "    hard_labels = []\n",
        "\n",
        "    for index, row in df.iterrows():\n",
        "        # Estrai le etichette dalla colonna 'labels_task1'\n",
        "        labels = row['labels_task1']\n",
        "        # print(labels)\n",
        "\n",
        "        # Verifica se 'labels' è una lista e contiene elementi\n",
        "        if isinstance(labels, list) and len(labels) > 0:\n",
        "            # Calcola la moda (voto di maggioranza)\n",
        "            most_common_label = compute_majority_voting(labels)\n",
        "            # print(most_common_label)\n",
        "            hard_labels.append(most_common_label)\n",
        "\n",
        "    # Aggiungi le hard labels come nuova colonna\n",
        "    df['hard_label_task1'] = hard_labels\n",
        "\n",
        "    # Rimuovi le righe senza una chiara maggioranza (se necessario)\n",
        "    df = df[df['hard_label_task1'].notnull()]\n",
        "\n",
        "    return df"
      ]
    },
    {
      "cell_type": "code",
      "execution_count": 14,
      "metadata": {
        "colab": {
          "base_uri": "https://localhost:8080/"
        },
        "id": "ckDgdopDz3d2",
        "outputId": "c5348b07-88da-45f8-847c-4575d7e2df88"
      },
      "outputs": [
        {
          "output_type": "stream",
          "name": "stdout",
          "text": [
            "  id_EXIST lang                                              tweet  \\\n",
            "0   100001   es  @TheChiflis Ignora al otro, es un capullo.El p...   \n",
            "1   100002   es  @ultimonomada_ Si comicsgate se parece en algo...   \n",
            "2   100003   es  @Steven2897 Lee sobre Gamergate, y como eso ha...   \n",
            "4   100005   es  @novadragon21 @icep4ck @TvDannyZ Entonces como...   \n",
            "5   100006   es  @yonkykong Aaah sí. Andrew Dobson. El que se d...   \n",
            "\n",
            "   number_annotators                                         annotators  \\\n",
            "0                  6  [Annotator_1, Annotator_2, Annotator_3, Annota...   \n",
            "1                  6  [Annotator_7, Annotator_8, Annotator_9, Annota...   \n",
            "2                  6  [Annotator_7, Annotator_8, Annotator_9, Annota...   \n",
            "4                  6  [Annotator_19, Annotator_20, Annotator_21, Ann...   \n",
            "5                  6  [Annotator_25, Annotator_26, Annotator_27, Ann...   \n",
            "\n",
            "    gender_annotators                          age_annotators  \\\n",
            "0  [F, F, F, M, M, M]  [18-22, 23-45, 46+, 46+, 23-45, 18-22]   \n",
            "1  [F, F, F, M, M, M]  [18-22, 23-45, 46+, 46+, 23-45, 18-22]   \n",
            "2  [F, F, F, M, M, M]  [18-22, 23-45, 46+, 46+, 23-45, 18-22]   \n",
            "4  [F, F, F, M, M, M]  [18-22, 23-45, 46+, 46+, 23-45, 18-22]   \n",
            "5  [F, F, F, M, M, M]  [18-22, 23-45, 46+, 46+, 23-45, 18-22]   \n",
            "\n",
            "                    labels_task1  \\\n",
            "0  [YES, YES, NO, YES, YES, YES]   \n",
            "1      [NO, NO, NO, NO, YES, NO]   \n",
            "2       [NO, NO, NO, NO, NO, NO]   \n",
            "4   [YES, NO, YES, NO, YES, YES]   \n",
            "5       [NO, NO, NO, NO, NO, NO]   \n",
            "\n",
            "                                        labels_task2  \\\n",
            "0  [REPORTED, JUDGEMENTAL, -, REPORTED, JUDGEMENT...   \n",
            "1                            [-, -, -, -, DIRECT, -]   \n",
            "2                                 [-, -, -, -, -, -]   \n",
            "4  [REPORTED, -, JUDGEMENTAL, -, JUDGEMENTAL, DIR...   \n",
            "5                                 [-, -, -, -, -, -]   \n",
            "\n",
            "                                        labels_task3     split  \\\n",
            "0  [[OBJECTIFICATION], [OBJECTIFICATION, SEXUAL-V...  training   \n",
            "1       [[-], [-], [-], [-], [OBJECTIFICATION], [-]]  training   \n",
            "2                     [[-], [-], [-], [-], [-], [-]]  training   \n",
            "4  [[STEREOTYPING-DOMINANCE, OBJECTIFICATION], [-...  training   \n",
            "5                     [[-], [-], [-], [-], [-], [-]]  training   \n",
            "\n",
            "  hard_label_task1  \n",
            "0            [YES]  \n",
            "1             [NO]  \n",
            "2             [NO]  \n",
            "4            [YES]  \n",
            "5             [NO]  \n"
          ]
        }
      ],
      "source": [
        "df = generate_hard_labels(df)\n",
        "print(df.head())"
      ]
    },
    {
      "cell_type": "markdown",
      "metadata": {
        "id": "-VdYgdgwqsNu"
      },
      "source": [
        "## 4. Filter the DataFrame"
      ]
    },
    {
      "cell_type": "markdown",
      "metadata": {
        "id": "QVfoZzusqy0I"
      },
      "source": [
        "Filter the DataFrame to keep only rows where the `lang` column is `'en'`."
      ]
    },
    {
      "cell_type": "code",
      "execution_count": 15,
      "metadata": {
        "colab": {
          "base_uri": "https://localhost:8080/"
        },
        "id": "-WYAWKilq1tl",
        "outputId": "8a9e9a0f-7258-41be-c93c-362c06315d16"
      },
      "outputs": [
        {
          "output_type": "stream",
          "name": "stdout",
          "text": [
            "(3314, 12)\n"
          ]
        }
      ],
      "source": [
        "df = df[df['lang'] == 'en']\n",
        "print(df.shape)"
      ]
    },
    {
      "cell_type": "markdown",
      "metadata": {
        "id": "etQQV0YTrN9Q"
      },
      "source": [
        "## 5. Remove unwanted columns"
      ]
    },
    {
      "cell_type": "markdown",
      "metadata": {
        "id": "T4nDBRNurTT6"
      },
      "source": [
        "Keep only `id_EXIST`, `lang`, `tweet`, and `hard_label_task1`."
      ]
    },
    {
      "cell_type": "code",
      "execution_count": 16,
      "metadata": {
        "id": "hb0-lUqPrZEH"
      },
      "outputs": [],
      "source": [
        "def remove_unwanted_columns(df):\n",
        "\n",
        "    columns_to_keep = ['id_EXIST', 'lang', 'tweet', 'hard_label_task1', 'split']\n",
        "    df = df[columns_to_keep]\n",
        "    return df"
      ]
    },
    {
      "cell_type": "code",
      "execution_count": 17,
      "metadata": {
        "id": "YoZB0G8xrgcA"
      },
      "outputs": [],
      "source": [
        "df = remove_unwanted_columns(df)"
      ]
    },
    {
      "cell_type": "markdown",
      "metadata": {
        "id": "68p9vTuLru-p"
      },
      "source": [
        "## 6. Encode the hard_label_task1 column"
      ]
    },
    {
      "cell_type": "markdown",
      "metadata": {
        "id": "70CeoJ1hr-rB"
      },
      "source": [
        "Use 1 to represent \"YES\" and 0 to represent \"NO\" in the `hard_label_task1 column`."
      ]
    },
    {
      "cell_type": "code",
      "execution_count": 18,
      "metadata": {
        "colab": {
          "base_uri": "https://localhost:8080/"
        },
        "id": "Lh8WC291tNGA",
        "outputId": "89944704-c557-4083-e084-83758b124e45"
      },
      "outputs": [
        {
          "output_type": "stream",
          "name": "stdout",
          "text": [
            "     id_EXIST lang                                              tweet  \\\n",
            "3661   200002   en  Writing a uni essay in my local pub with a cof...   \n",
            "3662   200003   en  @UniversalORL it is 2021 not 1921. I dont appr...   \n",
            "3665   200006   en  According to a customer I have plenty of time ...   \n",
            "3666   200007   en  So only 'blokes' drink beer? Sorry, but if you...   \n",
            "3667   200008   en  New to the shelves this week - looking forward...   \n",
            "\n",
            "      hard_label_task1     split  \n",
            "3661                 1  training  \n",
            "3662                 1  training  \n",
            "3665                 1  training  \n",
            "3666                 1  training  \n",
            "3667                 0  training  \n"
          ]
        }
      ],
      "source": [
        "df['hard_label_task1'] = df['hard_label_task1'].apply(lambda x: 1 if x[0] == 'YES' else 0)\n",
        "print(df.head())"
      ]
    },
    {
      "cell_type": "markdown",
      "metadata": {
        "id": "qyAK2RBGu8Bq"
      },
      "source": [
        "# Task 2: Data Cleaning"
      ]
    },
    {
      "cell_type": "code",
      "execution_count": 19,
      "metadata": {
        "colab": {
          "base_uri": "https://localhost:8080/"
        },
        "id": "t9rsrT-WJDoK",
        "outputId": "8d009817-851e-448e-9d16-d809b0fd4127"
      },
      "outputs": [
        {
          "output_type": "stream",
          "name": "stderr",
          "text": [
            "[nltk_data] Downloading package omw-1.4 to /root/nltk_data...\n",
            "[nltk_data] Downloading package wordnet to /root/nltk_data...\n",
            "[nltk_data] Downloading package averaged_perceptron_tagger to\n",
            "[nltk_data]     /root/nltk_data...\n",
            "[nltk_data]   Unzipping taggers/averaged_perceptron_tagger.zip.\n",
            "[nltk_data] Downloading package averaged_perceptron_tagger_eng to\n",
            "[nltk_data]     /root/nltk_data...\n",
            "[nltk_data]   Unzipping taggers/averaged_perceptron_tagger_eng.zip.\n",
            "[nltk_data] Downloading package punkt to /root/nltk_data...\n",
            "[nltk_data]   Unzipping tokenizers/punkt.zip.\n",
            "[nltk_data] Downloading package punkt_tab to /root/nltk_data...\n",
            "[nltk_data]   Unzipping tokenizers/punkt_tab.zip.\n"
          ]
        },
        {
          "output_type": "execute_result",
          "data": {
            "text/plain": [
              "True"
            ]
          },
          "metadata": {},
          "execution_count": 19
        }
      ],
      "source": [
        "nltk.download('omw-1.4')\n",
        "nltk.download('wordnet')\n",
        "nltk.download('averaged_perceptron_tagger')\n",
        "nltk.download('averaged_perceptron_tagger_eng')\n",
        "nltk.download('punkt')\n",
        "nltk.download('punkt_tab')"
      ]
    },
    {
      "cell_type": "markdown",
      "metadata": {
        "id": "W3yM7nuc_DpZ"
      },
      "source": [
        "Check this link: [all existing emojis](https://www.unicode.org/Public/emoji/1.0//emoji-data.txt). And also this: [emojis unicode consortium](https://unicode.org/emoji/charts/full-emoji-list.html)."
      ]
    },
    {
      "cell_type": "code",
      "execution_count": 20,
      "metadata": {
        "id": "GyDbd9BxU31A"
      },
      "outputs": [],
      "source": [
        "def lower(text):\n",
        "    return text.lower()"
      ]
    },
    {
      "cell_type": "code",
      "execution_count": 21,
      "metadata": {
        "id": "2U3Eg7_4_-Ic"
      },
      "outputs": [],
      "source": [
        "def remove_emoji(text):\n",
        "    return emoji.replace_emoji(text, replace='')"
      ]
    },
    {
      "cell_type": "code",
      "execution_count": 22,
      "metadata": {
        "id": "69qq6Fe25xMc"
      },
      "outputs": [],
      "source": [
        "def remove_hastag(text):\n",
        "    at = re.compile(r'#\\S+')\n",
        "    return at.sub(r'',text)"
      ]
    },
    {
      "cell_type": "code",
      "execution_count": 23,
      "metadata": {
        "id": "rp8HhWlh5NEu"
      },
      "outputs": [],
      "source": [
        "def remove_mention(text):\n",
        "    at = re.compile(r'@\\S+')\n",
        "    return at.sub(r'',text)"
      ]
    },
    {
      "cell_type": "code",
      "execution_count": 24,
      "metadata": {
        "id": "GwVvkIsa64wk"
      },
      "outputs": [],
      "source": [
        "def remove_URL(text):\n",
        "    url = re.compile(r'https?://\\S+|www\\.\\S+')\n",
        "    return url.sub(r'',text)"
      ]
    },
    {
      "cell_type": "code",
      "execution_count": 25,
      "metadata": {
        "id": "iLRDqOqS7QKt"
      },
      "outputs": [],
      "source": [
        "def remove_special_characters(text):\n",
        "    pattern = r'[^a-zA-Z0-9\\s]'\n",
        "    return re.sub(pattern, '', text)"
      ]
    },
    {
      "cell_type": "code",
      "execution_count": 26,
      "metadata": {
        "id": "v__lt8yu8Oap"
      },
      "outputs": [],
      "source": [
        "def remove_quotes(text):\n",
        "    pattern = r'^\"|\"$‘’'\n",
        "    return re.sub(pattern, '', text)"
      ]
    },
    {
      "cell_type": "code",
      "execution_count": 27,
      "metadata": {
        "id": "6aRkZPTP9KG0"
      },
      "outputs": [],
      "source": [
        "def remove_extra_spaces(text):\n",
        "    text.strip()\n",
        "    pattern = r'\\s+'\n",
        "    return re.sub(pattern, ' ', text)"
      ]
    },
    {
      "cell_type": "code",
      "execution_count": 28,
      "metadata": {
        "id": "pCZx9SBPtGoz"
      },
      "outputs": [],
      "source": [
        "def remove_word_repetitions(text):\n",
        "    return  re.sub(r'\\b(\\w+)( \\1\\b)+', r'\\1', text)\n"
      ]
    },
    {
      "cell_type": "code",
      "execution_count": 29,
      "metadata": {
        "id": "Eb2ni1lLI4oH"
      },
      "outputs": [],
      "source": [
        "def lemmatize(text):\n",
        "    lemmatizer = WordNetLemmatizer()\n",
        "\n",
        "\n",
        "    def get_wordnet_key(pos_tag):\n",
        "        if pos_tag.startswith('J'):\n",
        "            return wordnet.ADJ\n",
        "        elif pos_tag.startswith('V'):\n",
        "            return wordnet.VERB\n",
        "        elif pos_tag.startswith('N'):\n",
        "            return wordnet.NOUN\n",
        "        elif pos_tag.startswith('R'):\n",
        "            return wordnet.ADV\n",
        "        else:\n",
        "            return 'n'\n",
        "\n",
        "\n",
        "    def lem_text(text: str):\n",
        "        tokens = nltk.word_tokenize(text)\n",
        "        tagged = pos_tag(tokens)\n",
        "        words = [lemmatizer.lemmatize(word, get_wordnet_key(tag)) for word, tag in tagged]\n",
        "        return \" \".join(words)\n",
        "\n",
        "\n",
        "    return lem_text(text)"
      ]
    },
    {
      "cell_type": "code",
      "execution_count": 30,
      "metadata": {
        "id": "Xid-F6PgLxoN"
      },
      "outputs": [],
      "source": [
        "def clean_tweet(tweet: str):\n",
        "    tweet = lower(tweet)\n",
        "    tweet = remove_emoji(tweet)\n",
        "    tweet = remove_hastag(tweet)\n",
        "    tweet = remove_mention(tweet)\n",
        "    tweet = remove_URL(tweet)\n",
        "    tweet = remove_special_characters(tweet)\n",
        "    tweet = remove_quotes(tweet)\n",
        "    tweet = remove_word_repetitions(tweet)\n",
        "    tweet = remove_extra_spaces(tweet)\n",
        "    tweet = lemmatize(tweet)\n",
        "    return tweet"
      ]
    },
    {
      "cell_type": "code",
      "execution_count": 31,
      "metadata": {
        "id": "93acNCscMDRL"
      },
      "outputs": [],
      "source": [
        "df['tweet'] = df['tweet'].apply(clean_tweet)"
      ]
    },
    {
      "cell_type": "code",
      "execution_count": 32,
      "metadata": {
        "colab": {
          "base_uri": "https://localhost:8080/"
        },
        "id": "GcwvF65MNAXd",
        "outputId": "46d906fc-1d6e-48ea-87a6-27864c05d635"
      },
      "outputs": [
        {
          "output_type": "stream",
          "name": "stdout",
          "text": [
            "3661    write a uni essay in my local pub with a coffe...\n",
            "3662    it be 2021 not 1921 i dont appreciate that on ...\n",
            "3665    accord to a customer i have plenty of time to ...\n",
            "3666    so only blokes drink beer sorry but if you are...\n",
            "3667    new to the shelf this week look forward to rea...\n",
            "Name: tweet, dtype: object\n"
          ]
        }
      ],
      "source": [
        "print(df['tweet'].head())"
      ]
    },
    {
      "cell_type": "markdown",
      "metadata": {
        "id": "hU2q_4tGNU2W"
      },
      "source": [
        "# Task 3: Text Encoding"
      ]
    },
    {
      "cell_type": "markdown",
      "metadata": {
        "id": "PmxLWqu01gZd"
      },
      "source": [
        "## Splitting the dataset"
      ]
    },
    {
      "cell_type": "markdown",
      "metadata": {
        "id": "LraZe2wH1kjS"
      },
      "source": [
        "Here we split the dataset in train, test and validation."
      ]
    },
    {
      "cell_type": "code",
      "execution_count": 33,
      "metadata": {
        "colab": {
          "base_uri": "https://localhost:8080/"
        },
        "id": "ug_gd5gz1j5S",
        "outputId": "a8109683-e90e-46e4-fbb0-1d691ece3ee5"
      },
      "outputs": [
        {
          "output_type": "stream",
          "name": "stdout",
          "text": [
            "Train size: (2870, 4)\n",
            "Test size: (286, 4)\n",
            "Validation size: (158, 4)\n"
          ]
        }
      ],
      "source": [
        "df_train = df.loc[df['split'] == \"training\"].drop(columns=['split'])\n",
        "df_test = df.loc[df['split'] == \"test\"].drop(columns=['split'])\n",
        "df_val = df.loc[df['split'] == \"validation\"].drop(columns=['split'])\n",
        "\n",
        "print(f\"Train size: {df_train.shape}\")\n",
        "print(f\"Test size: {df_test.shape}\")\n",
        "print(f\"Validation size: {df_val.shape}\")"
      ]
    },
    {
      "cell_type": "markdown",
      "metadata": {
        "id": "8wCba8rlw8lK"
      },
      "source": [
        "### Try to use Tokenizer to build the vocabulary"
      ]
    },
    {
      "cell_type": "markdown",
      "metadata": {
        "id": "lQmHVeFUnb8Y"
      },
      "source": [
        " ## Vocabulary Creation"
      ]
    },
    {
      "cell_type": "markdown",
      "metadata": {
        "id": "AayUlbam3-Rm"
      },
      "source": [
        "We create the vocabulary only using the training dataset."
      ]
    },
    {
      "cell_type": "code",
      "execution_count": 34,
      "metadata": {
        "id": "7HbdgvPZnpxr"
      },
      "outputs": [],
      "source": [
        "def build_vocabulary(df: pd.DataFrame) -> (Dict[int, str], Dict[str, int], List[str]):\n",
        "    \"\"\"\n",
        "    Given a dataset, builds the corresponding word vocabulary.\n",
        "\n",
        "    :param df: dataset from which we want to build the word vocabulary (pandas.DataFrame)\n",
        "    :return:\n",
        "      - word vocabulary: vocabulary index to word\n",
        "      - inverse word vocabulary: word to vocabulary index\n",
        "      - word listing: set of unique terms that build up the vocabulary\n",
        "    \"\"\"\n",
        "    idx_to_word = OrderedDict()\n",
        "    word_to_idx = OrderedDict()\n",
        "\n",
        "    curr_idx = 0\n",
        "    # '''\n",
        "    word_to_idx[\"[PAD]\"] = curr_idx         #add the PAD index\n",
        "    idx_to_word[curr_idx] = \"[PAD]\"\n",
        "    curr_idx += 1\n",
        "    # Here we add the special token [UNK] to our vocabulary\n",
        "    word_to_idx[\"[UNK]\"] = curr_idx\n",
        "    idx_to_word[curr_idx] = \"[UNK]\"\n",
        "    curr_idx += 1\n",
        "    # '''\n",
        "    for sentence in tqdm(df.tweet.values):\n",
        "        tokens = sentence.split()\n",
        "        for token in tokens:\n",
        "            if token not in word_to_idx:\n",
        "                word_to_idx[token] = curr_idx\n",
        "                idx_to_word[curr_idx] = token\n",
        "                curr_idx += 1\n",
        "\n",
        "\n",
        "\n",
        "    word_listing = list(idx_to_word.values())\n",
        "    return idx_to_word, word_to_idx, word_listing"
      ]
    },
    {
      "cell_type": "code",
      "execution_count": 35,
      "metadata": {
        "colab": {
          "base_uri": "https://localhost:8080/"
        },
        "id": "anfsmQRWoIzi",
        "outputId": "ca6a8485-75f0-4dc0-a6f3-5138a841dce4"
      },
      "outputs": [
        {
          "output_type": "stream",
          "name": "stderr",
          "text": [
            "100%|██████████| 2870/2870 [00:00<00:00, 126034.20it/s]"
          ]
        },
        {
          "output_type": "stream",
          "name": "stdout",
          "text": [
            "[Debug] Index -> Word vocabulary size: 9820\n",
            "[Debug] Word -> Index vocabulary size: 9820\n",
            "[Debug] Some words: [('[PAD]', 0), ('[UNK]', 1), ('write', 2), ('a', 3), ('uni', 4), ('essay', 5), ('in', 6), ('my', 7), ('local', 8), ('pub', 9)]\n"
          ]
        },
        {
          "output_type": "stream",
          "name": "stderr",
          "text": [
            "\n"
          ]
        }
      ],
      "source": [
        "idx_to_word_train, word_to_idx_train, word_listing_train = build_vocabulary(df_train)\n",
        "\n",
        "print(f'[Debug] Index -> Word vocabulary size: {len(idx_to_word_train)}')\n",
        "print(f'[Debug] Word -> Index vocabulary size: {len(word_to_idx_train)}')\n",
        "print(f'[Debug] Some words: {[(idx_to_word_train[idx], idx) for idx in np.arange(10) ]}')"
      ]
    },
    {
      "cell_type": "markdown",
      "metadata": {
        "id": "PsjJBA41okTn"
      },
      "source": [
        "### Vocabulary Evaluation"
      ]
    },
    {
      "cell_type": "code",
      "execution_count": 36,
      "metadata": {
        "id": "UqvEPsy8ocTT"
      },
      "outputs": [],
      "source": [
        "def evaluate_vocabulary(idx_to_word: Dict[int, str], word_to_idx: Dict[str, int],\n",
        "                        word_listing: List[str], df: pd.DataFrame, check_default_size: bool = False):\n",
        "    print(\"[Vocabulary Evaluation] Size checking...\")\n",
        "    assert len(idx_to_word) == len(word_to_idx)\n",
        "    assert len(idx_to_word) == len(word_listing)\n",
        "\n",
        "    print(\"[Vocabulary Evaluation] Content checking...\")\n",
        "    for i in tqdm(range(len(idx_to_word))):\n",
        "        assert idx_to_word[i] in word_to_idx\n",
        "        assert word_to_idx[idx_to_word[i]] == i\n",
        "\n",
        "    print(\"[Vocabulary Evaluation] Consistency checking...\")\n",
        "    _, _, first_word_listing = build_vocabulary(df)\n",
        "    _, _, second_word_listing = build_vocabulary(df)\n",
        "    assert first_word_listing == second_word_listing\n",
        "\n",
        "    print(\"[Vocabulary Evaluation] Toy example checking...\")\n",
        "    toy_df = pd.DataFrame.from_dict({\n",
        "        'tweet': [\"all that glitters is not gold\", \"all in all i like this assignment\"]\n",
        "    })\n",
        "    _, _, toy_word_listing = build_vocabulary(toy_df)\n",
        "    toy_valid_vocabulary = set(' '.join(toy_df.tweet.values).split())\n",
        "    # Includi anche [UNK] nel confronto\n",
        "    toy_valid_vocabulary.add(\"[UNK]\")\n",
        "    toy_valid_vocabulary.add(\"[PAD]\")           #add pad to the test\n",
        "    assert set(toy_word_listing) == toy_valid_vocabulary"
      ]
    },
    {
      "cell_type": "code",
      "execution_count": 37,
      "metadata": {
        "colab": {
          "base_uri": "https://localhost:8080/"
        },
        "id": "4hb7Eh1gooTu",
        "outputId": "656c51b5-a974-4844-f712-99db02329521"
      },
      "outputs": [
        {
          "output_type": "stream",
          "name": "stdout",
          "text": [
            "Vocabulary evaluation...\n",
            "[Vocabulary Evaluation] Size checking...\n",
            "[Vocabulary Evaluation] Content checking...\n"
          ]
        },
        {
          "output_type": "stream",
          "name": "stderr",
          "text": [
            "100%|██████████| 9820/9820 [00:00<00:00, 1285119.04it/s]\n"
          ]
        },
        {
          "output_type": "stream",
          "name": "stdout",
          "text": [
            "[Vocabulary Evaluation] Consistency checking...\n"
          ]
        },
        {
          "output_type": "stream",
          "name": "stderr",
          "text": [
            "100%|██████████| 2870/2870 [00:00<00:00, 185880.98it/s]\n",
            "100%|██████████| 2870/2870 [00:00<00:00, 186578.20it/s]\n"
          ]
        },
        {
          "output_type": "stream",
          "name": "stdout",
          "text": [
            "[Vocabulary Evaluation] Toy example checking...\n"
          ]
        },
        {
          "output_type": "stream",
          "name": "stderr",
          "text": [
            "100%|██████████| 2/2 [00:00<00:00, 15141.89it/s]"
          ]
        },
        {
          "output_type": "stream",
          "name": "stdout",
          "text": [
            "Evaluation completed!\n"
          ]
        },
        {
          "output_type": "stream",
          "name": "stderr",
          "text": [
            "\n"
          ]
        }
      ],
      "source": [
        "print(\"Vocabulary evaluation...\")\n",
        "evaluate_vocabulary(idx_to_word_train, word_to_idx_train, word_listing_train, df_train)\n",
        "print(\"Evaluation completed!\")"
      ]
    },
    {
      "cell_type": "markdown",
      "metadata": {
        "id": "rYzT9t9Gqj3f"
      },
      "source": [
        "## Saving Vocabulary"
      ]
    },
    {
      "cell_type": "code",
      "execution_count": 38,
      "metadata": {
        "colab": {
          "base_uri": "https://localhost:8080/"
        },
        "id": "uVMJ5eRtqv0N",
        "outputId": "c34edd99-6920-4aad-f9bd-1353bf433785"
      },
      "outputs": [
        {
          "output_type": "stream",
          "name": "stdout",
          "text": [
            "Saving vocabulary to /content/Datasets/vocab.json\n",
            "Saving completed!\n"
          ]
        }
      ],
      "source": [
        "vocab_path = Path.cwd().joinpath('Datasets', 'vocab.json')\n",
        "\n",
        "print(f\"Saving vocabulary to {vocab_path}\")\n",
        "with vocab_path.open(mode='w') as f:\n",
        "    sj.dump(word_to_idx_train, f, indent=4)\n",
        "print(\"Saving completed!\")"
      ]
    },
    {
      "cell_type": "markdown",
      "metadata": {
        "id": "5MS28pC08ztV"
      },
      "source": [
        "## GloVe embedding"
      ]
    },
    {
      "cell_type": "code",
      "execution_count": 39,
      "metadata": {
        "id": "fhIaF3QG8_Tf"
      },
      "outputs": [],
      "source": [
        "def load_embedding_model(model_type: str,\n",
        "                         embedding_dimension: int = 50) -> gensim.models.keyedvectors.KeyedVectors:\n",
        "    \"\"\"\n",
        "    Loads a pre-trained word embedding model via gensim library.\n",
        "\n",
        "    :param model_type: name of the word embedding model to load.\n",
        "    :param embedding_dimension: size of the embedding space to consider\n",
        "\n",
        "    :return\n",
        "        - pre-trained word embedding model (gensim KeyedVectors object)\n",
        "    \"\"\"\n",
        "    download_path = \"\"\n",
        "\n",
        "    if model_type.strip().lower() == 'glove':\n",
        "        download_path = \"glove-wiki-gigaword-{}\".format(embedding_dimension)\n",
        "\n",
        "    else:\n",
        "        raise AttributeError(\"Unsupported embedding model type! Available ones: word2vec, glove, fasttext\")\n",
        "\n",
        "    try:\n",
        "        emb_model = gloader.load(download_path)\n",
        "    except ValueError as e:\n",
        "        print(\"Invalid embedding model name! Check the embedding dimension:\")\n",
        "        print(\"Glove: 50, 100, 200, 300\")\n",
        "        raise e\n",
        "\n",
        "    return emb_model"
      ]
    },
    {
      "cell_type": "code",
      "execution_count": 40,
      "metadata": {
        "colab": {
          "base_uri": "https://localhost:8080/"
        },
        "id": "kT3IwEKQ9JSU",
        "outputId": "8e98a697-1a0b-4903-d11c-a4ef19204855"
      },
      "outputs": [
        {
          "output_type": "stream",
          "name": "stdout",
          "text": [
            "[==================================================] 100.0% 66.0/66.0MB downloaded\n"
          ]
        }
      ],
      "source": [
        "embedding_model = load_embedding_model(model_type=\"glove\",\n",
        "                                       embedding_dimension=50)"
      ]
    },
    {
      "cell_type": "code",
      "execution_count": 41,
      "metadata": {
        "id": "gbxw6ndV_NQf"
      },
      "outputs": [],
      "source": [
        "def check_OOV_terms(embedding_model: gensim.models.keyedvectors.KeyedVectors,\n",
        "                    word_listing: List[str]):\n",
        "    \"\"\"\n",
        "    Checks differences between pre-trained embedding model vocabulary\n",
        "    and dataset specific vocabulary in order to highlight out-of-vocabulary terms.\n",
        "\n",
        "    :param embedding_model: pre-trained word embedding model (gensim wrapper)\n",
        "    :param word_listing: dataset specific vocabulary (list)\n",
        "\n",
        "    :return\n",
        "        - list of OOV terms\n",
        "    \"\"\"\n",
        "    embedding_vocabulary = set(embedding_model.key_to_index.keys())\n",
        "    oov = set(word_listing).difference(embedding_vocabulary)\n",
        "    return list(oov)"
      ]
    },
    {
      "cell_type": "code",
      "execution_count": 42,
      "metadata": {
        "colab": {
          "base_uri": "https://localhost:8080/"
        },
        "id": "W783gsHF_QD4",
        "outputId": "bd01c94f-cc5f-4d11-90c3-1be330af1597"
      },
      "outputs": [
        {
          "output_type": "stream",
          "name": "stdout",
          "text": [
            "Total OOV terms in training set: 1842 (18.76%)\n"
          ]
        }
      ],
      "source": [
        "oov_terms_train = check_OOV_terms(embedding_model, word_listing_train)\n",
        "oov_percentage_train = float(len(oov_terms_train)) * 100 / len(word_listing_train)\n",
        "print(f\"Total OOV terms in training set: {len(oov_terms_train)} ({oov_percentage_train:.2f}%)\")"
      ]
    },
    {
      "cell_type": "markdown",
      "metadata": {
        "id": "6RKUpyOzy4-y"
      },
      "source": [
        "Try to use Blob correct in order to correct spelling errors in tweets."
      ]
    },
    {
      "cell_type": "markdown",
      "metadata": {
        "id": "7jWTz4quZxHP"
      },
      "source": [
        "### Handling train dataset OOV terms"
      ]
    },
    {
      "cell_type": "markdown",
      "metadata": {
        "id": "-EFIJbpwZ9DA"
      },
      "source": [
        "We have to put all the unseen tokens in the train dataset in our vocabulary."
      ]
    },
    {
      "cell_type": "code",
      "execution_count": 43,
      "metadata": {
        "id": "g5n39svJA2SZ"
      },
      "outputs": [],
      "source": [
        "def build_embedding_matrix(embedding_model: gensim.models.keyedvectors.KeyedVectors,\n",
        "                           embedding_dimension: int,\n",
        "                           word_to_idx: Dict[str, int],\n",
        "                           vocab_size: int,\n",
        "                           oov_terms: List[str]) -> np.ndarray:\n",
        "    \"\"\"\n",
        "    Builds the embedding matrix of a specific dataset given a pre-trained word embedding model\n",
        "\n",
        "    :param embedding_model: pre-trained word embedding model (gensim wrapper)\n",
        "    :param word_to_idx: vocabulary map (word -> index) (dict)\n",
        "    :param vocab_size: size of the vocabulary\n",
        "    :param oov_terms: list of OOV terms (list)\n",
        "\n",
        "    :return\n",
        "        - embedding matrix that assigns a high dimensional vector to each word in the dataset specific vocabulary (shape |V| x d)\n",
        "    \"\"\"\n",
        "    embedding_matrix = np.zeros((vocab_size, embedding_dimension), dtype=np.float32)\n",
        "    for word, idx in tqdm(word_to_idx.items()):\n",
        "        try:\n",
        "            embedding_vector = embedding_model[word]\n",
        "        except (KeyError, TypeError):\n",
        "          if word == '[PAD]':\n",
        "            # we assign a random embedding to the [PAD] token\n",
        "            embedding_vector = np.random.uniform(low=-0.05, high=0.05, size=embedding_dimension)\n",
        "          elif word == '[UNK]':\n",
        "            # we assign a random embedding to the [UNK] token\n",
        "            embedding_vector = np.random.uniform(low=-0.05, high=0.05, size=embedding_dimension)\n",
        "          else:\n",
        "            embedding_vector = np.random.uniform(low=-0.05, high=0.05, size=embedding_dimension)\n",
        "\n",
        "        embedding_matrix[idx] = embedding_vector\n",
        "\n",
        "    return embedding_matrix"
      ]
    },
    {
      "cell_type": "code",
      "execution_count": 44,
      "metadata": {
        "colab": {
          "base_uri": "https://localhost:8080/"
        },
        "id": "uQcy1MNsA4mi",
        "outputId": "3c68bb46-eee1-46ba-f9e7-674fbcada91b"
      },
      "outputs": [
        {
          "output_type": "stream",
          "name": "stderr",
          "text": [
            "100%|██████████| 9820/9820 [00:00<00:00, 283311.20it/s]"
          ]
        },
        {
          "output_type": "stream",
          "name": "stdout",
          "text": [
            "\n",
            "Embedding matrix shape: (9820, 50)\n"
          ]
        },
        {
          "output_type": "stream",
          "name": "stderr",
          "text": [
            "\n"
          ]
        }
      ],
      "source": [
        "# Testing\n",
        "embedding_dimension = 50\n",
        "embedding_matrix = build_embedding_matrix(embedding_model, embedding_dimension, word_to_idx_train, len(word_to_idx_train), oov_terms_train)\n",
        "print(f\"\\nEmbedding matrix shape: {embedding_matrix.shape}\")"
      ]
    },
    {
      "cell_type": "markdown",
      "metadata": {
        "id": "M_MGoEJjtGo2"
      },
      "source": [
        "# Task 4: Model Definition"
      ]
    },
    {
      "cell_type": "markdown",
      "source": [
        "First of all we define the Base Model."
      ],
      "metadata": {
        "id": "4eieR4CqWir8"
      }
    },
    {
      "cell_type": "markdown",
      "source": [
        "## Definition of the Base Model"
      ],
      "metadata": {
        "id": "vFTV5QXGWqmC"
      }
    },
    {
      "cell_type": "code",
      "source": [
        "def createModelBase(word_to_idx_train, embedding_dimension, embedding_matrix, units_dim = 64):\n",
        "\n",
        "    embedding = tf.keras.layers.Embedding(input_dim=len(word_to_idx_train),\n",
        "                                        output_dim=embedding_dimension,\n",
        "                                        weights=[embedding_matrix],\n",
        "                                        mask_zero=True,                   # automatically masks padding tokens\n",
        "                                        name='encoder_embedding')\n",
        "    model = Sequential()\n",
        "    model.add(embedding)\n",
        "    model.add(Bidirectional(LSTM(units = units_dim)))\n",
        "    # model.add(TimeDistributed(Dense(units=1)))\n",
        "    model.add(Dense(units=1))\n",
        "    model.add(Activation('sigmoid'))\n",
        "\n",
        "    model.compile(optimizer='adamw',\n",
        "                  loss='binary_crossentropy',\n",
        "                  metrics = [tf.keras.metrics.F1Score(\n",
        "                                    average='macro', threshold=0.5, name='f1_score'\n",
        "                                )])\n",
        "    # model.summary()\n",
        "    return model"
      ],
      "metadata": {
        "id": "ltQ4YlosWwm-"
      },
      "execution_count": 127,
      "outputs": []
    },
    {
      "cell_type": "markdown",
      "source": [
        "## Definition of Model 1"
      ],
      "metadata": {
        "id": "vb0rxbXKW4RW"
      }
    },
    {
      "cell_type": "code",
      "source": [
        "def createModel1(word_to_idx_train,embedding_dimension,embedding_matrix,units_dim=64):\n",
        "\n",
        "    embedding = tf.keras.layers.Embedding(input_dim=len(word_to_idx_train),\n",
        "                                          output_dim=embedding_dimension,\n",
        "                                          weights=[embedding_matrix],\n",
        "                                          mask_zero=True,                   # automatically masks padding tokens\n",
        "                                          name='encoder_embedding')\n",
        "    model = Sequential()\n",
        "    model.add(embedding)\n",
        "    model.add(Bidirectional(LSTM(units=units_dim)))\n",
        "    model.add(LSTM(units=units_dim))\n",
        "    # model.add(TimeDistributed(Dense(units=1, activation='sigmoid')))  # Attivazione sigmoid per classificazione binaria\n",
        "    model.add(Dense(units=1, activation='sigmoid'))\n",
        "\n",
        "    model.compile(optimizer='adamw',\n",
        "                  loss='binary_crossentropy',\n",
        "                  metrics = [tf.keras.metrics.F1Score(\n",
        "                                    average='macro', threshold=0.5, name='f1_score'\n",
        "                                )])\n",
        "    # model.summary()\n",
        "    return model"
      ],
      "metadata": {
        "id": "BOSJliiRW6nq"
      },
      "execution_count": 128,
      "outputs": []
    },
    {
      "cell_type": "markdown",
      "metadata": {
        "id": "6btpFxP3tGo3"
      },
      "source": [
        "# Task 5:  Training and Evaluation"
      ]
    },
    {
      "cell_type": "markdown",
      "source": [
        "We will use as reference the longest tweet in the dataset."
      ],
      "metadata": {
        "id": "VHffOxq9Vp6l"
      }
    },
    {
      "cell_type": "markdown",
      "source": [
        "## Input Data Preparation"
      ],
      "metadata": {
        "id": "cBDHJsV7600k"
      }
    },
    {
      "cell_type": "code",
      "source": [
        "max_tweet_length=0\n",
        "for t in df['tweet']:\n",
        "    if len(t)>max_tweet_length:\n",
        "        max_tweet_length=len(t)\n",
        "print(max_tweet_length)"
      ],
      "metadata": {
        "colab": {
          "base_uri": "https://localhost:8080/"
        },
        "id": "pN43DKMxVi0j",
        "outputId": "8d983d2e-5665-40f5-da62-59d5a660ef6b"
      },
      "execution_count": 129,
      "outputs": [
        {
          "output_type": "stream",
          "name": "stdout",
          "text": [
            "277\n"
          ]
        }
      ]
    },
    {
      "cell_type": "code",
      "execution_count": 119,
      "metadata": {
        "id": "O8F6lhNitGo3"
      },
      "outputs": [],
      "source": [
        "def prepare_input(data, vocabulary):\n",
        "    X=[]\n",
        "    for tokens in data['tweet']:\n",
        "        indices = []\n",
        "        for i in range(max_tweet_length):\n",
        "            if i < len(tokens):\n",
        "                if tokens[i] in vocabulary:\n",
        "                    indices.append(vocabulary[tokens[i]])\n",
        "                else:\n",
        "                    # Handle out-of-vocabulary tokens if necessary\n",
        "                    indices.append(vocabulary['[UNK]'])  # Example: -1 for unknown tokens\n",
        "            else:\n",
        "                indices.append(vocabulary['[PAD]'])\n",
        "        X.append(indices)\n",
        "\n",
        "\n",
        "    return np.array(X), np.array(data['hard_label_task1']).reshape(-1,1)"
      ]
    },
    {
      "cell_type": "code",
      "source": [
        "def prepare_input(data, vocabulary):\n",
        "    X=[]\n",
        "    for tokens in data['tweet']:\n",
        "        indices = []\n",
        "        for i in range(max_tweet_length):\n",
        "            if i < len(tokens):\n",
        "                if tokens[i] in vocabulary:\n",
        "                    indices.append(vocabulary[tokens[i]])\n",
        "                else:\n",
        "                    # Handle out-of-vocabulary tokens if necessary\n",
        "                    indices.append(vocabulary['[UNK]'])  # Example: -1 for unknown tokens\n",
        "        X.append(indices)\n",
        "\n",
        "    X = pad_sequences(X, maxlen = max_tweet_length, padding = 'post', value = 0)\n",
        "\n",
        "    return X, np.array(data['hard_label_task1']).reshape(-1,1)"
      ],
      "metadata": {
        "id": "9yq3cAE6vJna"
      },
      "execution_count": 137,
      "outputs": []
    },
    {
      "cell_type": "code",
      "source": [
        "X_train, y_train = prepare_input(df_train, word_to_idx_train)\n",
        "X_val, y_val = prepare_input(df_val, word_to_idx_train)\n",
        "X_test, y_test = prepare_input(df_test, word_to_idx_train)"
      ],
      "metadata": {
        "id": "zMvMSiuS9ocj"
      },
      "execution_count": 138,
      "outputs": []
    },
    {
      "cell_type": "code",
      "source": [
        "print(X_train.shape)  # Dovrebbe essere (num_samples, max_tweet_length, 1)\n",
        "print(y_train.shape)  # Dovrebbe essere (num_samples, 1)"
      ],
      "metadata": {
        "colab": {
          "base_uri": "https://localhost:8080/"
        },
        "id": "4hqH8bDy51-s",
        "outputId": "bb32907e-307f-4b52-869b-b8c30a55b2f5"
      },
      "execution_count": 143,
      "outputs": [
        {
          "output_type": "stream",
          "name": "stdout",
          "text": [
            "(2870, 277)\n",
            "(2870, 1)\n"
          ]
        }
      ]
    },
    {
      "cell_type": "markdown",
      "source": [
        "## Model Training and Evaluation"
      ],
      "metadata": {
        "id": "0kbAOApi6_z-"
      }
    },
    {
      "cell_type": "code",
      "source": [
        "def select_best_model(results, model_names):\n",
        "\n",
        "      valori_per_nome = {nome: [] for nome in model_names}\n",
        "\n",
        "      for record in results:\n",
        "          nome = record[\"model_name\"]\n",
        "          if nome in model_names:\n",
        "              valori_per_nome[nome].append(record[\"macro_f1\"])\n",
        "\n",
        "      medie = {nome: sum(valori) / len(valori) for nome, valori in valori_per_nome.items() if valori}\n",
        "\n",
        "      best_model_name = max(medie, key=medie.get)\n",
        "\n",
        "      return best_model_name, medie[best_model_name]"
      ],
      "metadata": {
        "id": "blG08aUmJA-P"
      },
      "execution_count": 156,
      "outputs": []
    },
    {
      "cell_type": "code",
      "source": [
        "import matplotlib.pyplot as plt\n",
        "\n",
        "def plot_f1_score(history):\n",
        "    \"\"\"\n",
        "    Plotta la matrice F1-score per il set di validazione.\n",
        "\n",
        "    Parameters:\n",
        "    - history: oggetto History di Keras contenente i valori di F1-score.\n",
        "    \"\"\"\n",
        "    # Estrai i valori di F1-score dalla storia\n",
        "    val_f1_scores = history.history.get('val_f1_score', [])\n",
        "    f1_scores = history.history.get('f1_score', [])\n",
        "\n",
        "    # Creazione del grafico\n",
        "    plt.figure(figsize=(10, 6))\n",
        "\n",
        "    # Plot F1-score per il set di addestramento\n",
        "    plt.plot(f1_scores, label='F1 Score (Training)', color='blue')\n",
        "\n",
        "    # Plot F1-score per il set di validazione\n",
        "    plt.plot(val_f1_scores, label='F1 Score (Validation)', color='orange')\n",
        "\n",
        "    plt.title('F1 Score for validation and train')\n",
        "    plt.xlabel('Epochs')\n",
        "    plt.ylabel('F1 Score')\n",
        "    plt.legend()\n",
        "    plt.grid()\n",
        "    plt.show()"
      ],
      "metadata": {
        "id": "6pp2Wb0_VF6f"
      },
      "execution_count": 157,
      "outputs": []
    },
    {
      "cell_type": "code",
      "execution_count": 159,
      "metadata": {
        "id": "1SFsdxMBtGo3"
      },
      "outputs": [],
      "source": [
        "# Define a function to train a model\n",
        "def train_model(model, X_train, y_train, X_val, y_val, epochs):\n",
        "    history = model.fit(X_train,\n",
        "                        y_train,\n",
        "                        epochs = epochs,\n",
        "                        batch_size = 64,\n",
        "                        validation_data = (X_val, y_val)\n",
        "                        )\n",
        "    return model, history\n",
        "\n",
        "\n",
        "# Main function to handle tasks\n",
        "def train_and_evaluate(models, X_train, y_train, X_val, y_val, epochs=2, seeds=[42, 100, 2023]):\n",
        "    results = []\n",
        "\n",
        "    # Loop over seeds\n",
        "    for seed in seeds:\n",
        "        print(f\"\\n\\n###### Evaluating models with seed {seed} ######\")\n",
        "\n",
        "        # setting the seed\n",
        "        tf.random.set_seed(seed)\n",
        "\n",
        "\n",
        "        # Train and evaluate each model\n",
        "        for model_name in models:\n",
        "            print(f\"Training and evaluating model: {model_name}\")\n",
        "\n",
        "            if model_name == 'model_base':\n",
        "                model = createModelBase(word_to_idx_train, embedding_dimension, embedding_matrix)\n",
        "            if model_name == 'model_1':\n",
        "                model = createModel1(word_to_idx_train, embedding_dimension, embedding_matrix)\n",
        "\n",
        "\n",
        "            # Train the model\n",
        "            trained_model, history = train_model(model, X_train, y_train, X_val, y_val, epochs)\n",
        "            macro_f1 = history.history['val_f1_score'][-1]\n",
        "            plot_f1_score(history=history)\n",
        "\n",
        "\n",
        "            # Evaluate the model\n",
        "            # loss, macro_f1 = trained_model.evaluate(X_val, y_val, verbose = 2)\n",
        "\n",
        "            # Store results\n",
        "            results.append({\n",
        "                'seed': seed,\n",
        "                'model_name': model_name,\n",
        "                'macro_f1': macro_f1\n",
        "            })\n",
        "\n",
        "    best_model_name, mean_f1_score = select_best_model(results, models)\n",
        "    # Aggregate results to find the best model\n",
        "    # best_model = max(results, key = lambda x: x['macro_f1'])\n",
        "    macro_f1_values = [result['macro_f1'] for result in results]\n",
        "    average_macro_f1 = np.mean(macro_f1_values)\n",
        "\n",
        "    print(f\"\\n\\n\\n ###### Best model: {best_model_name} with macro F1-score: {mean_f1_score:.4f} ######\")\n",
        "\n",
        "    return results, best_model_name"
      ]
    },
    {
      "cell_type": "code",
      "source": [
        "'''\n",
        "models = ['model_base',\n",
        "          'model_1']\n",
        "'''\n",
        "models = ['model_base']\n",
        "seeds=[42, 50, 84]\n",
        "# seeds=[50]\n",
        "\n",
        "\n",
        "# Train and evaluate models\n",
        "results, best_model = train_and_evaluate(models,\n",
        "                                         X_train,\n",
        "                                         y_train,\n",
        "                                         X_val,\n",
        "                                         y_val,\n",
        "                                         epochs = 20,\n",
        "                                         seeds = seeds)"
      ],
      "metadata": {
        "colab": {
          "base_uri": "https://localhost:8080/",
          "height": 1000
        },
        "id": "MCtmbqYi0DbZ",
        "outputId": "55980f3f-f35f-4747-c422-b79ab60b0843"
      },
      "execution_count": 160,
      "outputs": [
        {
          "output_type": "stream",
          "name": "stdout",
          "text": [
            "\n",
            "\n",
            "###### Evaluating models with seed 42 ######\n",
            "Training and evaluating model: model_base\n",
            "Epoch 1/20\n",
            "\u001b[1m45/45\u001b[0m \u001b[32m━━━━━━━━━━━━━━━━━━━━\u001b[0m\u001b[37m\u001b[0m \u001b[1m4s\u001b[0m 35ms/step - f1_score: 0.0903 - loss: 0.6742 - val_f1_score: 0.1463 - val_loss: 0.6856\n",
            "Epoch 2/20\n",
            "\u001b[1m45/45\u001b[0m \u001b[32m━━━━━━━━━━━━━━━━━━━━\u001b[0m\u001b[37m\u001b[0m \u001b[1m2s\u001b[0m 23ms/step - f1_score: 0.0679 - loss: 0.6596 - val_f1_score: 0.2247 - val_loss: 0.6826\n",
            "Epoch 3/20\n",
            "\u001b[1m45/45\u001b[0m \u001b[32m━━━━━━━━━━━━━━━━━━━━\u001b[0m\u001b[37m\u001b[0m \u001b[1m1s\u001b[0m 23ms/step - f1_score: 0.2213 - loss: 0.6534 - val_f1_score: 0.3529 - val_loss: 0.6800\n",
            "Epoch 4/20\n",
            "\u001b[1m45/45\u001b[0m \u001b[32m━━━━━━━━━━━━━━━━━━━━\u001b[0m\u001b[37m\u001b[0m \u001b[1m2s\u001b[0m 33ms/step - f1_score: 0.2975 - loss: 0.6451 - val_f1_score: 0.4839 - val_loss: 0.6767\n",
            "Epoch 5/20\n",
            "\u001b[1m45/45\u001b[0m \u001b[32m━━━━━━━━━━━━━━━━━━━━\u001b[0m\u001b[37m\u001b[0m \u001b[1m2s\u001b[0m 37ms/step - f1_score: 0.3818 - loss: 0.6336 - val_f1_score: 0.4571 - val_loss: 0.6660\n",
            "Epoch 6/20\n",
            "\u001b[1m45/45\u001b[0m \u001b[32m━━━━━━━━━━━━━━━━━━━━\u001b[0m\u001b[37m\u001b[0m \u001b[1m2s\u001b[0m 23ms/step - f1_score: 0.4138 - loss: 0.6248 - val_f1_score: 0.4259 - val_loss: 0.6743\n",
            "Epoch 7/20\n",
            "\u001b[1m45/45\u001b[0m \u001b[32m━━━━━━━━━━━━━━━━━━━━\u001b[0m\u001b[37m\u001b[0m \u001b[1m1s\u001b[0m 24ms/step - f1_score: 0.4523 - loss: 0.6149 - val_f1_score: 0.5535 - val_loss: 0.7001\n",
            "Epoch 8/20\n",
            "\u001b[1m45/45\u001b[0m \u001b[32m━━━━━━━━━━━━━━━━━━━━\u001b[0m\u001b[37m\u001b[0m \u001b[1m1s\u001b[0m 23ms/step - f1_score: 0.4019 - loss: 0.6269 - val_f1_score: 0.2553 - val_loss: 0.6940\n",
            "Epoch 9/20\n",
            "\u001b[1m45/45\u001b[0m \u001b[32m━━━━━━━━━━━━━━━━━━━━\u001b[0m\u001b[37m\u001b[0m \u001b[1m1s\u001b[0m 23ms/step - f1_score: 0.2826 - loss: 0.6423 - val_f1_score: 0.4724 - val_loss: 0.6847\n",
            "Epoch 10/20\n",
            "\u001b[1m45/45\u001b[0m \u001b[32m━━━━━━━━━━━━━━━━━━━━\u001b[0m\u001b[37m\u001b[0m \u001b[1m1s\u001b[0m 24ms/step - f1_score: 0.4959 - loss: 0.6071 - val_f1_score: 0.4516 - val_loss: 0.6773\n",
            "Epoch 11/20\n",
            "\u001b[1m45/45\u001b[0m \u001b[32m━━━━━━━━━━━━━━━━━━━━\u001b[0m\u001b[37m\u001b[0m \u001b[1m1s\u001b[0m 24ms/step - f1_score: 0.5291 - loss: 0.5927 - val_f1_score: 0.4882 - val_loss: 0.6839\n",
            "Epoch 12/20\n",
            "\u001b[1m45/45\u001b[0m \u001b[32m━━━━━━━━━━━━━━━━━━━━\u001b[0m\u001b[37m\u001b[0m \u001b[1m1s\u001b[0m 23ms/step - f1_score: 0.5670 - loss: 0.5777 - val_f1_score: 0.4870 - val_loss: 0.6780\n",
            "Epoch 13/20\n",
            "\u001b[1m45/45\u001b[0m \u001b[32m━━━━━━━━━━━━━━━━━━━━\u001b[0m\u001b[37m\u001b[0m \u001b[1m1s\u001b[0m 23ms/step - f1_score: 0.5711 - loss: 0.5724 - val_f1_score: 0.4286 - val_loss: 0.6605\n",
            "Epoch 14/20\n",
            "\u001b[1m45/45\u001b[0m \u001b[32m━━━━━━━━━━━━━━━━━━━━\u001b[0m\u001b[37m\u001b[0m \u001b[1m2s\u001b[0m 35ms/step - f1_score: 0.5752 - loss: 0.5678 - val_f1_score: 0.5303 - val_loss: 0.6809\n",
            "Epoch 15/20\n",
            "\u001b[1m45/45\u001b[0m \u001b[32m━━━━━━━━━━━━━━━━━━━━\u001b[0m\u001b[37m\u001b[0m \u001b[1m2s\u001b[0m 24ms/step - f1_score: 0.5987 - loss: 0.5442 - val_f1_score: 0.4912 - val_loss: 0.6952\n",
            "Epoch 16/20\n",
            "\u001b[1m45/45\u001b[0m \u001b[32m━━━━━━━━━━━━━━━━━━━━\u001b[0m\u001b[37m\u001b[0m \u001b[1m1s\u001b[0m 24ms/step - f1_score: 0.6045 - loss: 0.5279 - val_f1_score: 0.5468 - val_loss: 0.7081\n",
            "Epoch 17/20\n",
            "\u001b[1m45/45\u001b[0m \u001b[32m━━━━━━━━━━━━━━━━━━━━\u001b[0m\u001b[37m\u001b[0m \u001b[1m1s\u001b[0m 24ms/step - f1_score: 0.6259 - loss: 0.5145 - val_f1_score: 0.5532 - val_loss: 0.6912\n",
            "Epoch 18/20\n",
            "\u001b[1m45/45\u001b[0m \u001b[32m━━━━━━━━━━━━━━━━━━━━\u001b[0m\u001b[37m\u001b[0m \u001b[1m1s\u001b[0m 24ms/step - f1_score: 0.6791 - loss: 0.4933 - val_f1_score: 0.5120 - val_loss: 0.7377\n",
            "Epoch 19/20\n",
            "\u001b[1m45/45\u001b[0m \u001b[32m━━━━━━━━━━━━━━━━━━━━\u001b[0m\u001b[37m\u001b[0m \u001b[1m1s\u001b[0m 24ms/step - f1_score: 0.6980 - loss: 0.4737 - val_f1_score: 0.5352 - val_loss: 0.7508\n",
            "Epoch 20/20\n",
            "\u001b[1m45/45\u001b[0m \u001b[32m━━━━━━━━━━━━━━━━━━━━\u001b[0m\u001b[37m\u001b[0m \u001b[1m1s\u001b[0m 23ms/step - f1_score: 0.6966 - loss: 0.4626 - val_f1_score: 0.5493 - val_loss: 0.7578\n"
          ]
        },
        {
          "output_type": "display_data",
          "data": {
            "text/plain": [
              "<Figure size 1000x600 with 1 Axes>"
            ],
            "image/png": "[encoded data removed]"
          },
          "metadata": {}
        },
        {
          "output_type": "stream",
          "name": "stdout",
          "text": [
            "\n",
            "\n",
            "###### Evaluating models with seed 50 ######\n",
            "Training and evaluating model: model_base\n",
            "Epoch 1/20\n",
            "\u001b[1m45/45\u001b[0m \u001b[32m━━━━━━━━━━━━━━━━━━━━\u001b[0m\u001b[37m\u001b[0m \u001b[1m4s\u001b[0m 46ms/step - f1_score: 0.1226 - loss: 0.6823 - val_f1_score: 0.0000e+00 - val_loss: 0.6896\n",
            "Epoch 2/20\n",
            "\u001b[1m45/45\u001b[0m \u001b[32m━━━━━━━━━━━━━━━━━━━━\u001b[0m\u001b[37m\u001b[0m \u001b[1m2s\u001b[0m 27ms/step - f1_score: 0.0782 - loss: 0.6696 - val_f1_score: 0.0000e+00 - val_loss: 0.6988\n",
            "Epoch 3/20\n",
            "\u001b[1m45/45\u001b[0m \u001b[32m━━━━━━━━━━━━━━━━━━━━\u001b[0m\u001b[37m\u001b[0m \u001b[1m1s\u001b[0m 24ms/step - f1_score: 0.1905 - loss: 0.6658 - val_f1_score: 0.0000e+00 - val_loss: 0.6977\n",
            "Epoch 4/20\n",
            "\u001b[1m45/45\u001b[0m \u001b[32m━━━━━━━━━━━━━━━━━━━━\u001b[0m\u001b[37m\u001b[0m \u001b[1m1s\u001b[0m 24ms/step - f1_score: 0.2147 - loss: 0.6619 - val_f1_score: 0.0000e+00 - val_loss: 0.7075\n",
            "Epoch 5/20\n",
            "\u001b[1m45/45\u001b[0m \u001b[32m━━━━━━━━━━━━━━━━━━━━\u001b[0m\u001b[37m\u001b[0m \u001b[1m1s\u001b[0m 24ms/step - f1_score: 0.3362 - loss: 0.6526 - val_f1_score: 0.2308 - val_loss: 0.6736\n",
            "Epoch 6/20\n",
            "\u001b[1m45/45\u001b[0m \u001b[32m━━━━━━━━━━━━━━━━━━━━\u001b[0m\u001b[37m\u001b[0m \u001b[1m1s\u001b[0m 23ms/step - f1_score: 0.4025 - loss: 0.6383 - val_f1_score: 0.1096 - val_loss: 0.6859\n",
            "Epoch 7/20\n",
            "\u001b[1m45/45\u001b[0m \u001b[32m━━━━━━━━━━━━━━━━━━━━\u001b[0m\u001b[37m\u001b[0m \u001b[1m1s\u001b[0m 23ms/step - f1_score: 0.3810 - loss: 0.6338 - val_f1_score: 0.2927 - val_loss: 0.6747\n",
            "Epoch 8/20\n",
            "\u001b[1m45/45\u001b[0m \u001b[32m━━━━━━━━━━━━━━━━━━━━\u001b[0m\u001b[37m\u001b[0m \u001b[1m1s\u001b[0m 24ms/step - f1_score: 0.4472 - loss: 0.6200 - val_f1_score: 0.2857 - val_loss: 0.6852\n",
            "Epoch 9/20\n",
            "\u001b[1m45/45\u001b[0m \u001b[32m━━━━━━━━━━━━━━━━━━━━\u001b[0m\u001b[37m\u001b[0m \u001b[1m1s\u001b[0m 23ms/step - f1_score: 0.4172 - loss: 0.6399 - val_f1_score: 0.2727 - val_loss: 0.6825\n",
            "Epoch 10/20\n",
            "\u001b[1m45/45\u001b[0m \u001b[32m━━━━━━━━━━━━━━━━━━━━\u001b[0m\u001b[37m\u001b[0m \u001b[1m1s\u001b[0m 23ms/step - f1_score: 0.3774 - loss: 0.6296 - val_f1_score: 0.1928 - val_loss: 0.7061\n",
            "Epoch 11/20\n",
            "\u001b[1m45/45\u001b[0m \u001b[32m━━━━━━━━━━━━━━━━━━━━\u001b[0m\u001b[37m\u001b[0m \u001b[1m2s\u001b[0m 35ms/step - f1_score: 0.4151 - loss: 0.6239 - val_f1_score: 0.2889 - val_loss: 0.7101\n",
            "Epoch 12/20\n",
            "\u001b[1m45/45\u001b[0m \u001b[32m━━━━━━━━━━━━━━━━━━━━\u001b[0m\u001b[37m\u001b[0m \u001b[1m2s\u001b[0m 34ms/step - f1_score: 0.4500 - loss: 0.6111 - val_f1_score: 0.3077 - val_loss: 0.7224\n",
            "Epoch 13/20\n",
            "\u001b[1m45/45\u001b[0m \u001b[32m━━━━━━━━━━━━━━━━━━━━\u001b[0m\u001b[37m\u001b[0m \u001b[1m1s\u001b[0m 23ms/step - f1_score: 0.4756 - loss: 0.6048 - val_f1_score: 0.3333 - val_loss: 0.7302\n",
            "Epoch 14/20\n",
            "\u001b[1m45/45\u001b[0m \u001b[32m━━━━━━━━━━━━━━━━━━━━\u001b[0m\u001b[37m\u001b[0m \u001b[1m1s\u001b[0m 24ms/step - f1_score: 0.5412 - loss: 0.5861 - val_f1_score: 0.3636 - val_loss: 0.7371\n",
            "Epoch 15/20\n",
            "\u001b[1m45/45\u001b[0m \u001b[32m━━━━━━━━━━━━━━━━━━━━\u001b[0m\u001b[37m\u001b[0m \u001b[1m1s\u001b[0m 24ms/step - f1_score: 0.5530 - loss: 0.5730 - val_f1_score: 0.3366 - val_loss: 0.7370\n",
            "Epoch 16/20\n",
            "\u001b[1m45/45\u001b[0m \u001b[32m━━━━━━━━━━━━━━━━━━━━\u001b[0m\u001b[37m\u001b[0m \u001b[1m1s\u001b[0m 24ms/step - f1_score: 0.5716 - loss: 0.5626 - val_f1_score: 0.3670 - val_loss: 0.7200\n",
            "Epoch 17/20\n",
            "\u001b[1m45/45\u001b[0m \u001b[32m━━━━━━━━━━━━━━━━━━━━\u001b[0m\u001b[37m\u001b[0m \u001b[1m1s\u001b[0m 23ms/step - f1_score: 0.6169 - loss: 0.5482 - val_f1_score: 0.3486 - val_loss: 0.7483\n",
            "Epoch 18/20\n",
            "\u001b[1m45/45\u001b[0m \u001b[32m━━━━━━━━━━━━━━━━━━━━\u001b[0m\u001b[37m\u001b[0m \u001b[1m1s\u001b[0m 24ms/step - f1_score: 0.6436 - loss: 0.5209 - val_f1_score: 0.4034 - val_loss: 0.7482\n",
            "Epoch 19/20\n",
            "\u001b[1m45/45\u001b[0m \u001b[32m━━━━━━━━━━━━━━━━━━━━\u001b[0m\u001b[37m\u001b[0m \u001b[1m1s\u001b[0m 23ms/step - f1_score: 0.6547 - loss: 0.5126 - val_f1_score: 0.4252 - val_loss: 0.7854\n",
            "Epoch 20/20\n",
            "\u001b[1m45/45\u001b[0m \u001b[32m━━━━━━━━━━━━━━━━━━━━\u001b[0m\u001b[37m\u001b[0m \u001b[1m1s\u001b[0m 24ms/step - f1_score: 0.6854 - loss: 0.4876 - val_f1_score: 0.4733 - val_loss: 0.7998\n"
          ]
        },
        {
          "output_type": "display_data",
          "data": {
            "text/plain": [
              "<Figure size 1000x600 with 1 Axes>"
            ],
            "image/png": "[encoded data removed]"
          },
          "metadata": {}
        },
        {
          "output_type": "stream",
          "name": "stdout",
          "text": [
            "\n",
            "\n",
            "###### Evaluating models with seed 84 ######\n",
            "Training and evaluating model: model_base\n",
            "Epoch 1/20\n",
            "\u001b[1m45/45\u001b[0m \u001b[32m━━━━━━━━━━━━━━━━━━━━\u001b[0m\u001b[37m\u001b[0m \u001b[1m5s\u001b[0m 36ms/step - f1_score: 0.1311 - loss: 0.6837 - val_f1_score: 0.0000e+00 - val_loss: 0.6839\n",
            "Epoch 2/20\n",
            "\u001b[1m45/45\u001b[0m \u001b[32m━━━━━━━━━━━━━━━━━━━━\u001b[0m\u001b[37m\u001b[0m \u001b[1m1s\u001b[0m 24ms/step - f1_score: 0.0654 - loss: 0.6685 - val_f1_score: 0.0286 - val_loss: 0.6818\n",
            "Epoch 3/20\n",
            "\u001b[1m45/45\u001b[0m \u001b[32m━━━━━━━━━━━━━━━━━━━━\u001b[0m\u001b[37m\u001b[0m \u001b[1m1s\u001b[0m 24ms/step - f1_score: 0.1433 - loss: 0.6652 - val_f1_score: 0.1096 - val_loss: 0.6794\n",
            "Epoch 4/20\n",
            "\u001b[1m45/45\u001b[0m \u001b[32m━━━━━━━━━━━━━━━━━━━━\u001b[0m\u001b[37m\u001b[0m \u001b[1m1s\u001b[0m 24ms/step - f1_score: 0.2035 - loss: 0.6607 - val_f1_score: 0.1282 - val_loss: 0.6779\n",
            "Epoch 5/20\n",
            "\u001b[1m45/45\u001b[0m \u001b[32m━━━━━━━━━━━━━━━━━━━━\u001b[0m\u001b[37m\u001b[0m \u001b[1m1s\u001b[0m 24ms/step - f1_score: 0.2484 - loss: 0.6553 - val_f1_score: 0.1316 - val_loss: 0.6780\n",
            "Epoch 6/20\n",
            "\u001b[1m45/45\u001b[0m \u001b[32m━━━━━━━━━━━━━━━━━━━━\u001b[0m\u001b[37m\u001b[0m \u001b[1m1s\u001b[0m 24ms/step - f1_score: 0.3172 - loss: 0.6496 - val_f1_score: 0.1538 - val_loss: 0.6797\n",
            "Epoch 7/20\n",
            "\u001b[1m45/45\u001b[0m \u001b[32m━━━━━━━━━━━━━━━━━━━━\u001b[0m\u001b[37m\u001b[0m \u001b[1m1s\u001b[0m 24ms/step - f1_score: 0.3312 - loss: 0.6430 - val_f1_score: 0.2619 - val_loss: 0.6773\n",
            "Epoch 8/20\n",
            "\u001b[1m45/45\u001b[0m \u001b[32m━━━━━━━━━━━━━━━━━━━━\u001b[0m\u001b[37m\u001b[0m \u001b[1m1s\u001b[0m 24ms/step - f1_score: 0.4225 - loss: 0.6327 - val_f1_score: 0.3218 - val_loss: 0.6766\n",
            "Epoch 9/20\n",
            "\u001b[1m45/45\u001b[0m \u001b[32m━━━━━━━━━━━━━━━━━━━━\u001b[0m\u001b[37m\u001b[0m \u001b[1m1s\u001b[0m 30ms/step - f1_score: 0.4237 - loss: 0.6238 - val_f1_score: 0.4040 - val_loss: 0.6699\n",
            "Epoch 10/20\n",
            "\u001b[1m45/45\u001b[0m \u001b[32m━━━━━━━━━━━━━━━━━━━━\u001b[0m\u001b[37m\u001b[0m \u001b[1m2s\u001b[0m 34ms/step - f1_score: 0.4784 - loss: 0.6125 - val_f1_score: 0.3111 - val_loss: 0.6824\n",
            "Epoch 11/20\n",
            "\u001b[1m45/45\u001b[0m \u001b[32m━━━━━━━━━━━━━━━━━━━━\u001b[0m\u001b[37m\u001b[0m \u001b[1m1s\u001b[0m 29ms/step - f1_score: 0.4854 - loss: 0.6045 - val_f1_score: 0.4082 - val_loss: 0.6764\n",
            "Epoch 12/20\n",
            "\u001b[1m45/45\u001b[0m \u001b[32m━━━━━━━━━━━━━━━━━━━━\u001b[0m\u001b[37m\u001b[0m \u001b[1m2s\u001b[0m 23ms/step - f1_score: 0.5333 - loss: 0.5876 - val_f1_score: 0.3918 - val_loss: 0.6839\n",
            "Epoch 13/20\n",
            "\u001b[1m45/45\u001b[0m \u001b[32m━━━━━━━━━━━━━━━━━━━━\u001b[0m\u001b[37m\u001b[0m \u001b[1m1s\u001b[0m 23ms/step - f1_score: 0.5535 - loss: 0.5738 - val_f1_score: 0.4510 - val_loss: 0.6895\n",
            "Epoch 14/20\n",
            "\u001b[1m45/45\u001b[0m \u001b[32m━━━━━━━━━━━━━━━━━━━━\u001b[0m\u001b[37m\u001b[0m \u001b[1m1s\u001b[0m 24ms/step - f1_score: 0.5899 - loss: 0.5615 - val_f1_score: 0.4158 - val_loss: 0.7306\n",
            "Epoch 15/20\n",
            "\u001b[1m45/45\u001b[0m \u001b[32m━━━━━━━━━━━━━━━━━━━━\u001b[0m\u001b[37m\u001b[0m \u001b[1m1s\u001b[0m 24ms/step - f1_score: 0.6126 - loss: 0.5488 - val_f1_score: 0.4231 - val_loss: 0.7325\n",
            "Epoch 16/20\n",
            "\u001b[1m45/45\u001b[0m \u001b[32m━━━━━━━━━━━━━━━━━━━━\u001b[0m\u001b[37m\u001b[0m \u001b[1m1s\u001b[0m 24ms/step - f1_score: 0.6414 - loss: 0.5339 - val_f1_score: 0.4356 - val_loss: 0.7680\n",
            "Epoch 17/20\n",
            "\u001b[1m45/45\u001b[0m \u001b[32m━━━━━━━━━━━━━━━━━━━━\u001b[0m\u001b[37m\u001b[0m \u001b[1m1s\u001b[0m 23ms/step - f1_score: 0.6502 - loss: 0.5231 - val_f1_score: 0.4828 - val_loss: 0.7732\n",
            "Epoch 18/20\n",
            "\u001b[1m45/45\u001b[0m \u001b[32m━━━━━━━━━━━━━━━━━━━━\u001b[0m\u001b[37m\u001b[0m \u001b[1m1s\u001b[0m 23ms/step - f1_score: 0.6955 - loss: 0.4919 - val_f1_score: 0.5000 - val_loss: 0.7700\n",
            "Epoch 19/20\n",
            "\u001b[1m45/45\u001b[0m \u001b[32m━━━━━━━━━━━━━━━━━━━━\u001b[0m\u001b[37m\u001b[0m \u001b[1m1s\u001b[0m 31ms/step - f1_score: 0.6899 - loss: 0.4765 - val_f1_score: 0.4960 - val_loss: 0.7971\n",
            "Epoch 20/20\n",
            "\u001b[1m45/45\u001b[0m \u001b[32m━━━━━━━━━━━━━━━━━━━━\u001b[0m\u001b[37m\u001b[0m \u001b[1m2s\u001b[0m 35ms/step - f1_score: 0.7406 - loss: 0.4506 - val_f1_score: 0.4793 - val_loss: 0.8354\n"
          ]
        },
        {
          "output_type": "display_data",
          "data": {
            "text/plain": [
              "<Figure size 1000x600 with 1 Axes>"
            ],
            "image/png": "[encoded data removed]"
          },
          "metadata": {}
        },
        {
          "output_type": "stream",
          "name": "stdout",
          "text": [
            "\n",
            "\n",
            "\n",
            " ###### Best model: model_base with macro F1-score: 0.5006 ######\n"
          ]
        }
      ]
    },
    {
      "cell_type": "code",
      "source": [
        "# Print detailed results\n",
        "for result in results:\n",
        "    print(f\"Seed: {result['seed']}, Model: {result['model_name']}, Macro F1: {result['macro_f1']:.4f}\")"
      ],
      "metadata": {
        "colab": {
          "base_uri": "https://localhost:8080/"
        },
        "id": "AjGUZYCG0ODY",
        "outputId": "144b294c-d0b5-4507-c261-98b745119a64"
      },
      "execution_count": 161,
      "outputs": [
        {
          "output_type": "stream",
          "name": "stdout",
          "text": [
            "Seed: 42, Model: model_base, Macro F1: 0.5493\n",
            "Seed: 50, Model: model_base, Macro F1: 0.4733\n",
            "Seed: 84, Model: model_base, Macro F1: 0.4793\n"
          ]
        }
      ]
    }
  ],
  "metadata": {
    "accelerator": "GPU",
    "colab": {
      "gpuType": "T4",
      "provenance": [],
      "toc_visible": true
    },
    "kernelspec": {
      "display_name": "Python 3",
      "name": "python3"
    },
    "language_info": {
      "codemirror_mode": {
        "name": "ipython",
        "version": 3
      },
      "file_extension": ".py",
      "mimetype": "text/x-python",
      "name": "python",
      "nbconvert_exporter": "python",
      "pygments_lexer": "ipython3",
      "version": "3.9.1rc1"
    }
  },
  "nbformat": 4,
  "nbformat_minor": 0
}